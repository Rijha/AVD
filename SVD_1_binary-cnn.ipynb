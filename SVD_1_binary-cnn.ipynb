{
 "cells": [
  {
   "cell_type": "markdown",
   "metadata": {},
   "source": [
    "# Software Vulnerability Detection using Deep Learning (Experiment Replication)"
   ]
  },
  {
   "cell_type": "markdown",
   "metadata": {},
   "source": [
    "### Multicolumn experiment (All CWEs and others)"
   ]
  },
  {
   "cell_type": "markdown",
   "metadata": {},
   "source": [
    "* This is from Russell et. al work (Automated Vulnerability Detection in Source Code Using Deep Representation Learning) https://arxiv.org/abs/1807.04320\n",
    "* Datasets downloaded from https://osf.io/d45bw/\n",
    "* Datasets distribution: Training (80%), Validation (10%), Testing (10%)\n",
    "* The dataset consists of the source code of 1.27 million functions mined from open source software, labeled by static analysis for potential vulnerabilities.\n",
    "* Each function's raw source code, starting from the function name, is stored as a variable-length UTF-8 string. Five binary 'vulnerability' labels are provided for each function, corresponding to the four most common CWEs in our data plus all others: \n",
    " * CWE-120 (3.7% of functions)\n",
    " * CWE-119 (1.9% of functions)\n",
    " * CWE-469 (0.95% of functions)\n",
    " * CWE-476 (0.21% of functions)\n",
    " * CWE-other (2.7% of functions)\n",
    "* Functions may have more than one detected CWE each.\n",
    "* Python 3.6 and Tensorflow 2.0.0"
   ]
  },
  {
   "cell_type": "code",
   "execution_count": 1,
   "metadata": {},
   "outputs": [],
   "source": [
    "import mlflow"
   ]
  },
  {
   "cell_type": "code",
   "execution_count": 2,
   "metadata": {},
   "outputs": [],
   "source": [
    "import os "
   ]
  },
  {
   "cell_type": "markdown",
   "metadata": {},
   "source": [
    "## Pre-processing"
   ]
  },
  {
   "cell_type": "markdown",
   "metadata": {},
   "source": [
    "Converting the HDF5 files for training/validation/testing datasets to python pickle for ease of future usage"
   ]
  },
  {
   "cell_type": "code",
   "execution_count": 3,
   "metadata": {},
   "outputs": [],
   "source": [
    "import h5py\n",
    "import pandas as pd\n"
   ]
  },
  {
   "cell_type": "code",
   "execution_count": 4,
   "metadata": {},
   "outputs": [],
   "source": [
    "#pip install h5py==2.10.0"
   ]
  },
  {
   "cell_type": "code",
   "execution_count": 5,
   "metadata": {},
   "outputs": [
    {
     "data": {
      "text/plain": [
       "'2.10.0'"
      ]
     },
     "execution_count": 5,
     "metadata": {},
     "output_type": "execute_result"
    }
   ],
   "source": [
    "h5py.__version__"
   ]
  },
  {
   "cell_type": "code",
   "execution_count": 6,
   "metadata": {},
   "outputs": [
    {
     "data": {
      "text/plain": [
       "'2.4.4'"
      ]
     },
     "execution_count": 6,
     "metadata": {},
     "output_type": "execute_result"
    }
   ],
   "source": [
    "import tensorflow as tf\n",
    "tf.__version__"
   ]
  },
  {
   "cell_type": "code",
   "execution_count": 7,
   "metadata": {},
   "outputs": [
    {
     "data": {
      "text/plain": [
       "'2.4.0'"
      ]
     },
     "execution_count": 7,
     "metadata": {},
     "output_type": "execute_result"
    }
   ],
   "source": [
    "tf.keras.__version__"
   ]
  },
  {
   "cell_type": "code",
   "execution_count": 8,
   "metadata": {},
   "outputs": [],
   "source": [
    "#mydf['CWE-276']=list(data['CWE-276']); mydf['CWE-532']=list(data['CWE-532']); mydf['CWE-295']=list(data['CWE-295']); mydf['CWE-89']=list(data['CWE-89']); mydf['CWE-327']=list(data['CWE-327']);  mydf['CWE-312']=list(data['CWE-312']);  mydf['CWE-330']=list(data['CWE-330']);  mydf['CWE-619']=list(data['CWE-619'])  ;  mydf['CWE-200']=list(data['CWE-200']) ;  mydf['CWE-749']=list(data['CWE-749']) ;  mydf['CWE-919']=list(data['CWE-919']) ;  mydf['CWE-250']=list(data['CWE-250']) ;  mydf['CWE-502']=list(data['CWE-502']) "
   ]
  },
  {
   "cell_type": "code",
   "execution_count": 9,
   "metadata": {},
   "outputs": [],
   "source": [
    "# for dataset in [mydf_train,mydf_val,mydf_test]:\n",
    "#      for col in range(3,15):\n",
    "#          if type(dataset.iloc[:,col]) is bool:\n",
    "#             dataset.iloc[:,col] = dataset.iloc[:,col].map({'FALSE': 0, 'TRUE': 1,'1':1,'0':0,'1.0':1,'0.0':0})\n",
    "         \n",
    "# mydf_train.head()"
   ]
  },
  {
   "cell_type": "code",
   "execution_count": 10,
   "metadata": {},
   "outputs": [],
   "source": [
    "# mydf_train.to_pickle(\"VDISC_train.pickle\")\n",
    "# mydf_val.to_pickle(\"VDISC_validate.pickle\")\n",
    "# mydf_test.to_pickle(\"VDISC_test.pickle\")"
   ]
  },
  {
   "cell_type": "markdown",
   "metadata": {},
   "source": [
    "## Exploratory Data Analysis"
   ]
  },
  {
   "cell_type": "markdown",
   "metadata": {},
   "source": [
    "### Importing processed datasets"
   ]
  },
  {
   "cell_type": "code",
   "execution_count": 11,
   "metadata": {},
   "outputs": [],
   "source": [
    "# train1=pd.read_pickle(\"VDISC_train.pickle\")\n",
    "# validate=pd.read_pickle(\"VDISC_validate.pickle\")\n",
    "# test=pd.read_pickle(\"VDISC_test.pickle\")"
   ]
  },
  {
   "cell_type": "code",
   "execution_count": 12,
   "metadata": {},
   "outputs": [],
   "source": [
    "data=pd.read_csv(\"DataSet1000.csv\")\n",
    "# validate=pd.read_csv()\n",
    "# test=pd.read_csv()"
   ]
  },
  {
   "cell_type": "code",
   "execution_count": 13,
   "metadata": {},
   "outputs": [
    {
     "data": {
      "text/html": [
       "<div>\n",
       "<style scoped>\n",
       "    .dataframe tbody tr th:only-of-type {\n",
       "        vertical-align: middle;\n",
       "    }\n",
       "\n",
       "    .dataframe tbody tr th {\n",
       "        vertical-align: top;\n",
       "    }\n",
       "\n",
       "    .dataframe thead th {\n",
       "        text-align: right;\n",
       "    }\n",
       "</style>\n",
       "<table border=\"1\" class=\"dataframe\">\n",
       "  <thead>\n",
       "    <tr style=\"text-align: right;\">\n",
       "      <th></th>\n",
       "      <th>Name</th>\n",
       "      <th>Category</th>\n",
       "      <th>Impact</th>\n",
       "      <th>CWE-749</th>\n",
       "      <th>CWE-312</th>\n",
       "      <th>CWE-295</th>\n",
       "      <th>CWE-276</th>\n",
       "      <th>CWE-327</th>\n",
       "      <th>CWE-330</th>\n",
       "      <th>CWE-200</th>\n",
       "      <th>CWE-89</th>\n",
       "      <th>CWE-919</th>\n",
       "      <th>CWE-649</th>\n",
       "      <th>CWE-250</th>\n",
       "    </tr>\n",
       "  </thead>\n",
       "  <tbody>\n",
       "    <tr>\n",
       "      <th>185268</th>\n",
       "      <td>private static String a(byte[] bArr) \\n       ...</td>\n",
       "      <td>1.0</td>\n",
       "      <td>NV</td>\n",
       "      <td>0</td>\n",
       "      <td>0</td>\n",
       "      <td>0</td>\n",
       "      <td>0</td>\n",
       "      <td>0</td>\n",
       "      <td>0</td>\n",
       "      <td>0</td>\n",
       "      <td>0</td>\n",
       "      <td>0</td>\n",
       "      <td>0</td>\n",
       "      <td>0</td>\n",
       "    </tr>\n",
       "    <tr>\n",
       "      <th>185269</th>\n",
       "      <td>static void a(a.az r9, java.io.File r10) throw...</td>\n",
       "      <td>1.0</td>\n",
       "      <td>NV</td>\n",
       "      <td>0</td>\n",
       "      <td>0</td>\n",
       "      <td>0</td>\n",
       "      <td>0</td>\n",
       "      <td>0</td>\n",
       "      <td>0</td>\n",
       "      <td>0</td>\n",
       "      <td>0</td>\n",
       "      <td>0</td>\n",
       "      <td>0</td>\n",
       "      <td>0</td>\n",
       "    </tr>\n",
       "    <tr>\n",
       "      <th>185270</th>\n",
       "      <td>public static void a(Runnable runnable) \\n    ...</td>\n",
       "      <td>1.0</td>\n",
       "      <td>NV</td>\n",
       "      <td>0</td>\n",
       "      <td>0</td>\n",
       "      <td>0</td>\n",
       "      <td>0</td>\n",
       "      <td>0</td>\n",
       "      <td>0</td>\n",
       "      <td>0</td>\n",
       "      <td>0</td>\n",
       "      <td>0</td>\n",
       "      <td>0</td>\n",
       "      <td>0</td>\n",
       "    </tr>\n",
       "    <tr>\n",
       "      <th>185271</th>\n",
       "      <td>public static String c(Context context) \\n    ...</td>\n",
       "      <td>1.0</td>\n",
       "      <td>NV</td>\n",
       "      <td>0</td>\n",
       "      <td>0</td>\n",
       "      <td>0</td>\n",
       "      <td>0</td>\n",
       "      <td>0</td>\n",
       "      <td>0</td>\n",
       "      <td>0</td>\n",
       "      <td>0</td>\n",
       "      <td>0</td>\n",
       "      <td>0</td>\n",
       "      <td>0</td>\n",
       "    </tr>\n",
       "    <tr>\n",
       "      <th>185272</th>\n",
       "      <td>private static String d(Context context) \\n   ...</td>\n",
       "      <td>1.0</td>\n",
       "      <td>NV</td>\n",
       "      <td>0</td>\n",
       "      <td>0</td>\n",
       "      <td>0</td>\n",
       "      <td>0</td>\n",
       "      <td>0</td>\n",
       "      <td>0</td>\n",
       "      <td>0</td>\n",
       "      <td>0</td>\n",
       "      <td>0</td>\n",
       "      <td>0</td>\n",
       "      <td>0</td>\n",
       "    </tr>\n",
       "  </tbody>\n",
       "</table>\n",
       "</div>"
      ],
      "text/plain": [
       "                                                     Name  Category Impact  \\\n",
       "185268  private static String a(byte[] bArr) \\n       ...       1.0     NV   \n",
       "185269  static void a(a.az r9, java.io.File r10) throw...       1.0     NV   \n",
       "185270  public static void a(Runnable runnable) \\n    ...       1.0     NV   \n",
       "185271  public static String c(Context context) \\n    ...       1.0     NV   \n",
       "185272  private static String d(Context context) \\n   ...       1.0     NV   \n",
       "\n",
       "        CWE-749  CWE-312  CWE-295  CWE-276  CWE-327  CWE-330  CWE-200  CWE-89  \\\n",
       "185268        0        0        0        0        0        0        0       0   \n",
       "185269        0        0        0        0        0        0        0       0   \n",
       "185270        0        0        0        0        0        0        0       0   \n",
       "185271        0        0        0        0        0        0        0       0   \n",
       "185272        0        0        0        0        0        0        0       0   \n",
       "\n",
       "        CWE-919  CWE-649  CWE-250  \n",
       "185268        0        0        0  \n",
       "185269        0        0        0  \n",
       "185270        0        0        0  \n",
       "185271        0        0        0  \n",
       "185272        0        0        0  "
      ]
     },
     "execution_count": 13,
     "metadata": {},
     "output_type": "execute_result"
    }
   ],
   "source": [
    "data.tail()"
   ]
  },
  {
   "cell_type": "code",
   "execution_count": 14,
   "metadata": {},
   "outputs": [],
   "source": [
    "#data[data['Impact'] == 'NV'].to_csv(\"DataSet_NV.csv\", index=False)"
   ]
  },
  {
   "cell_type": "code",
   "execution_count": 15,
   "metadata": {},
   "outputs": [],
   "source": [
    "#data[data['Impact'] == 'warning'].to_csv(\"DataSet_w.csv\", index=False)"
   ]
  },
  {
   "cell_type": "code",
   "execution_count": 16,
   "metadata": {},
   "outputs": [],
   "source": [
    "#data[data['Impact'] == 'high'].to_csv(\"DataSet_h.csv\", index=False)"
   ]
  },
  {
   "cell_type": "code",
   "execution_count": 17,
   "metadata": {},
   "outputs": [],
   "source": [
    "data=pd.read_csv(\"DataSet_whnv.csv\")"
   ]
  },
  {
   "cell_type": "code",
   "execution_count": 18,
   "metadata": {},
   "outputs": [
    {
     "data": {
      "text/html": [
       "<div>\n",
       "<style scoped>\n",
       "    .dataframe tbody tr th:only-of-type {\n",
       "        vertical-align: middle;\n",
       "    }\n",
       "\n",
       "    .dataframe tbody tr th {\n",
       "        vertical-align: top;\n",
       "    }\n",
       "\n",
       "    .dataframe thead th {\n",
       "        text-align: right;\n",
       "    }\n",
       "</style>\n",
       "<table border=\"1\" class=\"dataframe\">\n",
       "  <thead>\n",
       "    <tr style=\"text-align: right;\">\n",
       "      <th></th>\n",
       "      <th>Name</th>\n",
       "      <th>Category</th>\n",
       "      <th>Impact</th>\n",
       "      <th>CWE-749</th>\n",
       "      <th>CWE-312</th>\n",
       "      <th>CWE-295</th>\n",
       "      <th>CWE-276</th>\n",
       "      <th>CWE-327</th>\n",
       "      <th>CWE-330</th>\n",
       "      <th>CWE-200</th>\n",
       "      <th>CWE-89</th>\n",
       "      <th>CWE-919</th>\n",
       "      <th>CWE-649</th>\n",
       "      <th>CWE-250</th>\n",
       "    </tr>\n",
       "  </thead>\n",
       "  <tbody>\n",
       "    <tr>\n",
       "      <th>0</th>\n",
       "      <td>public void addJavascriptObject(Object obj, St...</td>\n",
       "      <td>0</td>\n",
       "      <td>warning</td>\n",
       "      <td>1</td>\n",
       "      <td>0</td>\n",
       "      <td>0</td>\n",
       "      <td>0</td>\n",
       "      <td>0</td>\n",
       "      <td>0</td>\n",
       "      <td>0</td>\n",
       "      <td>0</td>\n",
       "      <td>0</td>\n",
       "      <td>0</td>\n",
       "      <td>0</td>\n",
       "    </tr>\n",
       "    <tr>\n",
       "      <th>1</th>\n",
       "      <td>public void initialize() \\n        setPlacemen...</td>\n",
       "      <td>0</td>\n",
       "      <td>warning</td>\n",
       "      <td>1</td>\n",
       "      <td>0</td>\n",
       "      <td>0</td>\n",
       "      <td>0</td>\n",
       "      <td>0</td>\n",
       "      <td>0</td>\n",
       "      <td>0</td>\n",
       "      <td>0</td>\n",
       "      <td>0</td>\n",
       "      <td>0</td>\n",
       "      <td>0</td>\n",
       "    </tr>\n",
       "    <tr>\n",
       "      <th>2</th>\n",
       "      <td>public void initialize() \\n        setPlacemen...</td>\n",
       "      <td>0</td>\n",
       "      <td>warning</td>\n",
       "      <td>1</td>\n",
       "      <td>0</td>\n",
       "      <td>0</td>\n",
       "      <td>0</td>\n",
       "      <td>0</td>\n",
       "      <td>0</td>\n",
       "      <td>0</td>\n",
       "      <td>0</td>\n",
       "      <td>0</td>\n",
       "      <td>0</td>\n",
       "      <td>0</td>\n",
       "    </tr>\n",
       "    <tr>\n",
       "      <th>3</th>\n",
       "      <td>public void displayRichMedia(final JSONObject ...</td>\n",
       "      <td>0</td>\n",
       "      <td>warning</td>\n",
       "      <td>1</td>\n",
       "      <td>0</td>\n",
       "      <td>0</td>\n",
       "      <td>0</td>\n",
       "      <td>0</td>\n",
       "      <td>0</td>\n",
       "      <td>0</td>\n",
       "      <td>0</td>\n",
       "      <td>0</td>\n",
       "      <td>0</td>\n",
       "      <td>0</td>\n",
       "    </tr>\n",
       "    <tr>\n",
       "      <th>4</th>\n",
       "      <td>this.webView.addJavascriptInterface(this.jsBri...</td>\n",
       "      <td>0</td>\n",
       "      <td>warning</td>\n",
       "      <td>1</td>\n",
       "      <td>0</td>\n",
       "      <td>0</td>\n",
       "      <td>0</td>\n",
       "      <td>0</td>\n",
       "      <td>0</td>\n",
       "      <td>0</td>\n",
       "      <td>0</td>\n",
       "      <td>0</td>\n",
       "      <td>0</td>\n",
       "      <td>0</td>\n",
       "    </tr>\n",
       "  </tbody>\n",
       "</table>\n",
       "</div>"
      ],
      "text/plain": [
       "                                                Name  Category   Impact  \\\n",
       "0  public void addJavascriptObject(Object obj, St...         0  warning   \n",
       "1  public void initialize() \\n        setPlacemen...         0  warning   \n",
       "2  public void initialize() \\n        setPlacemen...         0  warning   \n",
       "3  public void displayRichMedia(final JSONObject ...         0  warning   \n",
       "4  this.webView.addJavascriptInterface(this.jsBri...         0  warning   \n",
       "\n",
       "   CWE-749  CWE-312  CWE-295  CWE-276  CWE-327  CWE-330  CWE-200  CWE-89  \\\n",
       "0        1        0        0        0        0        0        0       0   \n",
       "1        1        0        0        0        0        0        0       0   \n",
       "2        1        0        0        0        0        0        0       0   \n",
       "3        1        0        0        0        0        0        0       0   \n",
       "4        1        0        0        0        0        0        0       0   \n",
       "\n",
       "   CWE-919  CWE-649  CWE-250  \n",
       "0        0        0        0  \n",
       "1        0        0        0  \n",
       "2        0        0        0  \n",
       "3        0        0        0  \n",
       "4        0        0        0  "
      ]
     },
     "execution_count": 18,
     "metadata": {},
     "output_type": "execute_result"
    }
   ],
   "source": [
    "data.head()"
   ]
  },
  {
   "cell_type": "code",
   "execution_count": 19,
   "metadata": {},
   "outputs": [],
   "source": [
    "for dataset in [data]:\n",
    "    for col in range(2,14):\n",
    "            dataset.iloc[:,col] = dataset.iloc[:,col].map({'False':0, 'True':1,False:0, True:1,'1':1,'0':0,'1.0':1,'0.0':0, 'NV':1, 'warning':0, 'high': 0})\n",
    "                    \n",
    "            \n",
    "            \n",
    "data.to_csv(\"DataSet_b.csv\",index=False)\n"
   ]
  },
  {
   "cell_type": "code",
   "execution_count": 20,
   "metadata": {},
   "outputs": [
    {
     "data": {
      "text/html": [
       "<div>\n",
       "<style scoped>\n",
       "    .dataframe tbody tr th:only-of-type {\n",
       "        vertical-align: middle;\n",
       "    }\n",
       "\n",
       "    .dataframe tbody tr th {\n",
       "        vertical-align: top;\n",
       "    }\n",
       "\n",
       "    .dataframe thead th {\n",
       "        text-align: right;\n",
       "    }\n",
       "</style>\n",
       "<table border=\"1\" class=\"dataframe\">\n",
       "  <thead>\n",
       "    <tr style=\"text-align: right;\">\n",
       "      <th></th>\n",
       "      <th>Name</th>\n",
       "      <th>Category</th>\n",
       "      <th>Impact</th>\n",
       "      <th>CWE-749</th>\n",
       "      <th>CWE-312</th>\n",
       "      <th>CWE-295</th>\n",
       "      <th>CWE-276</th>\n",
       "      <th>CWE-327</th>\n",
       "      <th>CWE-330</th>\n",
       "      <th>CWE-200</th>\n",
       "      <th>CWE-89</th>\n",
       "      <th>CWE-919</th>\n",
       "      <th>CWE-649</th>\n",
       "      <th>CWE-250</th>\n",
       "    </tr>\n",
       "  </thead>\n",
       "  <tbody>\n",
       "    <tr>\n",
       "      <th>0</th>\n",
       "      <td>public void addJavascriptObject(Object obj, St...</td>\n",
       "      <td>0</td>\n",
       "      <td>0</td>\n",
       "      <td>1</td>\n",
       "      <td>0</td>\n",
       "      <td>0</td>\n",
       "      <td>0</td>\n",
       "      <td>0</td>\n",
       "      <td>0</td>\n",
       "      <td>0</td>\n",
       "      <td>0</td>\n",
       "      <td>0</td>\n",
       "      <td>0</td>\n",
       "      <td>0</td>\n",
       "    </tr>\n",
       "    <tr>\n",
       "      <th>1</th>\n",
       "      <td>public void initialize() \\n        setPlacemen...</td>\n",
       "      <td>0</td>\n",
       "      <td>0</td>\n",
       "      <td>1</td>\n",
       "      <td>0</td>\n",
       "      <td>0</td>\n",
       "      <td>0</td>\n",
       "      <td>0</td>\n",
       "      <td>0</td>\n",
       "      <td>0</td>\n",
       "      <td>0</td>\n",
       "      <td>0</td>\n",
       "      <td>0</td>\n",
       "      <td>0</td>\n",
       "    </tr>\n",
       "    <tr>\n",
       "      <th>2</th>\n",
       "      <td>public void initialize() \\n        setPlacemen...</td>\n",
       "      <td>0</td>\n",
       "      <td>0</td>\n",
       "      <td>1</td>\n",
       "      <td>0</td>\n",
       "      <td>0</td>\n",
       "      <td>0</td>\n",
       "      <td>0</td>\n",
       "      <td>0</td>\n",
       "      <td>0</td>\n",
       "      <td>0</td>\n",
       "      <td>0</td>\n",
       "      <td>0</td>\n",
       "      <td>0</td>\n",
       "    </tr>\n",
       "    <tr>\n",
       "      <th>3</th>\n",
       "      <td>public void displayRichMedia(final JSONObject ...</td>\n",
       "      <td>0</td>\n",
       "      <td>0</td>\n",
       "      <td>1</td>\n",
       "      <td>0</td>\n",
       "      <td>0</td>\n",
       "      <td>0</td>\n",
       "      <td>0</td>\n",
       "      <td>0</td>\n",
       "      <td>0</td>\n",
       "      <td>0</td>\n",
       "      <td>0</td>\n",
       "      <td>0</td>\n",
       "      <td>0</td>\n",
       "    </tr>\n",
       "    <tr>\n",
       "      <th>4</th>\n",
       "      <td>this.webView.addJavascriptInterface(this.jsBri...</td>\n",
       "      <td>0</td>\n",
       "      <td>0</td>\n",
       "      <td>1</td>\n",
       "      <td>0</td>\n",
       "      <td>0</td>\n",
       "      <td>0</td>\n",
       "      <td>0</td>\n",
       "      <td>0</td>\n",
       "      <td>0</td>\n",
       "      <td>0</td>\n",
       "      <td>0</td>\n",
       "      <td>0</td>\n",
       "      <td>0</td>\n",
       "    </tr>\n",
       "  </tbody>\n",
       "</table>\n",
       "</div>"
      ],
      "text/plain": [
       "                                                Name  Category  Impact  \\\n",
       "0  public void addJavascriptObject(Object obj, St...         0       0   \n",
       "1  public void initialize() \\n        setPlacemen...         0       0   \n",
       "2  public void initialize() \\n        setPlacemen...         0       0   \n",
       "3  public void displayRichMedia(final JSONObject ...         0       0   \n",
       "4  this.webView.addJavascriptInterface(this.jsBri...         0       0   \n",
       "\n",
       "   CWE-749  CWE-312  CWE-295  CWE-276  CWE-327  CWE-330  CWE-200  CWE-89  \\\n",
       "0        1        0        0        0        0        0        0       0   \n",
       "1        1        0        0        0        0        0        0       0   \n",
       "2        1        0        0        0        0        0        0       0   \n",
       "3        1        0        0        0        0        0        0       0   \n",
       "4        1        0        0        0        0        0        0       0   \n",
       "\n",
       "   CWE-919  CWE-649  CWE-250  \n",
       "0        0        0        0  \n",
       "1        0        0        0  \n",
       "2        0        0        0  \n",
       "3        0        0        0  \n",
       "4        0        0        0  "
      ]
     },
     "execution_count": 20,
     "metadata": {},
     "output_type": "execute_result"
    }
   ],
   "source": [
    "dataset.head()"
   ]
  },
  {
   "cell_type": "code",
   "execution_count": 21,
   "metadata": {},
   "outputs": [],
   "source": [
    "del data['Category']\n",
    "\n",
    "\n",
    "for col in data:\n",
    "    if col != \"Name\":\n",
    "        if data[col].value_counts()[1] < 1000:\n",
    "            # data1 = data.drop(col, axis=1)\n",
    "            del data[col]\n",
    "     \n",
    "data.to_csv(\"DataSet_bb1.csv\",index=False)"
   ]
  },
  {
   "cell_type": "code",
   "execution_count": 22,
   "metadata": {},
   "outputs": [
    {
     "data": {
      "text/html": [
       "<div>\n",
       "<style scoped>\n",
       "    .dataframe tbody tr th:only-of-type {\n",
       "        vertical-align: middle;\n",
       "    }\n",
       "\n",
       "    .dataframe tbody tr th {\n",
       "        vertical-align: top;\n",
       "    }\n",
       "\n",
       "    .dataframe thead th {\n",
       "        text-align: right;\n",
       "    }\n",
       "</style>\n",
       "<table border=\"1\" class=\"dataframe\">\n",
       "  <thead>\n",
       "    <tr style=\"text-align: right;\">\n",
       "      <th></th>\n",
       "      <th>Name</th>\n",
       "      <th>Impact</th>\n",
       "      <th>CWE-312</th>\n",
       "      <th>CWE-276</th>\n",
       "      <th>CWE-327</th>\n",
       "      <th>CWE-200</th>\n",
       "      <th>CWE-89</th>\n",
       "    </tr>\n",
       "  </thead>\n",
       "  <tbody>\n",
       "    <tr>\n",
       "      <th>0</th>\n",
       "      <td>public void addJavascriptObject(Object obj, St...</td>\n",
       "      <td>0</td>\n",
       "      <td>0</td>\n",
       "      <td>0</td>\n",
       "      <td>0</td>\n",
       "      <td>0</td>\n",
       "      <td>0</td>\n",
       "    </tr>\n",
       "    <tr>\n",
       "      <th>1</th>\n",
       "      <td>public void initialize() \\n        setPlacemen...</td>\n",
       "      <td>0</td>\n",
       "      <td>0</td>\n",
       "      <td>0</td>\n",
       "      <td>0</td>\n",
       "      <td>0</td>\n",
       "      <td>0</td>\n",
       "    </tr>\n",
       "    <tr>\n",
       "      <th>2</th>\n",
       "      <td>public void initialize() \\n        setPlacemen...</td>\n",
       "      <td>0</td>\n",
       "      <td>0</td>\n",
       "      <td>0</td>\n",
       "      <td>0</td>\n",
       "      <td>0</td>\n",
       "      <td>0</td>\n",
       "    </tr>\n",
       "    <tr>\n",
       "      <th>3</th>\n",
       "      <td>public void displayRichMedia(final JSONObject ...</td>\n",
       "      <td>0</td>\n",
       "      <td>0</td>\n",
       "      <td>0</td>\n",
       "      <td>0</td>\n",
       "      <td>0</td>\n",
       "      <td>0</td>\n",
       "    </tr>\n",
       "    <tr>\n",
       "      <th>4</th>\n",
       "      <td>this.webView.addJavascriptInterface(this.jsBri...</td>\n",
       "      <td>0</td>\n",
       "      <td>0</td>\n",
       "      <td>0</td>\n",
       "      <td>0</td>\n",
       "      <td>0</td>\n",
       "      <td>0</td>\n",
       "    </tr>\n",
       "  </tbody>\n",
       "</table>\n",
       "</div>"
      ],
      "text/plain": [
       "                                                Name  Impact  CWE-312  \\\n",
       "0  public void addJavascriptObject(Object obj, St...       0        0   \n",
       "1  public void initialize() \\n        setPlacemen...       0        0   \n",
       "2  public void initialize() \\n        setPlacemen...       0        0   \n",
       "3  public void displayRichMedia(final JSONObject ...       0        0   \n",
       "4  this.webView.addJavascriptInterface(this.jsBri...       0        0   \n",
       "\n",
       "   CWE-276  CWE-327  CWE-200  CWE-89  \n",
       "0        0        0        0       0  \n",
       "1        0        0        0       0  \n",
       "2        0        0        0       0  \n",
       "3        0        0        0       0  \n",
       "4        0        0        0       0  "
      ]
     },
     "execution_count": 22,
     "metadata": {},
     "output_type": "execute_result"
    }
   ],
   "source": [
    "dataset.head()"
   ]
  },
  {
   "cell_type": "code",
   "execution_count": 23,
   "metadata": {},
   "outputs": [],
   "source": [
    "# count = 0\n",
    "# for i in range(len(data)):    \n",
    "#     if 1 not in np.array(data.iloc[i][data.columns[1:]]):\n",
    "#         data[''] = 1"
   ]
  },
  {
   "cell_type": "code",
   "execution_count": 24,
   "metadata": {},
   "outputs": [],
   "source": [
    "del data['CWE-276']\n",
    "del data['CWE-312']\n",
    "del data['CWE-327']\n",
    "del data['CWE-200']\n",
    "del data['CWE-89']\n",
    "data.to_csv(\"DataSet_bbnew.csv\",index=False)"
   ]
  },
  {
   "cell_type": "code",
   "execution_count": 25,
   "metadata": {},
   "outputs": [],
   "source": [
    "colm = []\n",
    "for col in data:\n",
    "    colm.append(col)"
   ]
  },
  {
   "cell_type": "code",
   "execution_count": 26,
   "metadata": {},
   "outputs": [
    {
     "data": {
      "text/plain": [
       "['Name', 'Impact']"
      ]
     },
     "execution_count": 26,
     "metadata": {},
     "output_type": "execute_result"
    }
   ],
   "source": [
    "colm"
   ]
  },
  {
   "cell_type": "code",
   "execution_count": 27,
   "metadata": {},
   "outputs": [],
   "source": [
    "for dataset in data:\n",
    "    dataset=dataset"
   ]
  },
  {
   "cell_type": "code",
   "execution_count": 28,
   "metadata": {},
   "outputs": [
    {
     "data": {
      "text/plain": [
       "'Impact'"
      ]
     },
     "execution_count": 28,
     "metadata": {},
     "output_type": "execute_result"
    }
   ],
   "source": [
    "dataset"
   ]
  },
  {
   "cell_type": "code",
   "execution_count": 29,
   "metadata": {},
   "outputs": [
    {
     "data": {
      "text/html": [
       "<div>\n",
       "<style scoped>\n",
       "    .dataframe tbody tr th:only-of-type {\n",
       "        vertical-align: middle;\n",
       "    }\n",
       "\n",
       "    .dataframe tbody tr th {\n",
       "        vertical-align: top;\n",
       "    }\n",
       "\n",
       "    .dataframe thead th {\n",
       "        text-align: right;\n",
       "    }\n",
       "</style>\n",
       "<table border=\"1\" class=\"dataframe\">\n",
       "  <thead>\n",
       "    <tr style=\"text-align: right;\">\n",
       "      <th></th>\n",
       "      <th>Name</th>\n",
       "      <th>Impact</th>\n",
       "    </tr>\n",
       "  </thead>\n",
       "  <tbody>\n",
       "    <tr>\n",
       "      <th>0</th>\n",
       "      <td>public void addJavascriptObject(Object obj, St...</td>\n",
       "      <td>0</td>\n",
       "    </tr>\n",
       "    <tr>\n",
       "      <th>1</th>\n",
       "      <td>public void initialize() \\n        setPlacemen...</td>\n",
       "      <td>0</td>\n",
       "    </tr>\n",
       "    <tr>\n",
       "      <th>2</th>\n",
       "      <td>public void initialize() \\n        setPlacemen...</td>\n",
       "      <td>0</td>\n",
       "    </tr>\n",
       "    <tr>\n",
       "      <th>3</th>\n",
       "      <td>public void displayRichMedia(final JSONObject ...</td>\n",
       "      <td>0</td>\n",
       "    </tr>\n",
       "    <tr>\n",
       "      <th>4</th>\n",
       "      <td>this.webView.addJavascriptInterface(this.jsBri...</td>\n",
       "      <td>0</td>\n",
       "    </tr>\n",
       "  </tbody>\n",
       "</table>\n",
       "</div>"
      ],
      "text/plain": [
       "                                                Name  Impact\n",
       "0  public void addJavascriptObject(Object obj, St...       0\n",
       "1  public void initialize() \\n        setPlacemen...       0\n",
       "2  public void initialize() \\n        setPlacemen...       0\n",
       "3  public void displayRichMedia(final JSONObject ...       0\n",
       "4  this.webView.addJavascriptInterface(this.jsBri...       0"
      ]
     },
     "execution_count": 29,
     "metadata": {},
     "output_type": "execute_result"
    }
   ],
   "source": [
    "### CONTINUE LATER\n",
    "data.head()"
   ]
  },
  {
   "cell_type": "code",
   "execution_count": 30,
   "metadata": {},
   "outputs": [
    {
     "name": "stdout",
     "output_type": "stream",
     "text": [
      "1    15999\n",
      "0    15973\n",
      "Name: Impact, dtype: int64\n"
     ]
    }
   ],
   "source": [
    "\n",
    "print(data['Impact'].value_counts())\n",
    "\n"
   ]
  },
  {
   "cell_type": "code",
   "execution_count": 31,
   "metadata": {},
   "outputs": [
    {
     "data": {
      "text/plain": [
       "16000"
      ]
     },
     "execution_count": 31,
     "metadata": {},
     "output_type": "execute_result"
    }
   ],
   "source": [
    "data[data.columns[-1]].value_counts()[1]+1"
   ]
  },
  {
   "cell_type": "code",
   "execution_count": 32,
   "metadata": {},
   "outputs": [],
   "source": [
    "shuffled = data.sample(frac=1).reset_index(drop=True) #for randomizing data"
   ]
  },
  {
   "cell_type": "code",
   "execution_count": 33,
   "metadata": {},
   "outputs": [
    {
     "data": {
      "text/html": [
       "<div>\n",
       "<style scoped>\n",
       "    .dataframe tbody tr th:only-of-type {\n",
       "        vertical-align: middle;\n",
       "    }\n",
       "\n",
       "    .dataframe tbody tr th {\n",
       "        vertical-align: top;\n",
       "    }\n",
       "\n",
       "    .dataframe thead th {\n",
       "        text-align: right;\n",
       "    }\n",
       "</style>\n",
       "<table border=\"1\" class=\"dataframe\">\n",
       "  <thead>\n",
       "    <tr style=\"text-align: right;\">\n",
       "      <th></th>\n",
       "      <th>Name</th>\n",
       "      <th>Impact</th>\n",
       "    </tr>\n",
       "  </thead>\n",
       "  <tbody>\n",
       "    <tr>\n",
       "      <th>0</th>\n",
       "      <td>public static Field[] getFields() \\n        re...</td>\n",
       "      <td>1</td>\n",
       "    </tr>\n",
       "    <tr>\n",
       "      <th>1</th>\n",
       "      <td>public static final boolean b() \\n        retu...</td>\n",
       "      <td>0</td>\n",
       "    </tr>\n",
       "    <tr>\n",
       "      <th>2</th>\n",
       "      <td>private static String createUrl(String httpPat...</td>\n",
       "      <td>1</td>\n",
       "    </tr>\n",
       "    <tr>\n",
       "      <th>3</th>\n",
       "      <td>public static final String OSM_RECOVER_PASSWOR...</td>\n",
       "      <td>0</td>\n",
       "    </tr>\n",
       "    <tr>\n",
       "      <th>4</th>\n",
       "      <td>public void onPageFinished(WebView view, Strin...</td>\n",
       "      <td>0</td>\n",
       "    </tr>\n",
       "  </tbody>\n",
       "</table>\n",
       "</div>"
      ],
      "text/plain": [
       "                                                Name  Impact\n",
       "0  public static Field[] getFields() \\n        re...       1\n",
       "1  public static final boolean b() \\n        retu...       0\n",
       "2  private static String createUrl(String httpPat...       1\n",
       "3  public static final String OSM_RECOVER_PASSWOR...       0\n",
       "4  public void onPageFinished(WebView view, Strin...       0"
      ]
     },
     "execution_count": 33,
     "metadata": {},
     "output_type": "execute_result"
    }
   ],
   "source": [
    "shuffled.head()"
   ]
  },
  {
   "cell_type": "code",
   "execution_count": 34,
   "metadata": {},
   "outputs": [
    {
     "data": {
      "text/html": [
       "<div>\n",
       "<style scoped>\n",
       "    .dataframe tbody tr th:only-of-type {\n",
       "        vertical-align: middle;\n",
       "    }\n",
       "\n",
       "    .dataframe tbody tr th {\n",
       "        vertical-align: top;\n",
       "    }\n",
       "\n",
       "    .dataframe thead th {\n",
       "        text-align: right;\n",
       "    }\n",
       "</style>\n",
       "<table border=\"1\" class=\"dataframe\">\n",
       "  <thead>\n",
       "    <tr style=\"text-align: right;\">\n",
       "      <th></th>\n",
       "      <th>Impact</th>\n",
       "    </tr>\n",
       "  </thead>\n",
       "  <tbody>\n",
       "    <tr>\n",
       "      <th>0</th>\n",
       "      <td>1</td>\n",
       "    </tr>\n",
       "    <tr>\n",
       "      <th>1</th>\n",
       "      <td>0</td>\n",
       "    </tr>\n",
       "    <tr>\n",
       "      <th>2</th>\n",
       "      <td>1</td>\n",
       "    </tr>\n",
       "    <tr>\n",
       "      <th>3</th>\n",
       "      <td>0</td>\n",
       "    </tr>\n",
       "    <tr>\n",
       "      <th>4</th>\n",
       "      <td>0</td>\n",
       "    </tr>\n",
       "    <tr>\n",
       "      <th>...</th>\n",
       "      <td>...</td>\n",
       "    </tr>\n",
       "    <tr>\n",
       "      <th>31967</th>\n",
       "      <td>1</td>\n",
       "    </tr>\n",
       "    <tr>\n",
       "      <th>31968</th>\n",
       "      <td>0</td>\n",
       "    </tr>\n",
       "    <tr>\n",
       "      <th>31969</th>\n",
       "      <td>0</td>\n",
       "    </tr>\n",
       "    <tr>\n",
       "      <th>31970</th>\n",
       "      <td>1</td>\n",
       "    </tr>\n",
       "    <tr>\n",
       "      <th>31971</th>\n",
       "      <td>0</td>\n",
       "    </tr>\n",
       "  </tbody>\n",
       "</table>\n",
       "<p>31972 rows × 1 columns</p>\n",
       "</div>"
      ],
      "text/plain": [
       "       Impact\n",
       "0           1\n",
       "1           0\n",
       "2           1\n",
       "3           0\n",
       "4           0\n",
       "...       ...\n",
       "31967       1\n",
       "31968       0\n",
       "31969       0\n",
       "31970       1\n",
       "31971       0\n",
       "\n",
       "[31972 rows x 1 columns]"
      ]
     },
     "execution_count": 34,
     "metadata": {},
     "output_type": "execute_result"
    }
   ],
   "source": [
    "shuffled[shuffled.columns[1:14]]"
   ]
  },
  {
   "cell_type": "code",
   "execution_count": 35,
   "metadata": {},
   "outputs": [],
   "source": [
    "from sklearn.model_selection import train_test_split"
   ]
  },
  {
   "cell_type": "code",
   "execution_count": 36,
   "metadata": {},
   "outputs": [],
   "source": [
    "x_tmp, x_test, y_tmp, y_test = train_test_split(shuffled[\"Name\"], shuffled[shuffled.columns[1:14]], test_size=0.2, random_state=42)"
   ]
  },
  {
   "cell_type": "code",
   "execution_count": 37,
   "metadata": {},
   "outputs": [
    {
     "data": {
      "text/plain": [
       "'public static boolean isDownloadsDocument(Uri uri) \\n        return \"com.android.providers.downloads.documents\".equals(uri.getAuthority());\\n    '"
      ]
     },
     "execution_count": 37,
     "metadata": {},
     "output_type": "execute_result"
    }
   ],
   "source": [
    "x_test[6]"
   ]
  },
  {
   "cell_type": "code",
   "execution_count": 38,
   "metadata": {},
   "outputs": [],
   "source": [
    "x_train, x_val, y_train, y_val = train_test_split(x_tmp, y_tmp, test_size=0.5, random_state=42)"
   ]
  },
  {
   "cell_type": "code",
   "execution_count": 39,
   "metadata": {},
   "outputs": [],
   "source": [
    "#data['Impact'].value_counts()"
   ]
  },
  {
   "cell_type": "code",
   "execution_count": 40,
   "metadata": {},
   "outputs": [],
   "source": [
    "#x_test"
   ]
  },
  {
   "cell_type": "code",
   "execution_count": 41,
   "metadata": {},
   "outputs": [
    {
     "data": {
      "text/plain": [
       "Impact\n",
       "1         6399\n",
       "0         6390\n",
       "dtype: int64"
      ]
     },
     "execution_count": 41,
     "metadata": {},
     "output_type": "execute_result"
    }
   ],
   "source": [
    "y_val.value_counts()"
   ]
  },
  {
   "cell_type": "markdown",
   "metadata": {},
   "source": [
    "## Learning Phase"
   ]
  },
  {
   "cell_type": "markdown",
   "metadata": {},
   "source": [
    "### Importing libraries"
   ]
  },
  {
   "cell_type": "code",
   "execution_count": 42,
   "metadata": {},
   "outputs": [
    {
     "name": "stdout",
     "output_type": "stream",
     "text": [
      "Tensorlfow version:  2.4.4\n",
      "Eager mode:  True\n",
      "WARNING:tensorflow:From C:\\Users\\Administrator\\AppData\\Local\\Temp\\ipykernel_21152\\561842723.py:12: is_gpu_available (from tensorflow.python.framework.test_util) is deprecated and will be removed in a future version.\n",
      "Instructions for updating:\n",
      "Use `tf.config.list_physical_devices('GPU')` instead.\n",
      "GPU is available\n"
     ]
    }
   ],
   "source": [
    "import tensorflow as tf\n",
    "import numpy as np\n",
    "import pandas as pd\n",
    "import matplotlib.pyplot as plt\n",
    "import sklearn.metrics\n",
    "import pickle\n",
    "\n",
    "#from numba import jit, cuda\n",
    "\n",
    "print(\"Tensorlfow version: \", tf.__version__)\n",
    "print(\"Eager mode: \", tf.executing_eagerly())\n",
    "print(\"GPU is\", \"available\" if tf.test.is_gpu_available() else \"NOT AVAILABLE\")"
   ]
  },
  {
   "cell_type": "markdown",
   "metadata": {},
   "source": [
    "### Setting static and global variables"
   ]
  },
  {
   "cell_type": "code",
   "execution_count": 43,
   "metadata": {},
   "outputs": [
    {
     "name": "stdout",
     "output_type": "stream",
     "text": [
      "Random seed is: 71926\n"
     ]
    }
   ],
   "source": [
    "# Generate random seed\n",
    "#myrand=np.random.randint(1, 99999 + 1)\n",
    "myrand=71926\n",
    "np.random.seed(myrand)\n",
    "tf.random.set_seed(myrand)\n",
    "print(\"Random seed is:\",myrand)"
   ]
  },
  {
   "cell_type": "code",
   "execution_count": 44,
   "metadata": {},
   "outputs": [],
   "source": [
    "# Set the global value\n",
    "WORDS_SIZE=20000\n",
    "INPUT_SIZE=500\n",
    "NUM_CLASSES=1\n",
    "MODEL_NUM=0\n",
    "EPOCHS=50"
   ]
  },
  {
   "cell_type": "markdown",
   "metadata": {},
   "source": [
    "### Importing processed datasets"
   ]
  },
  {
   "cell_type": "markdown",
   "metadata": {},
   "source": [
    "### Tokenizing the source codes"
   ]
  },
  {
   "cell_type": "code",
   "execution_count": 45,
   "metadata": {},
   "outputs": [],
   "source": [
    "# token_list_train = [i.decode(\"utf-8\") for i in x_train]\n",
    "# token_list_test = [i.decode(\"utf-8\") for i in x_test]\n",
    "# token_list_val = [i.decode(\"utf-8\") for i in x_val]\n"
   ]
  },
  {
   "cell_type": "code",
   "execution_count": 46,
   "metadata": {},
   "outputs": [],
   "source": [
    "# t = []\n",
    "# if(1==1):\n",
    "#     t.append([1,0])\n",
    "# t"
   ]
  },
  {
   "cell_type": "code",
   "execution_count": 47,
   "metadata": {},
   "outputs": [],
   "source": [
    "#token_list_train[0]\n",
    "# token_list_test[0]\n",
    "# token_list_val[0]"
   ]
  },
  {
   "cell_type": "code",
   "execution_count": 48,
   "metadata": {},
   "outputs": [
    {
     "name": "stdout",
     "output_type": "stream",
     "text": [
      "Number of tokens of x_train:  33041\n",
      "Number of tokens of x_test:  23999\n",
      "Number of tokens of x_val:  33335\n"
     ]
    }
   ],
   "source": [
    "# Tokenizer with word-level(text to vectors)\n",
    "tokenizer_train = tf.keras.preprocessing.text.Tokenizer(char_level=False)\n",
    "tokenizer_test = tf.keras.preprocessing.text.Tokenizer(char_level=False)\n",
    "tokenizer_val = tf.keras.preprocessing.text.Tokenizer(char_level=False)\n",
    "#tokenizer.fit_on_texts(list(x_all))\n",
    "# tokenizer.fit_on_texts(list(str(x_all)))\n",
    "tokenizer_train.fit_on_texts(list(x_train))\n",
    "tokenizer_test.fit_on_texts(list(x_test))\n",
    "tokenizer_val.fit_on_texts(list(x_val))\n",
    "# del(x_all)\n",
    "print('Number of tokens of x_train: ',len(tokenizer_train.word_counts))\n",
    "print('Number of tokens of x_test: ',len(tokenizer_test.word_counts))\n",
    "print('Number of tokens of x_val: ',len(tokenizer_val.word_counts))"
   ]
  },
  {
   "cell_type": "code",
   "execution_count": 49,
   "metadata": {},
   "outputs": [],
   "source": [
    "# Reducing to top N words\n",
    "tokenizer_train.num_words = WORDS_SIZE\n",
    "tokenizer_test.num_words = WORDS_SIZE\n",
    "tokenizer_val.num_words = WORDS_SIZE"
   ]
  },
  {
   "cell_type": "code",
   "execution_count": 50,
   "metadata": {},
   "outputs": [],
   "source": [
    "#tokenizer_train.word_counts.items()\n"
   ]
  },
  {
   "cell_type": "code",
   "execution_count": 51,
   "metadata": {},
   "outputs": [],
   "source": [
    "#tokenizer_test.word_counts.items()"
   ]
  },
  {
   "cell_type": "code",
   "execution_count": 52,
   "metadata": {},
   "outputs": [],
   "source": [
    "#tokenizer_val.word_counts.items()"
   ]
  },
  {
   "cell_type": "code",
   "execution_count": 53,
   "metadata": {},
   "outputs": [
    {
     "data": {
      "text/plain": [
       "[('this', 45402),\n",
       " ('if', 23557),\n",
       " ('string', 20443),\n",
       " ('a', 19395),\n",
       " ('com', 19288),\n",
       " ('null', 17163),\n",
       " ('new', 15896),\n",
       " ('return', 13549),\n",
       " ('public', 12002),\n",
       " ('0', 11904)]"
      ]
     },
     "execution_count": 53,
     "metadata": {},
     "output_type": "execute_result"
    }
   ],
   "source": [
    "# Top 10 words\n",
    "sorted(tokenizer_train.word_counts.items(), key=lambda x:x[1], reverse=True)[0:10]\n",
    "sorted(tokenizer_test.word_counts.items(), key=lambda x:x[1], reverse=True)[0:10]\n",
    "sorted(tokenizer_val.word_counts.items(), key=lambda x:x[1], reverse=True)[0:10]"
   ]
  },
  {
   "cell_type": "code",
   "execution_count": 54,
   "metadata": {},
   "outputs": [
    {
     "data": {
      "text/plain": [
       "str"
      ]
     },
     "execution_count": 54,
     "metadata": {},
     "output_type": "execute_result"
    }
   ],
   "source": [
    "type(list(shuffled['Name'])[0])"
   ]
  },
  {
   "cell_type": "markdown",
   "metadata": {},
   "source": [
    "### Create sequence files from the tokens"
   ]
  },
  {
   "cell_type": "code",
   "execution_count": 55,
   "metadata": {},
   "outputs": [],
   "source": [
    "## Tokkenizing train data and create matrix\n",
    "list_tokenized_train = tokenizer_train.texts_to_sequences(x_train)\n",
    "x_train = tf.keras.preprocessing.sequence.pad_sequences(list_tokenized_train, \n",
    "                                  maxlen=INPUT_SIZE,\n",
    "                                  padding='post')\n",
    "x_train = x_train.astype(np.int64)"
   ]
  },
  {
   "cell_type": "code",
   "execution_count": 56,
   "metadata": {},
   "outputs": [
    {
     "data": {
      "text/plain": [
       "array([[  231,     3,    41, ...,     0,     0,     0],\n",
       "       [  231,    17, 11813, ...,     0,     0,     0],\n",
       "       [   48,    20,     4, ...,     0,     0,     0],\n",
       "       ...,\n",
       "       [    9,    20, 11619, ...,     0,     0,     0],\n",
       "       [    9,    22,    20, ...,     0,     0,     0],\n",
       "       [    9,    22,   150, ...,     0,     0,     0]], dtype=int64)"
      ]
     },
     "execution_count": 56,
     "metadata": {},
     "output_type": "execute_result"
    }
   ],
   "source": [
    "x_train"
   ]
  },
  {
   "cell_type": "code",
   "execution_count": 57,
   "metadata": {},
   "outputs": [
    {
     "data": {
      "text/plain": [
       "(12788, 500)"
      ]
     },
     "execution_count": 57,
     "metadata": {},
     "output_type": "execute_result"
    }
   ],
   "source": [
    "x_train.shape"
   ]
  },
  {
   "cell_type": "code",
   "execution_count": 58,
   "metadata": {},
   "outputs": [],
   "source": [
    "## Tokkenizing test data and create matrix\n",
    "list_tokenized_test = tokenizer_test.texts_to_sequences(x_test)\n",
    "x_test = tf.keras.preprocessing.sequence.pad_sequences(list_tokenized_test, \n",
    "                                 maxlen=INPUT_SIZE,\n",
    "                                 padding='post')\n",
    "x_test = x_test.astype(np.int64)"
   ]
  },
  {
   "cell_type": "code",
   "execution_count": 59,
   "metadata": {},
   "outputs": [
    {
     "data": {
      "text/plain": [
       "(6395, 500)"
      ]
     },
     "execution_count": 59,
     "metadata": {},
     "output_type": "execute_result"
    }
   ],
   "source": [
    "x_test.shape"
   ]
  },
  {
   "cell_type": "code",
   "execution_count": 60,
   "metadata": {},
   "outputs": [],
   "source": [
    "## Tokkenizing validate data and create matrix\n",
    "list_tokenized_validate = tokenizer_val.texts_to_sequences(x_val)\n",
    "x_validate = tf.keras.preprocessing.sequence.pad_sequences(list_tokenized_validate, \n",
    "                                 maxlen=INPUT_SIZE,\n",
    "                                 padding='post')\n",
    "x_validate = x_validate.astype(np.int64)"
   ]
  },
  {
   "cell_type": "code",
   "execution_count": 61,
   "metadata": {},
   "outputs": [],
   "source": [
    "# Example data\n",
    "#test.iloc[0:2,:15]\n",
    "#x_test"
   ]
  },
  {
   "cell_type": "markdown",
   "metadata": {},
   "source": [
    "### One-Hot-Enconding (OHE) on the datasets"
   ]
  },
  {
   "cell_type": "code",
   "execution_count": 62,
   "metadata": {},
   "outputs": [],
   "source": [
    "#train.iloc[:,2][5]\n",
    "#x_train"
   ]
  },
  {
   "cell_type": "code",
   "execution_count": 63,
   "metadata": {},
   "outputs": [
    {
     "data": {
      "text/html": [
       "<div>\n",
       "<style scoped>\n",
       "    .dataframe tbody tr th:only-of-type {\n",
       "        vertical-align: middle;\n",
       "    }\n",
       "\n",
       "    .dataframe tbody tr th {\n",
       "        vertical-align: top;\n",
       "    }\n",
       "\n",
       "    .dataframe thead th {\n",
       "        text-align: right;\n",
       "    }\n",
       "</style>\n",
       "<table border=\"1\" class=\"dataframe\">\n",
       "  <thead>\n",
       "    <tr style=\"text-align: right;\">\n",
       "      <th></th>\n",
       "      <th>Impact</th>\n",
       "    </tr>\n",
       "  </thead>\n",
       "  <tbody>\n",
       "    <tr>\n",
       "      <th>8482</th>\n",
       "      <td>0</td>\n",
       "    </tr>\n",
       "    <tr>\n",
       "      <th>24665</th>\n",
       "      <td>1</td>\n",
       "    </tr>\n",
       "    <tr>\n",
       "      <th>26683</th>\n",
       "      <td>0</td>\n",
       "    </tr>\n",
       "    <tr>\n",
       "      <th>10306</th>\n",
       "      <td>1</td>\n",
       "    </tr>\n",
       "    <tr>\n",
       "      <th>15617</th>\n",
       "      <td>1</td>\n",
       "    </tr>\n",
       "  </tbody>\n",
       "</table>\n",
       "</div>"
      ],
      "text/plain": [
       "       Impact\n",
       "8482        0\n",
       "24665       1\n",
       "26683       0\n",
       "10306       1\n",
       "15617       1"
      ]
     },
     "execution_count": 63,
     "metadata": {},
     "output_type": "execute_result"
    }
   ],
   "source": [
    "y_train.head()"
   ]
  },
  {
   "cell_type": "code",
   "execution_count": 64,
   "metadata": {},
   "outputs": [
    {
     "data": {
      "text/plain": [
       "array([[  231,     3,    41, ...,     0,     0,     0],\n",
       "       [  231,    17, 11813, ...,     0,     0,     0],\n",
       "       [   48,    20,     4, ...,     0,     0,     0],\n",
       "       ...,\n",
       "       [    9,    20, 11619, ...,     0,     0,     0],\n",
       "       [    9,    22,    20, ...,     0,     0,     0],\n",
       "       [    9,    22,   150, ...,     0,     0,     0]], dtype=int64)"
      ]
     },
     "execution_count": 64,
     "metadata": {},
     "output_type": "execute_result"
    }
   ],
   "source": [
    "x_train"
   ]
  },
  {
   "cell_type": "code",
   "execution_count": 65,
   "metadata": {},
   "outputs": [],
   "source": [
    "y_train_array = np.array(y_train)"
   ]
  },
  {
   "cell_type": "code",
   "execution_count": 66,
   "metadata": {},
   "outputs": [
    {
     "data": {
      "text/plain": [
       "(12788, 1)"
      ]
     },
     "execution_count": 66,
     "metadata": {},
     "output_type": "execute_result"
    }
   ],
   "source": [
    "y_train_array.shape"
   ]
  },
  {
   "cell_type": "code",
   "execution_count": 67,
   "metadata": {},
   "outputs": [],
   "source": [
    "y_test_array = np.array(y_test)"
   ]
  },
  {
   "cell_type": "code",
   "execution_count": 68,
   "metadata": {},
   "outputs": [],
   "source": [
    "y_val_array = np.array(y_val)"
   ]
  },
  {
   "cell_type": "code",
   "execution_count": 69,
   "metadata": {},
   "outputs": [],
   "source": [
    "# y_train_array=[]\n",
    "# y_test_array=[]\n",
    "# y_val_array=[]\n",
    "# #/////////////////////////////////////////////////\n",
    "# for col in range(0,11):\n",
    "#     y_train_array.append(tf.keras.utils.to_categorical(y_train.iloc[:,col], num_classes=NUM_CLASSES).astype(np.int64))\n",
    "#     y_test_array.append(tf.keras.utils.to_categorical(y_test.iloc[:,col], num_classes=NUM_CLASSES).astype(np.int64))\n",
    "#     y_val_array.append(tf.keras.utils.to_categorical(y_val.iloc[:,col], num_classes=NUM_CLASSES).astype(np.int64))"
   ]
  },
  {
   "cell_type": "code",
   "execution_count": 70,
   "metadata": {},
   "outputs": [
    {
     "data": {
      "text/plain": [
       "(6395, 1)"
      ]
     },
     "execution_count": 70,
     "metadata": {},
     "output_type": "execute_result"
    }
   ],
   "source": [
    "y_test_array.shape"
   ]
  },
  {
   "cell_type": "code",
   "execution_count": 71,
   "metadata": {},
   "outputs": [
    {
     "data": {
      "text/plain": [
       "(12788, 1)"
      ]
     },
     "execution_count": 71,
     "metadata": {},
     "output_type": "execute_result"
    }
   ],
   "source": [
    "y_train_array.shape"
   ]
  },
  {
   "cell_type": "code",
   "execution_count": 72,
   "metadata": {},
   "outputs": [
    {
     "data": {
      "text/plain": [
       "array([1], dtype=int64)"
      ]
     },
     "execution_count": 72,
     "metadata": {},
     "output_type": "execute_result"
    }
   ],
   "source": [
    "y_test_array[0][0:10]"
   ]
  },
  {
   "cell_type": "code",
   "execution_count": 73,
   "metadata": {},
   "outputs": [
    {
     "data": {
      "text/plain": [
       "1"
      ]
     },
     "execution_count": 73,
     "metadata": {},
     "output_type": "execute_result"
    }
   ],
   "source": [
    "# Example data\n",
    "y_test_array[0].__len__()"
   ]
  },
  {
   "cell_type": "code",
   "execution_count": 74,
   "metadata": {},
   "outputs": [],
   "source": [
    "#y_test_array[0][1:10]"
   ]
  },
  {
   "cell_type": "code",
   "execution_count": 75,
   "metadata": {},
   "outputs": [],
   "source": [
    "#y_train_array"
   ]
  },
  {
   "cell_type": "code",
   "execution_count": 76,
   "metadata": {},
   "outputs": [
    {
     "data": {
      "text/plain": [
       "12788"
      ]
     },
     "execution_count": 76,
     "metadata": {},
     "output_type": "execute_result"
    }
   ],
   "source": [
    "len(y_train_array)"
   ]
  },
  {
   "cell_type": "markdown",
   "metadata": {},
   "source": [
    "### Model Definition (CNN with Gaussian Noise and 5 Output Splits)"
   ]
  },
  {
   "cell_type": "code",
   "execution_count": 77,
   "metadata": {},
   "outputs": [],
   "source": [
    "# Create a random weights matrix\n",
    "random_weights = np.random.normal(size=(WORDS_SIZE, 256),scale=0.01)"
   ]
  },
  {
   "cell_type": "code",
   "execution_count": 78,
   "metadata": {},
   "outputs": [
    {
     "name": "stdout",
     "output_type": "stream",
     "text": [
      "CNN model built: \n",
      "Model: \"model\"\n",
      "_________________________________________________________________\n",
      "Layer (type)                 Output Shape              Param #   \n",
      "=================================================================\n",
      "input_1 (InputLayer)         [(None, 500)]             0         \n",
      "_________________________________________________________________\n",
      "embedding (Embedding)        (None, 500, 256)          5120000   \n",
      "_________________________________________________________________\n",
      "conv1d (Conv1D)              (None, 500, 512)          1180160   \n",
      "_________________________________________________________________\n",
      "max_pooling1d (MaxPooling1D) (None, 83, 512)           0         \n",
      "_________________________________________________________________\n",
      "dropout (Dropout)            (None, 83, 512)           0         \n",
      "_________________________________________________________________\n",
      "flatten (Flatten)            (None, 42496)             0         \n",
      "_________________________________________________________________\n",
      "dense (Dense)                (None, 64)                2719808   \n",
      "_________________________________________________________________\n",
      "dense_1 (Dense)              (None, 32)                2080      \n",
      "_________________________________________________________________\n",
      "dense_2 (Dense)              (None, 32)                1056      \n",
      "_________________________________________________________________\n",
      "dense_3 (Dense)              (None, 32)                1056      \n",
      "_________________________________________________________________\n",
      "dense_4 (Dense)              (None, 16)                528       \n",
      "_________________________________________________________________\n",
      "dense_5 (Dense)              (None, 16)                272       \n",
      "_________________________________________________________________\n",
      "dense_6 (Dense)              (None, 16)                272       \n",
      "_________________________________________________________________\n",
      "dense_7 (Dense)              (None, 1)                 17        \n",
      "=================================================================\n",
      "Total params: 9,025,249\n",
      "Trainable params: 9,025,249\n",
      "Non-trainable params: 0\n",
      "_________________________________________________________________\n"
     ]
    }
   ],
   "source": [
    "# Must use non-sequential model building to create branches in the output layer\n",
    "inp_layer = tf.keras.layers.Input(shape=(INPUT_SIZE,))\n",
    "mid_layers = tf.keras.layers.Embedding(input_dim = WORDS_SIZE,\n",
    "                                    output_dim = 256,\n",
    "                                    weights=[random_weights],\n",
    "                                    input_length = INPUT_SIZE)(inp_layer)\n",
    "\n",
    "mid_layers = tf.keras.layers.Convolution1D(filters=512, kernel_size=(9), padding='same', activation='relu')(mid_layers)\n",
    "mid_layers = tf.keras.layers.MaxPool1D(pool_size=6)(mid_layers)\n",
    "mid_layers = tf.keras.layers.Dropout(0.5)(mid_layers)\n",
    "mid_layers = tf.keras.layers.Flatten()(mid_layers)\n",
    "mid_layers = tf.keras.layers.Dense(64, activation='relu')(mid_layers)\n",
    "mid_layers = tf.keras.layers.Dense(32, activation='relu')(mid_layers)\n",
    "\n",
    "mid_layers = tf.keras.layers.Dense(32, activation='relu')(mid_layers)\n",
    "mid_layers = tf.keras.layers.Dense(32, activation='relu')(mid_layers)\n",
    "\n",
    "mid_layers = tf.keras.layers.Dense(16, activation='relu')(mid_layers)\n",
    "mid_layers = tf.keras.layers.Dense(16, activation='relu')(mid_layers)\n",
    "mid_layers = tf.keras.layers.Dense(16, activation='relu')(mid_layers)\n",
    "output1 = tf.keras.layers.Dense(1, activation='sigmoid')(mid_layers)\n",
    "# output2 = tf.keras.layers.Dense(2, activation='softmax')(mid_layers)\n",
    "# output3 = tf.keras.layers.Dense(2, activation='softmax')(mid_layers)\n",
    "# output4 =tf.keras.layers.Dense(2, activation='softmax')(mid_layers)\n",
    "# output5 = tf.keras.layers.Dense(2, activation='softmax')(mid_layers)\n",
    "# output6 = tf.keras.layers.Dense(2, activation='softmax')(mid_layers)\n",
    "# output7 = tf.keras.layers.Dense(2, activation='softmax')(mid_layers)\n",
    "# output8 = tf.keras.layers.Dense(2, activation='softmax')(mid_layers)\n",
    "# output9 = tf.keras.layers.Dense(2, activation='softmax')(mid_layers)\n",
    "# output10 = tf.keras.layers.Dense(2, activation='softmax')(mid_layers)\n",
    "# output11 = tf.keras.layers.Dense(2, activation='softmax')(mid_layers)\n",
    "\n",
    "\n",
    "# output11 = tf.keras.layers.Dense(11, activation='softmax')(mid_layers)\n",
    "\n",
    "\n",
    "# model = tf.keras.Model(inp_layer,[output1,output2,output3,output4,output5,output6,output7,output8,output9,output10,output11])\n",
    "model = tf.keras.Model(inp_layer, output1)\n",
    "\n",
    "# Define custom optimizers\n",
    "# adam = tf.keras.optimizers.Adam(lr=1e-2, beta_1=0.9, beta_2=0.999, epsilon=1, decay=0.0, amsgrad=False)\n",
    "\n",
    "\n",
    "lr_schedule = tf.keras.optimizers.schedules.ExponentialDecay(\n",
    "    initial_learning_rate=1e-2,\n",
    "    decay_steps=10000,\n",
    "    decay_rate=0.9)\n",
    "\n",
    "\n",
    "\n",
    "\n",
    "\n",
    "sgd = tf.keras.optimizers.SGD(learning_rate=lr_schedule)\n",
    "\n",
    "\n",
    "\n",
    "## Compile model with metrics\n",
    "model.compile(optimizer=sgd, loss='binary_crossentropy', metrics=['accuracy'])\n",
    "print(\"CNN model built: \")\n",
    "model.summary()"
   ]
  },
  {
   "cell_type": "code",
   "execution_count": 79,
   "metadata": {},
   "outputs": [],
   "source": [
    "# # model = tf.keras.models.load_model(\"model/model-ALL-23.hdf5\")\n",
    "\n",
    "# # Define custom optimizers\n",
    "# adam = tf.keras.optimizers.Adam(lr=0.005, beta_1=0.9, beta_2=0.999, epsilon=1, decay=0.0, amsgrad=False)\n",
    "# model.compile(optimizer=adam, loss='categorical_crossentropy', metrics=['accuracy'])\n",
    "# print(\"CNN model built: \")\n",
    "# model.summary()"
   ]
  },
  {
   "cell_type": "markdown",
   "metadata": {},
   "source": [
    "### Tensorboard Callbacks"
   ]
  },
  {
   "cell_type": "code",
   "execution_count": 81,
   "metadata": {},
   "outputs": [],
   "source": [
    "## Create TensorBoard callbacks\n",
    "\n",
    "callbackdir = os.getcwd()\n",
    "# tbCallback = tf.keras.callbacks.TensorBoard(log_dir=callbackdir, \n",
    "#                          histogram_freq=1,\n",
    "#                          embeddings_freq=1,\n",
    "#                          write_graph=True, \n",
    "#                          write_images=True)\n",
    "\n",
    "#tbCallback.set_model(model)\n",
    "mld = 'model/model-ALL-{epoch:02d}.hdf5'\n",
    "\n",
    "## Create best model callback\n",
    "mcp = tf.keras.callbacks.ModelCheckpoint(filepath=mld, \n",
    "                                         monitor=\"val_loss\",\n",
    "                                         save_best_only=True, \n",
    "                                         mode='auto', \n",
    "                                         save_freq='epoch', \n",
    "                                         verbose=1)"
   ]
  },
  {
   "cell_type": "code",
   "execution_count": 82,
   "metadata": {},
   "outputs": [
    {
     "data": {
      "text/plain": [
       "'c:\\\\Users\\\\Administrator\\\\Desktop\\\\new'"
      ]
     },
     "execution_count": 82,
     "metadata": {},
     "output_type": "execute_result"
    }
   ],
   "source": [
    "import os \n",
    "os.getcwd()"
   ]
  },
  {
   "cell_type": "markdown",
   "metadata": {},
   "source": [
    "### Model Training"
   ]
  },
  {
   "cell_type": "code",
   "execution_count": 83,
   "metadata": {},
   "outputs": [
    {
     "data": {
      "text/plain": [
       "array([[  231,     3,    41, ...,     0,     0,     0],\n",
       "       [  231,    17, 11813, ...,     0,     0,     0],\n",
       "       [   48,    20,     4, ...,     0,     0,     0],\n",
       "       ...,\n",
       "       [    9,    20, 11619, ...,     0,     0,     0],\n",
       "       [    9,    22,    20, ...,     0,     0,     0],\n",
       "       [    9,    22,   150, ...,     0,     0,     0]], dtype=int64)"
      ]
     },
     "execution_count": 83,
     "metadata": {},
     "output_type": "execute_result"
    }
   ],
   "source": [
    "x_train"
   ]
  },
  {
   "cell_type": "code",
   "execution_count": 84,
   "metadata": {},
   "outputs": [],
   "source": [
    "#del model"
   ]
  },
  {
   "cell_type": "code",
   "execution_count": 85,
   "metadata": {},
   "outputs": [],
   "source": [
    "y_test_array_norm = []\n",
    "for x in y_test_array:\n",
    "    y_test_array_norm.append(np.argmax(x))\n",
    "\n",
    "\n",
    "y_test_array_norm = np.array(y_test_array_norm)"
   ]
  },
  {
   "cell_type": "code",
   "execution_count": 86,
   "metadata": {},
   "outputs": [],
   "source": [
    "from sklearn.utils import class_weight\n",
    "\n",
    "class_weights = class_weight.compute_class_weight(class_weight='balanced',\n",
    "                                                 classes = [i for i in range(1)],\n",
    "                                                 y=y_test_array_norm)"
   ]
  },
  {
   "cell_type": "code",
   "execution_count": 87,
   "metadata": {},
   "outputs": [],
   "source": [
    "#[i for i in range(6)]"
   ]
  },
  {
   "cell_type": "code",
   "execution_count": 88,
   "metadata": {},
   "outputs": [],
   "source": [
    "#class_weights"
   ]
  },
  {
   "cell_type": "code",
   "execution_count": 89,
   "metadata": {},
   "outputs": [],
   "source": [
    "#class_weight = dict(enumerate(class_weights, 0))"
   ]
  },
  {
   "cell_type": "code",
   "execution_count": 90,
   "metadata": {},
   "outputs": [
    {
     "data": {
      "text/plain": [
       "<module 'sklearn.utils.class_weight' from 'c:\\\\Users\\\\Administrator\\\\anaconda3\\\\envs\\\\svd\\\\lib\\\\site-packages\\\\sklearn\\\\utils\\\\class_weight.py'>"
      ]
     },
     "execution_count": 90,
     "metadata": {},
     "output_type": "execute_result"
    }
   ],
   "source": [
    "class_weight"
   ]
  },
  {
   "cell_type": "code",
   "execution_count": 91,
   "metadata": {},
   "outputs": [
    {
     "data": {
      "text/plain": [
       "array([1.])"
      ]
     },
     "execution_count": 91,
     "metadata": {},
     "output_type": "execute_result"
    }
   ],
   "source": [
    "class_weights"
   ]
  },
  {
   "cell_type": "code",
   "execution_count": 92,
   "metadata": {},
   "outputs": [
    {
     "data": {
      "text/plain": [
       "{0}"
      ]
     },
     "execution_count": 92,
     "metadata": {},
     "output_type": "execute_result"
    }
   ],
   "source": [
    "set(y_train_array[0])"
   ]
  },
  {
   "cell_type": "code",
   "execution_count": 93,
   "metadata": {},
   "outputs": [],
   "source": [
    "#y_test_array\n"
   ]
  },
  {
   "cell_type": "code",
   "execution_count": 94,
   "metadata": {},
   "outputs": [],
   "source": [
    "#model = tf.keras.models.load_model(\"model\\model-ALL-21.hdf5\")"
   ]
  },
  {
   "cell_type": "code",
   "execution_count": 95,
   "metadata": {},
   "outputs": [
    {
     "name": "stderr",
     "output_type": "stream",
     "text": [
      "2022/08/24 10:51:56 INFO mlflow.utils.autologging_utils: Created MLflow autologging run with ID '75de142e1d0b43e39853bb1069d87608', which will track hyperparameters, performance metrics, model artifacts, and lineage information for the current tensorflow workflow\n"
     ]
    },
    {
     "name": "stdout",
     "output_type": "stream",
     "text": [
      "Epoch 1/200\n",
      "WARNING:tensorflow:AutoGraph could not transform <function Model.make_train_function.<locals>.train_function at 0x000002B562D224C8> and will run it as-is.\n",
      "Please report this to the TensorFlow team. When filing the bug, set the verbosity to 10 (on Linux, `export AUTOGRAPH_VERBOSITY=10`) and attach the full output.\n",
      "Cause: 'arguments' object has no attribute 'posonlyargs'\n",
      "To silence this warning, decorate the function with @tf.autograph.experimental.do_not_convert\n",
      "WARNING: AutoGraph could not transform <function Model.make_train_function.<locals>.train_function at 0x000002B562D224C8> and will run it as-is.\n",
      "Please report this to the TensorFlow team. When filing the bug, set the verbosity to 10 (on Linux, `export AUTOGRAPH_VERBOSITY=10`) and attach the full output.\n",
      "Cause: 'arguments' object has no attribute 'posonlyargs'\n",
      "To silence this warning, decorate the function with @tf.autograph.experimental.do_not_convert\n",
      "12/12 [==============================] - ETA: 0s - loss: 0.6932 - accuracy: 0.4958WARNING:tensorflow:AutoGraph could not transform <function Model.make_test_function.<locals>.test_function at 0x000002B562778948> and will run it as-is.\n",
      "Please report this to the TensorFlow team. When filing the bug, set the verbosity to 10 (on Linux, `export AUTOGRAPH_VERBOSITY=10`) and attach the full output.\n",
      "Cause: 'arguments' object has no attribute 'posonlyargs'\n",
      "To silence this warning, decorate the function with @tf.autograph.experimental.do_not_convert\n",
      "WARNING: AutoGraph could not transform <function Model.make_test_function.<locals>.test_function at 0x000002B562778948> and will run it as-is.\n",
      "Please report this to the TensorFlow team. When filing the bug, set the verbosity to 10 (on Linux, `export AUTOGRAPH_VERBOSITY=10`) and attach the full output.\n",
      "Cause: 'arguments' object has no attribute 'posonlyargs'\n",
      "To silence this warning, decorate the function with @tf.autograph.experimental.do_not_convert\n",
      "12/12 [==============================] - 36s 2s/step - loss: 0.6932 - accuracy: 0.4959 - val_loss: 0.6931 - val_accuracy: 0.5004\n",
      "\n",
      "Epoch 00001: val_loss improved from inf to 0.69314, saving model to model\\model-ALL-01.hdf5\n",
      "Epoch 2/200\n",
      "12/12 [==============================] - 20s 2s/step - loss: 0.6932 - accuracy: 0.5049 - val_loss: 0.6931 - val_accuracy: 0.5004\n",
      "\n",
      "Epoch 00002: val_loss improved from 0.69314 to 0.69314, saving model to model\\model-ALL-02.hdf5\n",
      "Epoch 3/200\n",
      "12/12 [==============================] - 20s 2s/step - loss: 0.6932 - accuracy: 0.4969 - val_loss: 0.6931 - val_accuracy: 0.5004\n",
      "\n",
      "Epoch 00003: val_loss improved from 0.69314 to 0.69313, saving model to model\\model-ALL-03.hdf5\n",
      "Epoch 4/200\n",
      "12/12 [==============================] - 21s 2s/step - loss: 0.6932 - accuracy: 0.4990 - val_loss: 0.6931 - val_accuracy: 0.5004\n",
      "\n",
      "Epoch 00004: val_loss improved from 0.69313 to 0.69313, saving model to model\\model-ALL-04.hdf5\n",
      "Epoch 5/200\n",
      "12/12 [==============================] - 20s 2s/step - loss: 0.6931 - accuracy: 0.5029 - val_loss: 0.6931 - val_accuracy: 0.5004\n",
      "\n",
      "Epoch 00005: val_loss improved from 0.69313 to 0.69313, saving model to model\\model-ALL-05.hdf5\n",
      "Epoch 6/200\n",
      "12/12 [==============================] - 23s 2s/step - loss: 0.6931 - accuracy: 0.5003 - val_loss: 0.6931 - val_accuracy: 0.5004\n",
      "\n",
      "Epoch 00006: val_loss improved from 0.69313 to 0.69313, saving model to model\\model-ALL-06.hdf5\n",
      "Epoch 7/200\n",
      "12/12 [==============================] - 20s 2s/step - loss: 0.6931 - accuracy: 0.4965 - val_loss: 0.6931 - val_accuracy: 0.5004\n",
      "\n",
      "Epoch 00007: val_loss improved from 0.69313 to 0.69312, saving model to model\\model-ALL-07.hdf5\n",
      "Epoch 8/200\n",
      "12/12 [==============================] - 20s 2s/step - loss: 0.6931 - accuracy: 0.5027 - val_loss: 0.6931 - val_accuracy: 0.5004\n",
      "\n",
      "Epoch 00008: val_loss improved from 0.69312 to 0.69311, saving model to model\\model-ALL-08.hdf5\n",
      "Epoch 9/200\n",
      "12/12 [==============================] - 21s 2s/step - loss: 0.6931 - accuracy: 0.4963 - val_loss: 0.6931 - val_accuracy: 0.5004\n",
      "\n",
      "Epoch 00009: val_loss improved from 0.69311 to 0.69311, saving model to model\\model-ALL-09.hdf5\n",
      "Epoch 10/200\n",
      "12/12 [==============================] - 20s 2s/step - loss: 0.6931 - accuracy: 0.4995 - val_loss: 0.6931 - val_accuracy: 0.5004\n",
      "\n",
      "Epoch 00010: val_loss improved from 0.69311 to 0.69311, saving model to model\\model-ALL-10.hdf5\n",
      "Epoch 11/200\n",
      "12/12 [==============================] - 20s 2s/step - loss: 0.6931 - accuracy: 0.5017 - val_loss: 0.6931 - val_accuracy: 0.5004\n",
      "\n",
      "Epoch 00011: val_loss improved from 0.69311 to 0.69308, saving model to model\\model-ALL-11.hdf5\n",
      "Epoch 12/200\n",
      "12/12 [==============================] - 21s 2s/step - loss: 0.6931 - accuracy: 0.5060 - val_loss: 0.6931 - val_accuracy: 0.5004\n",
      "\n",
      "Epoch 00012: val_loss improved from 0.69308 to 0.69308, saving model to model\\model-ALL-12.hdf5\n",
      "Epoch 13/200\n",
      "12/12 [==============================] - 22s 2s/step - loss: 0.6931 - accuracy: 0.5050 - val_loss: 0.6931 - val_accuracy: 0.5004\n",
      "\n",
      "Epoch 00013: val_loss improved from 0.69308 to 0.69307, saving model to model\\model-ALL-13.hdf5\n",
      "Epoch 14/200\n",
      "12/12 [==============================] - 23s 2s/step - loss: 0.6930 - accuracy: 0.5095 - val_loss: 0.6931 - val_accuracy: 0.5009\n",
      "\n",
      "Epoch 00014: val_loss improved from 0.69307 to 0.69306, saving model to model\\model-ALL-14.hdf5\n",
      "Epoch 15/200\n",
      "12/12 [==============================] - 21s 2s/step - loss: 0.6930 - accuracy: 0.5105 - val_loss: 0.6930 - val_accuracy: 0.5007\n",
      "\n",
      "Epoch 00015: val_loss improved from 0.69306 to 0.69305, saving model to model\\model-ALL-15.hdf5\n",
      "Epoch 16/200\n",
      "12/12 [==============================] - 20s 2s/step - loss: 0.6930 - accuracy: 0.5093 - val_loss: 0.6930 - val_accuracy: 0.5016\n",
      "\n",
      "Epoch 00016: val_loss improved from 0.69305 to 0.69302, saving model to model\\model-ALL-16.hdf5\n",
      "Epoch 17/200\n",
      "12/12 [==============================] - 19s 2s/step - loss: 0.6930 - accuracy: 0.5107 - val_loss: 0.6930 - val_accuracy: 0.5022\n",
      "\n",
      "Epoch 00017: val_loss improved from 0.69302 to 0.69300, saving model to model\\model-ALL-17.hdf5\n",
      "Epoch 18/200\n",
      "12/12 [==============================] - 20s 2s/step - loss: 0.6931 - accuracy: 0.5099 - val_loss: 0.6930 - val_accuracy: 0.5011\n",
      "\n",
      "Epoch 00018: val_loss improved from 0.69300 to 0.69300, saving model to model\\model-ALL-18.hdf5\n",
      "Epoch 19/200\n",
      "12/12 [==============================] - 20s 2s/step - loss: 0.6930 - accuracy: 0.5103 - val_loss: 0.6930 - val_accuracy: 0.5012\n",
      "\n",
      "Epoch 00019: val_loss improved from 0.69300 to 0.69298, saving model to model\\model-ALL-19.hdf5\n",
      "Epoch 20/200\n",
      "12/12 [==============================] - 20s 2s/step - loss: 0.6929 - accuracy: 0.5156 - val_loss: 0.6929 - val_accuracy: 0.5092\n",
      "\n",
      "Epoch 00020: val_loss improved from 0.69298 to 0.69293, saving model to model\\model-ALL-20.hdf5\n",
      "Epoch 21/200\n",
      "12/12 [==============================] - 20s 2s/step - loss: 0.6930 - accuracy: 0.5148 - val_loss: 0.6929 - val_accuracy: 0.5092\n",
      "\n",
      "Epoch 00021: val_loss improved from 0.69293 to 0.69291, saving model to model\\model-ALL-21.hdf5\n",
      "Epoch 22/200\n",
      "12/12 [==============================] - 20s 2s/step - loss: 0.6929 - accuracy: 0.5182 - val_loss: 0.6928 - val_accuracy: 0.5167\n",
      "\n",
      "Epoch 00022: val_loss improved from 0.69291 to 0.69284, saving model to model\\model-ALL-22.hdf5\n",
      "Epoch 23/200\n",
      "12/12 [==============================] - 20s 2s/step - loss: 0.6930 - accuracy: 0.5220 - val_loss: 0.6928 - val_accuracy: 0.5122\n",
      "\n",
      "Epoch 00023: val_loss improved from 0.69284 to 0.69283, saving model to model\\model-ALL-23.hdf5\n",
      "Epoch 24/200\n",
      "12/12 [==============================] - 19s 2s/step - loss: 0.6929 - accuracy: 0.5177 - val_loss: 0.6928 - val_accuracy: 0.5255\n",
      "\n",
      "Epoch 00024: val_loss improved from 0.69283 to 0.69275, saving model to model\\model-ALL-24.hdf5\n",
      "Epoch 25/200\n",
      "12/12 [==============================] - 21s 2s/step - loss: 0.6928 - accuracy: 0.5299 - val_loss: 0.6927 - val_accuracy: 0.5323\n",
      "\n",
      "Epoch 00025: val_loss improved from 0.69275 to 0.69270, saving model to model\\model-ALL-25.hdf5\n",
      "Epoch 26/200\n",
      "12/12 [==============================] - 27s 2s/step - loss: 0.6928 - accuracy: 0.5317 - val_loss: 0.6926 - val_accuracy: 0.5315\n",
      "\n",
      "Epoch 00026: val_loss improved from 0.69270 to 0.69265, saving model to model\\model-ALL-26.hdf5\n",
      "Epoch 27/200\n",
      "12/12 [==============================] - 24s 2s/step - loss: 0.6927 - accuracy: 0.5371 - val_loss: 0.6926 - val_accuracy: 0.5457\n",
      "\n",
      "Epoch 00027: val_loss improved from 0.69265 to 0.69259, saving model to model\\model-ALL-27.hdf5\n",
      "Epoch 28/200\n",
      "12/12 [==============================] - 23s 2s/step - loss: 0.6928 - accuracy: 0.5331 - val_loss: 0.6925 - val_accuracy: 0.5414\n",
      "\n",
      "Epoch 00028: val_loss improved from 0.69259 to 0.69253, saving model to model\\model-ALL-28.hdf5\n",
      "Epoch 29/200\n",
      "12/12 [==============================] - 22s 2s/step - loss: 0.6927 - accuracy: 0.5395 - val_loss: 0.6925 - val_accuracy: 0.5420\n",
      "\n",
      "Epoch 00029: val_loss improved from 0.69253 to 0.69247, saving model to model\\model-ALL-29.hdf5\n",
      "Epoch 30/200\n",
      "12/12 [==============================] - 23s 2s/step - loss: 0.6927 - accuracy: 0.5365 - val_loss: 0.6924 - val_accuracy: 0.5553\n",
      "\n",
      "Epoch 00030: val_loss improved from 0.69247 to 0.69236, saving model to model\\model-ALL-30.hdf5\n",
      "Epoch 31/200\n",
      "12/12 [==============================] - 22s 2s/step - loss: 0.6925 - accuracy: 0.5449 - val_loss: 0.6923 - val_accuracy: 0.5582\n",
      "\n",
      "Epoch 00031: val_loss improved from 0.69236 to 0.69228, saving model to model\\model-ALL-31.hdf5\n",
      "Epoch 32/200\n",
      "12/12 [==============================] - 23s 2s/step - loss: 0.6925 - accuracy: 0.5476 - val_loss: 0.6922 - val_accuracy: 0.5589\n",
      "\n",
      "Epoch 00032: val_loss improved from 0.69228 to 0.69221, saving model to model\\model-ALL-32.hdf5\n",
      "Epoch 33/200\n",
      "12/12 [==============================] - 22s 2s/step - loss: 0.6925 - accuracy: 0.5459 - val_loss: 0.6923 - val_accuracy: 0.5466\n",
      "\n",
      "Epoch 00033: val_loss did not improve from 0.69221\n",
      "Epoch 34/200\n",
      "12/12 [==============================] - 22s 2s/step - loss: 0.6924 - accuracy: 0.5453 - val_loss: 0.6921 - val_accuracy: 0.5567\n",
      "\n",
      "Epoch 00034: val_loss improved from 0.69221 to 0.69211, saving model to model\\model-ALL-34.hdf5\n",
      "Epoch 35/200\n",
      "12/12 [==============================] - 23s 2s/step - loss: 0.6923 - accuracy: 0.5542 - val_loss: 0.6920 - val_accuracy: 0.5595\n",
      "\n",
      "Epoch 00035: val_loss improved from 0.69211 to 0.69201, saving model to model\\model-ALL-35.hdf5\n",
      "Epoch 36/200\n",
      "12/12 [==============================] - 27s 2s/step - loss: 0.6921 - accuracy: 0.5531 - val_loss: 0.6919 - val_accuracy: 0.5602\n",
      "\n",
      "Epoch 00036: val_loss improved from 0.69201 to 0.69192, saving model to model\\model-ALL-36.hdf5\n",
      "Epoch 37/200\n",
      "12/12 [==============================] - 25s 2s/step - loss: 0.6922 - accuracy: 0.5524 - val_loss: 0.6919 - val_accuracy: 0.5601\n",
      "\n",
      "Epoch 00037: val_loss improved from 0.69192 to 0.69188, saving model to model\\model-ALL-37.hdf5\n",
      "Epoch 38/200\n",
      "12/12 [==============================] - 23s 2s/step - loss: 0.6921 - accuracy: 0.5537 - val_loss: 0.6918 - val_accuracy: 0.5605\n",
      "\n",
      "Epoch 00038: val_loss improved from 0.69188 to 0.69178, saving model to model\\model-ALL-38.hdf5\n",
      "Epoch 39/200\n",
      "12/12 [==============================] - 22s 2s/step - loss: 0.6920 - accuracy: 0.5565 - val_loss: 0.6917 - val_accuracy: 0.5600\n",
      "\n",
      "Epoch 00039: val_loss improved from 0.69178 to 0.69174, saving model to model\\model-ALL-39.hdf5\n",
      "Epoch 40/200\n",
      "12/12 [==============================] - 22s 2s/step - loss: 0.6918 - accuracy: 0.5586 - val_loss: 0.6916 - val_accuracy: 0.5602\n",
      "\n",
      "Epoch 00040: val_loss improved from 0.69174 to 0.69161, saving model to model\\model-ALL-40.hdf5\n",
      "Epoch 41/200\n",
      "12/12 [==============================] - 23s 2s/step - loss: 0.6918 - accuracy: 0.5624 - val_loss: 0.6916 - val_accuracy: 0.5605\n",
      "\n",
      "Epoch 00041: val_loss improved from 0.69161 to 0.69156, saving model to model\\model-ALL-41.hdf5\n",
      "Epoch 42/200\n",
      "12/12 [==============================] - 24s 2s/step - loss: 0.6917 - accuracy: 0.5616 - val_loss: 0.6915 - val_accuracy: 0.5613\n",
      "\n",
      "Epoch 00042: val_loss improved from 0.69156 to 0.69146, saving model to model\\model-ALL-42.hdf5\n",
      "Epoch 43/200\n",
      "12/12 [==============================] - 24s 2s/step - loss: 0.6916 - accuracy: 0.5612 - val_loss: 0.6914 - val_accuracy: 0.5610\n",
      "\n",
      "Epoch 00043: val_loss improved from 0.69146 to 0.69139, saving model to model\\model-ALL-43.hdf5\n",
      "Epoch 44/200\n",
      "12/12 [==============================] - 23s 2s/step - loss: 0.6916 - accuracy: 0.5579 - val_loss: 0.6913 - val_accuracy: 0.5605\n",
      "\n",
      "Epoch 00044: val_loss improved from 0.69139 to 0.69130, saving model to model\\model-ALL-44.hdf5\n",
      "Epoch 45/200\n",
      "12/12 [==============================] - 23s 2s/step - loss: 0.6914 - accuracy: 0.5620 - val_loss: 0.6913 - val_accuracy: 0.5602\n",
      "\n",
      "Epoch 00045: val_loss improved from 0.69130 to 0.69126, saving model to model\\model-ALL-45.hdf5\n",
      "Epoch 46/200\n",
      "12/12 [==============================] - 29s 2s/step - loss: 0.6912 - accuracy: 0.5637 - val_loss: 0.6911 - val_accuracy: 0.5617\n",
      "\n",
      "Epoch 00046: val_loss improved from 0.69126 to 0.69107, saving model to model\\model-ALL-46.hdf5\n",
      "Epoch 47/200\n",
      "12/12 [==============================] - 25s 2s/step - loss: 0.6913 - accuracy: 0.5631 - val_loss: 0.6910 - val_accuracy: 0.5599\n",
      "\n",
      "Epoch 00047: val_loss improved from 0.69107 to 0.69105, saving model to model\\model-ALL-47.hdf5\n",
      "Epoch 48/200\n",
      "12/12 [==============================] - 23s 2s/step - loss: 0.6911 - accuracy: 0.5641 - val_loss: 0.6909 - val_accuracy: 0.5612\n",
      "\n",
      "Epoch 00048: val_loss improved from 0.69105 to 0.69091, saving model to model\\model-ALL-48.hdf5\n",
      "Epoch 49/200\n",
      "12/12 [==============================] - 24s 2s/step - loss: 0.6912 - accuracy: 0.5558 - val_loss: 0.6908 - val_accuracy: 0.5613\n",
      "\n",
      "Epoch 00049: val_loss improved from 0.69091 to 0.69085, saving model to model\\model-ALL-49.hdf5\n",
      "Epoch 50/200\n",
      "12/12 [==============================] - 24s 2s/step - loss: 0.6910 - accuracy: 0.5640 - val_loss: 0.6907 - val_accuracy: 0.5608\n",
      "\n",
      "Epoch 00050: val_loss improved from 0.69085 to 0.69074, saving model to model\\model-ALL-50.hdf5\n",
      "Epoch 51/200\n",
      "12/12 [==============================] - 24s 2s/step - loss: 0.6908 - accuracy: 0.5690 - val_loss: 0.6906 - val_accuracy: 0.5622\n",
      "\n",
      "Epoch 00051: val_loss improved from 0.69074 to 0.69059, saving model to model\\model-ALL-51.hdf5\n",
      "Epoch 52/200\n",
      "12/12 [==============================] - 23s 2s/step - loss: 0.6909 - accuracy: 0.5619 - val_loss: 0.6905 - val_accuracy: 0.5620\n",
      "\n",
      "Epoch 00052: val_loss improved from 0.69059 to 0.69054, saving model to model\\model-ALL-52.hdf5\n",
      "Epoch 53/200\n",
      "12/12 [==============================] - 23s 2s/step - loss: 0.6906 - accuracy: 0.5652 - val_loss: 0.6904 - val_accuracy: 0.5617\n",
      "\n",
      "Epoch 00053: val_loss improved from 0.69054 to 0.69044, saving model to model\\model-ALL-53.hdf5\n",
      "Epoch 54/200\n",
      "12/12 [==============================] - 23s 2s/step - loss: 0.6907 - accuracy: 0.5594 - val_loss: 0.6903 - val_accuracy: 0.5613\n",
      "\n",
      "Epoch 00054: val_loss improved from 0.69044 to 0.69034, saving model to model\\model-ALL-54.hdf5\n",
      "Epoch 55/200\n",
      "12/12 [==============================] - 24s 2s/step - loss: 0.6902 - accuracy: 0.5663 - val_loss: 0.6902 - val_accuracy: 0.5635\n",
      "\n",
      "Epoch 00055: val_loss improved from 0.69034 to 0.69019, saving model to model\\model-ALL-55.hdf5\n",
      "Epoch 56/200\n",
      "12/12 [==============================] - 27s 2s/step - loss: 0.6906 - accuracy: 0.5624 - val_loss: 0.6901 - val_accuracy: 0.5624\n",
      "\n",
      "Epoch 00056: val_loss improved from 0.69019 to 0.69010, saving model to model\\model-ALL-56.hdf5\n",
      "Epoch 57/200\n",
      "12/12 [==============================] - 28s 2s/step - loss: 0.6901 - accuracy: 0.5649 - val_loss: 0.6900 - val_accuracy: 0.5622\n",
      "\n",
      "Epoch 00057: val_loss improved from 0.69010 to 0.68996, saving model to model\\model-ALL-57.hdf5\n",
      "Epoch 58/200\n",
      "12/12 [==============================] - 24s 2s/step - loss: 0.6900 - accuracy: 0.5641 - val_loss: 0.6899 - val_accuracy: 0.5625\n",
      "\n",
      "Epoch 00058: val_loss improved from 0.68996 to 0.68986, saving model to model\\model-ALL-58.hdf5\n",
      "Epoch 59/200\n",
      "12/12 [==============================] - 22s 2s/step - loss: 0.6900 - accuracy: 0.5690 - val_loss: 0.6898 - val_accuracy: 0.5621\n",
      "\n",
      "Epoch 00059: val_loss improved from 0.68986 to 0.68981, saving model to model\\model-ALL-59.hdf5\n",
      "Epoch 60/200\n",
      "12/12 [==============================] - 22s 2s/step - loss: 0.6896 - accuracy: 0.5689 - val_loss: 0.6896 - val_accuracy: 0.5630\n",
      "\n",
      "Epoch 00060: val_loss improved from 0.68981 to 0.68965, saving model to model\\model-ALL-60.hdf5\n",
      "Epoch 61/200\n",
      "12/12 [==============================] - 22s 2s/step - loss: 0.6898 - accuracy: 0.5630 - val_loss: 0.6895 - val_accuracy: 0.5620\n",
      "\n",
      "Epoch 00061: val_loss improved from 0.68965 to 0.68955, saving model to model\\model-ALL-61.hdf5\n",
      "Epoch 62/200\n",
      "12/12 [==============================] - 22s 2s/step - loss: 0.6897 - accuracy: 0.5646 - val_loss: 0.6894 - val_accuracy: 0.5625\n",
      "\n",
      "Epoch 00062: val_loss improved from 0.68955 to 0.68944, saving model to model\\model-ALL-62.hdf5\n",
      "Epoch 63/200\n",
      "12/12 [==============================] - 23s 2s/step - loss: 0.6895 - accuracy: 0.5686 - val_loss: 0.6893 - val_accuracy: 0.5637\n",
      "\n",
      "Epoch 00063: val_loss improved from 0.68944 to 0.68931, saving model to model\\model-ALL-63.hdf5\n",
      "Epoch 64/200\n",
      "12/12 [==============================] - 23s 2s/step - loss: 0.6891 - accuracy: 0.5754 - val_loss: 0.6892 - val_accuracy: 0.5631\n",
      "\n",
      "Epoch 00064: val_loss improved from 0.68931 to 0.68919, saving model to model\\model-ALL-64.hdf5\n",
      "Epoch 65/200\n",
      "12/12 [==============================] - 23s 2s/step - loss: 0.6893 - accuracy: 0.5710 - val_loss: 0.6891 - val_accuracy: 0.5637\n",
      "\n",
      "Epoch 00065: val_loss improved from 0.68919 to 0.68907, saving model to model\\model-ALL-65.hdf5\n",
      "Epoch 66/200\n",
      "12/12 [==============================] - 23s 2s/step - loss: 0.6892 - accuracy: 0.5686 - val_loss: 0.6890 - val_accuracy: 0.5638\n",
      "\n",
      "Epoch 00066: val_loss improved from 0.68907 to 0.68896, saving model to model\\model-ALL-66.hdf5\n",
      "Epoch 67/200\n",
      "12/12 [==============================] - 24s 2s/step - loss: 0.6890 - accuracy: 0.5670 - val_loss: 0.6888 - val_accuracy: 0.5637\n",
      "\n",
      "Epoch 00067: val_loss improved from 0.68896 to 0.68885, saving model to model\\model-ALL-67.hdf5\n",
      "Epoch 68/200\n",
      "12/12 [==============================] - 29s 2s/step - loss: 0.6888 - accuracy: 0.5678 - val_loss: 0.6888 - val_accuracy: 0.5649\n",
      "\n",
      "Epoch 00068: val_loss improved from 0.68885 to 0.68878, saving model to model\\model-ALL-68.hdf5\n",
      "Epoch 69/200\n",
      "12/12 [==============================] - 26s 2s/step - loss: 0.6886 - accuracy: 0.5702 - val_loss: 0.6887 - val_accuracy: 0.5648\n",
      "\n",
      "Epoch 00069: val_loss improved from 0.68878 to 0.68866, saving model to model\\model-ALL-69.hdf5\n",
      "Epoch 70/200\n",
      "12/12 [==============================] - 22s 2s/step - loss: 0.6887 - accuracy: 0.5663 - val_loss: 0.6885 - val_accuracy: 0.5642\n",
      "\n",
      "Epoch 00070: val_loss improved from 0.68866 to 0.68853, saving model to model\\model-ALL-70.hdf5\n",
      "Epoch 71/200\n",
      "12/12 [==============================] - 22s 2s/step - loss: 0.6885 - accuracy: 0.5657 - val_loss: 0.6884 - val_accuracy: 0.5634\n",
      "\n",
      "Epoch 00071: val_loss improved from 0.68853 to 0.68845, saving model to model\\model-ALL-71.hdf5\n",
      "Epoch 72/200\n",
      "12/12 [==============================] - 22s 2s/step - loss: 0.6884 - accuracy: 0.5641 - val_loss: 0.6883 - val_accuracy: 0.5641\n",
      "\n",
      "Epoch 00072: val_loss improved from 0.68845 to 0.68830, saving model to model\\model-ALL-72.hdf5\n",
      "Epoch 73/200\n",
      "12/12 [==============================] - 24s 2s/step - loss: 0.6880 - accuracy: 0.5725 - val_loss: 0.6882 - val_accuracy: 0.5656\n",
      "\n",
      "Epoch 00073: val_loss improved from 0.68830 to 0.68822, saving model to model\\model-ALL-73.hdf5\n",
      "Epoch 74/200\n",
      "12/12 [==============================] - 23s 2s/step - loss: 0.6881 - accuracy: 0.5688 - val_loss: 0.6881 - val_accuracy: 0.5644\n",
      "\n",
      "Epoch 00074: val_loss improved from 0.68822 to 0.68809, saving model to model\\model-ALL-74.hdf5\n",
      "Epoch 75/200\n",
      "12/12 [==============================] - 24s 2s/step - loss: 0.6879 - accuracy: 0.5682 - val_loss: 0.6880 - val_accuracy: 0.5645\n",
      "\n",
      "Epoch 00075: val_loss improved from 0.68809 to 0.68797, saving model to model\\model-ALL-75.hdf5\n",
      "Epoch 76/200\n",
      "12/12 [==============================] - 25s 2s/step - loss: 0.6876 - accuracy: 0.5742 - val_loss: 0.6879 - val_accuracy: 0.5655\n",
      "\n",
      "Epoch 00076: val_loss improved from 0.68797 to 0.68788, saving model to model\\model-ALL-76.hdf5\n",
      "Epoch 77/200\n",
      "12/12 [==============================] - 29s 2s/step - loss: 0.6874 - accuracy: 0.5727 - val_loss: 0.6877 - val_accuracy: 0.5648\n",
      "\n",
      "Epoch 00077: val_loss improved from 0.68788 to 0.68775, saving model to model\\model-ALL-77.hdf5\n",
      "Epoch 78/200\n",
      "12/12 [==============================] - 30s 2s/step - loss: 0.6874 - accuracy: 0.5696 - val_loss: 0.6876 - val_accuracy: 0.5652\n",
      "\n",
      "Epoch 00078: val_loss improved from 0.68775 to 0.68763, saving model to model\\model-ALL-78.hdf5\n",
      "Epoch 79/200\n",
      "12/12 [==============================] - 26s 2s/step - loss: 0.6872 - accuracy: 0.5734 - val_loss: 0.6875 - val_accuracy: 0.5645\n",
      "\n",
      "Epoch 00079: val_loss improved from 0.68763 to 0.68755, saving model to model\\model-ALL-79.hdf5\n",
      "Epoch 80/200\n",
      "12/12 [==============================] - 24s 2s/step - loss: 0.6873 - accuracy: 0.5665 - val_loss: 0.6874 - val_accuracy: 0.5667\n",
      "\n",
      "Epoch 00080: val_loss improved from 0.68755 to 0.68737, saving model to model\\model-ALL-80.hdf5\n",
      "Epoch 81/200\n",
      "12/12 [==============================] - 23s 2s/step - loss: 0.6869 - accuracy: 0.5712 - val_loss: 0.6872 - val_accuracy: 0.5659\n",
      "\n",
      "Epoch 00081: val_loss improved from 0.68737 to 0.68723, saving model to model\\model-ALL-81.hdf5\n",
      "Epoch 82/200\n",
      "12/12 [==============================] - 23s 2s/step - loss: 0.6867 - accuracy: 0.5746 - val_loss: 0.6871 - val_accuracy: 0.5711\n",
      "\n",
      "Epoch 00082: val_loss improved from 0.68723 to 0.68713, saving model to model\\model-ALL-82.hdf5\n",
      "Epoch 83/200\n",
      "12/12 [==============================] - 23s 2s/step - loss: 0.6868 - accuracy: 0.5720 - val_loss: 0.6869 - val_accuracy: 0.5662\n",
      "\n",
      "Epoch 00083: val_loss improved from 0.68713 to 0.68693, saving model to model\\model-ALL-83.hdf5\n",
      "Epoch 84/200\n",
      "12/12 [==============================] - 23s 2s/step - loss: 0.6863 - accuracy: 0.5753 - val_loss: 0.6868 - val_accuracy: 0.5707\n",
      "\n",
      "Epoch 00084: val_loss improved from 0.68693 to 0.68681, saving model to model\\model-ALL-84.hdf5\n",
      "Epoch 85/200\n",
      "12/12 [==============================] - 24s 2s/step - loss: 0.6861 - accuracy: 0.5764 - val_loss: 0.6866 - val_accuracy: 0.5674\n",
      "\n",
      "Epoch 00085: val_loss improved from 0.68681 to 0.68663, saving model to model\\model-ALL-85.hdf5\n",
      "Epoch 86/200\n",
      "12/12 [==============================] - 23s 2s/step - loss: 0.6862 - accuracy: 0.5709 - val_loss: 0.6865 - val_accuracy: 0.5710\n",
      "\n",
      "Epoch 00086: val_loss improved from 0.68663 to 0.68648, saving model to model\\model-ALL-86.hdf5\n",
      "Epoch 87/200\n",
      "12/12 [==============================] - 23s 2s/step - loss: 0.6855 - accuracy: 0.5793 - val_loss: 0.6863 - val_accuracy: 0.5701\n",
      "\n",
      "Epoch 00087: val_loss improved from 0.68648 to 0.68633, saving model to model\\model-ALL-87.hdf5\n",
      "Epoch 88/200\n",
      "12/12 [==============================] - 22s 2s/step - loss: 0.6858 - accuracy: 0.5764 - val_loss: 0.6862 - val_accuracy: 0.5709\n",
      "\n",
      "Epoch 00088: val_loss improved from 0.68633 to 0.68619, saving model to model\\model-ALL-88.hdf5\n",
      "Epoch 89/200\n",
      "12/12 [==============================] - 23s 2s/step - loss: 0.6857 - accuracy: 0.5719 - val_loss: 0.6860 - val_accuracy: 0.5707\n",
      "\n",
      "Epoch 00089: val_loss improved from 0.68619 to 0.68605, saving model to model\\model-ALL-89.hdf5\n",
      "Epoch 90/200\n",
      "12/12 [==============================] - 23s 2s/step - loss: 0.6853 - accuracy: 0.5758 - val_loss: 0.6859 - val_accuracy: 0.5708\n",
      "\n",
      "Epoch 00090: val_loss improved from 0.68605 to 0.68590, saving model to model\\model-ALL-90.hdf5\n",
      "Epoch 91/200\n",
      "12/12 [==============================] - 23s 2s/step - loss: 0.6847 - accuracy: 0.5814 - val_loss: 0.6857 - val_accuracy: 0.5710\n",
      "\n",
      "Epoch 00091: val_loss improved from 0.68590 to 0.68575, saving model to model\\model-ALL-91.hdf5\n",
      "Epoch 92/200\n",
      "12/12 [==============================] - 22s 2s/step - loss: 0.6848 - accuracy: 0.5782 - val_loss: 0.6856 - val_accuracy: 0.5681\n",
      "\n",
      "Epoch 00092: val_loss improved from 0.68575 to 0.68561, saving model to model\\model-ALL-92.hdf5\n",
      "Epoch 93/200\n",
      "12/12 [==============================] - 24s 2s/step - loss: 0.6846 - accuracy: 0.5762 - val_loss: 0.6855 - val_accuracy: 0.5679\n",
      "\n",
      "Epoch 00093: val_loss improved from 0.68561 to 0.68548, saving model to model\\model-ALL-93.hdf5\n",
      "Epoch 94/200\n",
      "12/12 [==============================] - 24s 2s/step - loss: 0.6847 - accuracy: 0.5758 - val_loss: 0.6853 - val_accuracy: 0.5713\n",
      "\n",
      "Epoch 00094: val_loss improved from 0.68548 to 0.68529, saving model to model\\model-ALL-94.hdf5\n",
      "Epoch 95/200\n",
      "12/12 [==============================] - 24s 2s/step - loss: 0.6845 - accuracy: 0.5741 - val_loss: 0.6851 - val_accuracy: 0.5717\n",
      "\n",
      "Epoch 00095: val_loss improved from 0.68529 to 0.68514, saving model to model\\model-ALL-95.hdf5\n",
      "Epoch 96/200\n",
      "12/12 [==============================] - 25s 2s/step - loss: 0.6837 - accuracy: 0.5821 - val_loss: 0.6850 - val_accuracy: 0.5725\n",
      "\n",
      "Epoch 00096: val_loss improved from 0.68514 to 0.68499, saving model to model\\model-ALL-96.hdf5\n",
      "Epoch 97/200\n",
      "12/12 [==============================] - 23s 2s/step - loss: 0.6840 - accuracy: 0.5848 - val_loss: 0.6848 - val_accuracy: 0.5711\n",
      "\n",
      "Epoch 00097: val_loss improved from 0.68499 to 0.68483, saving model to model\\model-ALL-97.hdf5\n",
      "Epoch 98/200\n",
      "12/12 [==============================] - 32s 3s/step - loss: 0.6836 - accuracy: 0.5778 - val_loss: 0.6847 - val_accuracy: 0.5710\n",
      "\n",
      "Epoch 00098: val_loss improved from 0.68483 to 0.68467, saving model to model\\model-ALL-98.hdf5\n",
      "Epoch 99/200\n",
      "12/12 [==============================] - 26s 2s/step - loss: 0.6831 - accuracy: 0.5810 - val_loss: 0.6846 - val_accuracy: 0.5724\n",
      "\n",
      "Epoch 00099: val_loss improved from 0.68467 to 0.68456, saving model to model\\model-ALL-99.hdf5\n",
      "Epoch 100/200\n",
      "12/12 [==============================] - 24s 2s/step - loss: 0.6828 - accuracy: 0.5927 - val_loss: 0.6843 - val_accuracy: 0.5717\n",
      "\n",
      "Epoch 00100: val_loss improved from 0.68456 to 0.68432, saving model to model\\model-ALL-100.hdf5\n",
      "Epoch 101/200\n",
      "12/12 [==============================] - 23s 2s/step - loss: 0.6831 - accuracy: 0.5869 - val_loss: 0.6841 - val_accuracy: 0.5716\n",
      "\n",
      "Epoch 00101: val_loss improved from 0.68432 to 0.68415, saving model to model\\model-ALL-101.hdf5\n",
      "Epoch 102/200\n",
      "12/12 [==============================] - 23s 2s/step - loss: 0.6822 - accuracy: 0.5892 - val_loss: 0.6840 - val_accuracy: 0.5720\n",
      "\n",
      "Epoch 00102: val_loss improved from 0.68415 to 0.68396, saving model to model\\model-ALL-102.hdf5\n",
      "Epoch 103/200\n",
      "12/12 [==============================] - 24s 2s/step - loss: 0.6823 - accuracy: 0.5888 - val_loss: 0.6838 - val_accuracy: 0.5721\n",
      "\n",
      "Epoch 00103: val_loss improved from 0.68396 to 0.68382, saving model to model\\model-ALL-103.hdf5\n",
      "Epoch 104/200\n",
      "12/12 [==============================] - 23s 2s/step - loss: 0.6824 - accuracy: 0.5898 - val_loss: 0.6836 - val_accuracy: 0.5716\n",
      "\n",
      "Epoch 00104: val_loss improved from 0.68382 to 0.68360, saving model to model\\model-ALL-104.hdf5\n",
      "Epoch 105/200\n",
      "12/12 [==============================] - 25s 2s/step - loss: 0.6814 - accuracy: 0.5919 - val_loss: 0.6835 - val_accuracy: 0.5732\n",
      "\n",
      "Epoch 00105: val_loss improved from 0.68360 to 0.68349, saving model to model\\model-ALL-105.hdf5\n",
      "Epoch 106/200\n",
      "12/12 [==============================] - 24s 2s/step - loss: 0.6814 - accuracy: 0.6096 - val_loss: 0.6832 - val_accuracy: 0.5723\n",
      "\n",
      "Epoch 00106: val_loss improved from 0.68349 to 0.68320, saving model to model\\model-ALL-106.hdf5\n",
      "Epoch 107/200\n",
      "12/12 [==============================] - 36s 3s/step - loss: 0.6811 - accuracy: 0.5914 - val_loss: 0.6830 - val_accuracy: 0.5730\n",
      "\n",
      "Epoch 00107: val_loss improved from 0.68320 to 0.68304, saving model to model\\model-ALL-107.hdf5\n",
      "Epoch 108/200\n",
      "12/12 [==============================] - 26s 2s/step - loss: 0.6806 - accuracy: 0.6047 - val_loss: 0.6828 - val_accuracy: 0.5720\n",
      "\n",
      "Epoch 00108: val_loss improved from 0.68304 to 0.68280, saving model to model\\model-ALL-108.hdf5\n",
      "Epoch 109/200\n",
      "12/12 [==============================] - 23s 2s/step - loss: 0.6800 - accuracy: 0.5994 - val_loss: 0.6826 - val_accuracy: 0.5731\n",
      "\n",
      "Epoch 00109: val_loss improved from 0.68280 to 0.68261, saving model to model\\model-ALL-109.hdf5\n",
      "Epoch 110/200\n",
      "12/12 [==============================] - 24s 2s/step - loss: 0.6798 - accuracy: 0.6043 - val_loss: 0.6825 - val_accuracy: 0.5732\n",
      "\n",
      "Epoch 00110: val_loss improved from 0.68261 to 0.68247, saving model to model\\model-ALL-110.hdf5\n",
      "Epoch 111/200\n",
      "12/12 [==============================] - 23s 2s/step - loss: 0.6796 - accuracy: 0.6174 - val_loss: 0.6822 - val_accuracy: 0.5730\n",
      "\n",
      "Epoch 00111: val_loss improved from 0.68247 to 0.68215, saving model to model\\model-ALL-111.hdf5\n",
      "Epoch 112/200\n",
      "12/12 [==============================] - 25s 2s/step - loss: 0.6795 - accuracy: 0.6081 - val_loss: 0.6819 - val_accuracy: 0.5725\n",
      "\n",
      "Epoch 00112: val_loss improved from 0.68215 to 0.68193, saving model to model\\model-ALL-112.hdf5\n",
      "Epoch 113/200\n",
      "12/12 [==============================] - 23s 2s/step - loss: 0.6790 - accuracy: 0.6183 - val_loss: 0.6818 - val_accuracy: 0.5732\n",
      "\n",
      "Epoch 00113: val_loss improved from 0.68193 to 0.68183, saving model to model\\model-ALL-113.hdf5\n",
      "Epoch 114/200\n",
      "12/12 [==============================] - 23s 2s/step - loss: 0.6789 - accuracy: 0.6313 - val_loss: 0.6815 - val_accuracy: 0.5741\n",
      "\n",
      "Epoch 00114: val_loss improved from 0.68183 to 0.68149, saving model to model\\model-ALL-114.hdf5\n",
      "Epoch 115/200\n",
      "12/12 [==============================] - 24s 2s/step - loss: 0.6785 - accuracy: 0.6289 - val_loss: 0.6813 - val_accuracy: 0.5734\n",
      "\n",
      "Epoch 00115: val_loss improved from 0.68149 to 0.68133, saving model to model\\model-ALL-115.hdf5\n",
      "Epoch 116/200\n",
      "12/12 [==============================] - 29s 2s/step - loss: 0.6778 - accuracy: 0.6424 - val_loss: 0.6810 - val_accuracy: 0.5736\n",
      "\n",
      "Epoch 00116: val_loss improved from 0.68133 to 0.68099, saving model to model\\model-ALL-116.hdf5\n",
      "Epoch 117/200\n",
      "12/12 [==============================] - 27s 2s/step - loss: 0.6775 - accuracy: 0.6385 - val_loss: 0.6807 - val_accuracy: 0.5737\n",
      "\n",
      "Epoch 00117: val_loss improved from 0.68099 to 0.68073, saving model to model\\model-ALL-117.hdf5\n",
      "Epoch 118/200\n",
      "12/12 [==============================] - 30s 3s/step - loss: 0.6769 - accuracy: 0.6346 - val_loss: 0.6805 - val_accuracy: 0.5738\n",
      "\n",
      "Epoch 00118: val_loss improved from 0.68073 to 0.68046, saving model to model\\model-ALL-118.hdf5\n",
      "Epoch 119/200\n",
      "12/12 [==============================] - 24s 2s/step - loss: 0.6767 - accuracy: 0.6410 - val_loss: 0.6802 - val_accuracy: 0.5742\n",
      "\n",
      "Epoch 00119: val_loss improved from 0.68046 to 0.68019, saving model to model\\model-ALL-119.hdf5\n",
      "Epoch 120/200\n",
      "12/12 [==============================] - 22s 2s/step - loss: 0.6762 - accuracy: 0.6493 - val_loss: 0.6799 - val_accuracy: 0.5735\n",
      "\n",
      "Epoch 00120: val_loss improved from 0.68019 to 0.67993, saving model to model\\model-ALL-120.hdf5\n",
      "Epoch 121/200\n",
      "12/12 [==============================] - 23s 2s/step - loss: 0.6757 - accuracy: 0.6580 - val_loss: 0.6797 - val_accuracy: 0.5757\n",
      "\n",
      "Epoch 00121: val_loss improved from 0.67993 to 0.67967, saving model to model\\model-ALL-121.hdf5\n",
      "Epoch 122/200\n",
      "12/12 [==============================] - 22s 2s/step - loss: 0.6755 - accuracy: 0.6711 - val_loss: 0.6793 - val_accuracy: 0.5740\n",
      "\n",
      "Epoch 00122: val_loss improved from 0.67967 to 0.67931, saving model to model\\model-ALL-122.hdf5\n",
      "Epoch 123/200\n",
      "12/12 [==============================] - 23s 2s/step - loss: 0.6749 - accuracy: 0.6651 - val_loss: 0.6790 - val_accuracy: 0.5742\n",
      "\n",
      "Epoch 00123: val_loss improved from 0.67931 to 0.67903, saving model to model\\model-ALL-123.hdf5\n",
      "Epoch 124/200\n",
      "12/12 [==============================] - 25s 2s/step - loss: 0.6743 - accuracy: 0.6672 - val_loss: 0.6787 - val_accuracy: 0.5745\n",
      "\n",
      "Epoch 00124: val_loss improved from 0.67903 to 0.67868, saving model to model\\model-ALL-124.hdf5\n",
      "Epoch 125/200\n",
      "12/12 [==============================] - 24s 2s/step - loss: 0.6739 - accuracy: 0.6693 - val_loss: 0.6783 - val_accuracy: 0.5742\n",
      "\n",
      "Epoch 00125: val_loss improved from 0.67868 to 0.67831, saving model to model\\model-ALL-125.hdf5\n",
      "Epoch 126/200\n",
      "12/12 [==============================] - 24s 2s/step - loss: 0.6729 - accuracy: 0.6746 - val_loss: 0.6781 - val_accuracy: 0.6495\n",
      "\n",
      "Epoch 00126: val_loss improved from 0.67831 to 0.67812, saving model to model\\model-ALL-126.hdf5\n",
      "Epoch 127/200\n",
      "12/12 [==============================] - 24s 2s/step - loss: 0.6728 - accuracy: 0.7004 - val_loss: 0.6776 - val_accuracy: 0.5744\n",
      "\n",
      "Epoch 00127: val_loss improved from 0.67812 to 0.67761, saving model to model\\model-ALL-127.hdf5\n",
      "Epoch 128/200\n",
      "12/12 [==============================] - 24s 2s/step - loss: 0.6720 - accuracy: 0.6898 - val_loss: 0.6772 - val_accuracy: 0.5900\n",
      "\n",
      "Epoch 00128: val_loss improved from 0.67761 to 0.67720, saving model to model\\model-ALL-128.hdf5\n",
      "Epoch 129/200\n",
      "12/12 [==============================] - 24s 2s/step - loss: 0.6711 - accuracy: 0.7024 - val_loss: 0.6768 - val_accuracy: 0.5751\n",
      "\n",
      "Epoch 00129: val_loss improved from 0.67720 to 0.67681, saving model to model\\model-ALL-129.hdf5\n",
      "Epoch 130/200\n",
      "12/12 [==============================] - 23s 2s/step - loss: 0.6707 - accuracy: 0.6968 - val_loss: 0.6764 - val_accuracy: 0.5757\n",
      "\n",
      "Epoch 00130: val_loss improved from 0.67681 to 0.67642, saving model to model\\model-ALL-130.hdf5\n",
      "Epoch 131/200\n",
      "12/12 [==============================] - 30s 3s/step - loss: 0.6702 - accuracy: 0.7005 - val_loss: 0.6760 - val_accuracy: 0.5760\n",
      "\n",
      "Epoch 00131: val_loss improved from 0.67642 to 0.67602, saving model to model\\model-ALL-131.hdf5\n",
      "Epoch 132/200\n",
      "12/12 [==============================] - 26s 2s/step - loss: 0.6700 - accuracy: 0.6991 - val_loss: 0.6755 - val_accuracy: 0.6018\n",
      "\n",
      "Epoch 00132: val_loss improved from 0.67602 to 0.67549, saving model to model\\model-ALL-132.hdf5\n",
      "Epoch 133/200\n",
      "12/12 [==============================] - 23s 2s/step - loss: 0.6682 - accuracy: 0.7120 - val_loss: 0.6752 - val_accuracy: 0.6898\n",
      "\n",
      "Epoch 00133: val_loss improved from 0.67549 to 0.67523, saving model to model\\model-ALL-133.hdf5\n",
      "Epoch 134/200\n",
      "12/12 [==============================] - 23s 2s/step - loss: 0.6673 - accuracy: 0.7258 - val_loss: 0.6745 - val_accuracy: 0.6333\n",
      "\n",
      "Epoch 00134: val_loss improved from 0.67523 to 0.67451, saving model to model\\model-ALL-134.hdf5\n",
      "Epoch 135/200\n",
      "12/12 [==============================] - 22s 2s/step - loss: 0.6666 - accuracy: 0.7235 - val_loss: 0.6740 - val_accuracy: 0.6372\n",
      "\n",
      "Epoch 00135: val_loss improved from 0.67451 to 0.67399, saving model to model\\model-ALL-135.hdf5\n",
      "Epoch 136/200\n",
      "12/12 [==============================] - 23s 2s/step - loss: 0.6663 - accuracy: 0.7155 - val_loss: 0.6735 - val_accuracy: 0.6850\n",
      "\n",
      "Epoch 00136: val_loss improved from 0.67399 to 0.67347, saving model to model\\model-ALL-136.hdf5\n",
      "Epoch 137/200\n",
      "12/12 [==============================] - 24s 2s/step - loss: 0.6656 - accuracy: 0.7191 - val_loss: 0.6728 - val_accuracy: 0.6593\n",
      "\n",
      "Epoch 00137: val_loss improved from 0.67347 to 0.67284, saving model to model\\model-ALL-137.hdf5\n",
      "Epoch 138/200\n",
      "12/12 [==============================] - 23s 2s/step - loss: 0.6627 - accuracy: 0.7296 - val_loss: 0.6722 - val_accuracy: 0.6696\n",
      "\n",
      "Epoch 00138: val_loss improved from 0.67284 to 0.67221, saving model to model\\model-ALL-138.hdf5\n",
      "Epoch 139/200\n",
      "12/12 [==============================] - 22s 2s/step - loss: 0.6622 - accuracy: 0.7322 - val_loss: 0.6716 - val_accuracy: 0.6958\n",
      "\n",
      "Epoch 00139: val_loss improved from 0.67221 to 0.67160, saving model to model\\model-ALL-139.hdf5\n",
      "Epoch 140/200\n",
      "12/12 [==============================] - 23s 2s/step - loss: 0.6609 - accuracy: 0.7349 - val_loss: 0.6709 - val_accuracy: 0.6685\n",
      "\n",
      "Epoch 00140: val_loss improved from 0.67160 to 0.67091, saving model to model\\model-ALL-140.hdf5\n",
      "Epoch 141/200\n",
      "12/12 [==============================] - 23s 2s/step - loss: 0.6602 - accuracy: 0.7352 - val_loss: 0.6701 - val_accuracy: 0.6907\n",
      "\n",
      "Epoch 00141: val_loss improved from 0.67091 to 0.67014, saving model to model\\model-ALL-141.hdf5\n",
      "Epoch 142/200\n",
      "12/12 [==============================] - 24s 2s/step - loss: 0.6586 - accuracy: 0.7333 - val_loss: 0.6694 - val_accuracy: 0.6847\n",
      "\n",
      "Epoch 00142: val_loss improved from 0.67014 to 0.66941, saving model to model\\model-ALL-142.hdf5\n",
      "Epoch 143/200\n",
      "12/12 [==============================] - 28s 2s/step - loss: 0.6575 - accuracy: 0.7328 - val_loss: 0.6687 - val_accuracy: 0.6763\n",
      "\n",
      "Epoch 00143: val_loss improved from 0.66941 to 0.66867, saving model to model\\model-ALL-143.hdf5\n",
      "Epoch 144/200\n",
      "12/12 [==============================] - 28s 2s/step - loss: 0.6555 - accuracy: 0.7386 - val_loss: 0.6677 - val_accuracy: 0.6997\n",
      "\n",
      "Epoch 00144: val_loss improved from 0.66867 to 0.66772, saving model to model\\model-ALL-144.hdf5\n",
      "Epoch 145/200\n",
      "12/12 [==============================] - 24s 2s/step - loss: 0.6558 - accuracy: 0.7350 - val_loss: 0.6669 - val_accuracy: 0.6950\n",
      "\n",
      "Epoch 00145: val_loss improved from 0.66772 to 0.66687, saving model to model\\model-ALL-145.hdf5\n",
      "Epoch 146/200\n",
      "12/12 [==============================] - 24s 2s/step - loss: 0.6542 - accuracy: 0.7315 - val_loss: 0.6659 - val_accuracy: 0.7003\n",
      "\n",
      "Epoch 00146: val_loss improved from 0.66687 to 0.66590, saving model to model\\model-ALL-146.hdf5\n",
      "Epoch 147/200\n",
      "12/12 [==============================] - 24s 2s/step - loss: 0.6510 - accuracy: 0.7457 - val_loss: 0.6649 - val_accuracy: 0.6999\n",
      "\n",
      "Epoch 00147: val_loss improved from 0.66590 to 0.66492, saving model to model\\model-ALL-147.hdf5\n",
      "Epoch 148/200\n",
      "12/12 [==============================] - 23s 2s/step - loss: 0.6497 - accuracy: 0.7407 - val_loss: 0.6638 - val_accuracy: 0.7058\n",
      "\n",
      "Epoch 00148: val_loss improved from 0.66492 to 0.66381, saving model to model\\model-ALL-148.hdf5\n",
      "Epoch 149/200\n",
      "12/12 [==============================] - 24s 2s/step - loss: 0.6473 - accuracy: 0.7452 - val_loss: 0.6634 - val_accuracy: 0.6660\n",
      "\n",
      "Epoch 00149: val_loss improved from 0.66381 to 0.66337, saving model to model\\model-ALL-149.hdf5\n",
      "Epoch 150/200\n",
      "12/12 [==============================] - 24s 2s/step - loss: 0.6454 - accuracy: 0.7426 - val_loss: 0.6619 - val_accuracy: 0.6908\n",
      "\n",
      "Epoch 00150: val_loss improved from 0.66337 to 0.66185, saving model to model\\model-ALL-150.hdf5\n",
      "Epoch 151/200\n",
      "12/12 [==============================] - 25s 2s/step - loss: 0.6436 - accuracy: 0.7433 - val_loss: 0.6602 - val_accuracy: 0.7099\n",
      "\n",
      "Epoch 00151: val_loss improved from 0.66185 to 0.66023, saving model to model\\model-ALL-151.hdf5\n",
      "Epoch 152/200\n",
      "12/12 [==============================] - 32s 3s/step - loss: 0.6418 - accuracy: 0.7454 - val_loss: 0.6595 - val_accuracy: 0.6901\n",
      "\n",
      "Epoch 00152: val_loss improved from 0.66023 to 0.65952, saving model to model\\model-ALL-152.hdf5\n",
      "Epoch 153/200\n",
      "12/12 [==============================] - 26s 2s/step - loss: 0.6393 - accuracy: 0.7452 - val_loss: 0.6588 - val_accuracy: 0.6674\n",
      "\n",
      "Epoch 00153: val_loss improved from 0.65952 to 0.65882, saving model to model\\model-ALL-153.hdf5\n",
      "Epoch 154/200\n",
      "12/12 [==============================] - 23s 2s/step - loss: 0.6362 - accuracy: 0.7537 - val_loss: 0.6570 - val_accuracy: 0.6894\n",
      "\n",
      "Epoch 00154: val_loss improved from 0.65882 to 0.65704, saving model to model\\model-ALL-154.hdf5\n",
      "Epoch 155/200\n",
      "12/12 [==============================] - 22s 2s/step - loss: 0.6335 - accuracy: 0.7524 - val_loss: 0.6562 - val_accuracy: 0.6729\n",
      "\n",
      "Epoch 00155: val_loss improved from 0.65704 to 0.65617, saving model to model\\model-ALL-155.hdf5\n",
      "Epoch 156/200\n",
      "12/12 [==============================] - 22s 2s/step - loss: 0.6318 - accuracy: 0.7492 - val_loss: 0.6533 - val_accuracy: 0.7167\n",
      "\n",
      "Epoch 00156: val_loss improved from 0.65617 to 0.65331, saving model to model\\model-ALL-156.hdf5\n",
      "Epoch 157/200\n",
      "12/12 [==============================] - 23s 2s/step - loss: 0.6286 - accuracy: 0.7560 - val_loss: 0.6529 - val_accuracy: 0.6926\n",
      "\n",
      "Epoch 00157: val_loss improved from 0.65331 to 0.65292, saving model to model\\model-ALL-157.hdf5\n",
      "Epoch 158/200\n",
      "12/12 [==============================] - 24s 2s/step - loss: 0.6270 - accuracy: 0.7540 - val_loss: 0.6519 - val_accuracy: 0.6829\n",
      "\n",
      "Epoch 00158: val_loss improved from 0.65292 to 0.65189, saving model to model\\model-ALL-158.hdf5\n",
      "Epoch 159/200\n",
      "12/12 [==============================] - 25s 2s/step - loss: 0.6236 - accuracy: 0.7590 - val_loss: 0.6500 - val_accuracy: 0.6945\n",
      "\n",
      "Epoch 00159: val_loss improved from 0.65189 to 0.65002, saving model to model\\model-ALL-159.hdf5\n",
      "Epoch 160/200\n",
      "12/12 [==============================] - 29s 2s/step - loss: 0.6226 - accuracy: 0.7513 - val_loss: 0.6479 - val_accuracy: 0.7085\n",
      "\n",
      "Epoch 00160: val_loss improved from 0.65002 to 0.64792, saving model to model\\model-ALL-160.hdf5\n",
      "Epoch 161/200\n",
      "12/12 [==============================] - 24s 2s/step - loss: 0.6186 - accuracy: 0.7598 - val_loss: 0.6468 - val_accuracy: 0.7001\n",
      "\n",
      "Epoch 00161: val_loss improved from 0.64792 to 0.64682, saving model to model\\model-ALL-161.hdf5\n",
      "Epoch 162/200\n",
      "12/12 [==============================] - 23s 2s/step - loss: 0.6162 - accuracy: 0.7580 - val_loss: 0.6440 - val_accuracy: 0.7196\n",
      "\n",
      "Epoch 00162: val_loss improved from 0.64682 to 0.64399, saving model to model\\model-ALL-162.hdf5\n",
      "Epoch 163/200\n",
      "12/12 [==============================] - 24s 2s/step - loss: 0.6141 - accuracy: 0.7623 - val_loss: 0.6442 - val_accuracy: 0.6954\n",
      "\n",
      "Epoch 00163: val_loss did not improve from 0.64399\n",
      "Epoch 164/200\n",
      "12/12 [==============================] - 22s 2s/step - loss: 0.6105 - accuracy: 0.7629 - val_loss: 0.6406 - val_accuracy: 0.7204\n",
      "\n",
      "Epoch 00164: val_loss improved from 0.64399 to 0.64061, saving model to model\\model-ALL-164.hdf5\n",
      "Epoch 165/200\n",
      "12/12 [==============================] - 23s 2s/step - loss: 0.6066 - accuracy: 0.7702 - val_loss: 0.6386 - val_accuracy: 0.7236\n",
      "\n",
      "Epoch 00165: val_loss improved from 0.64061 to 0.63863, saving model to model\\model-ALL-165.hdf5\n",
      "Epoch 166/200\n",
      "12/12 [==============================] - 25s 2s/step - loss: 0.6040 - accuracy: 0.7660 - val_loss: 0.6366 - val_accuracy: 0.7254\n",
      "\n",
      "Epoch 00166: val_loss improved from 0.63863 to 0.63661, saving model to model\\model-ALL-166.hdf5\n",
      "Epoch 167/200\n",
      "12/12 [==============================] - 22s 2s/step - loss: 0.6021 - accuracy: 0.7627 - val_loss: 0.6373 - val_accuracy: 0.7029\n",
      "\n",
      "Epoch 00167: val_loss did not improve from 0.63661\n",
      "Epoch 168/200\n",
      "12/12 [==============================] - 24s 2s/step - loss: 0.5974 - accuracy: 0.7691 - val_loss: 0.6360 - val_accuracy: 0.7001\n",
      "\n",
      "Epoch 00168: val_loss improved from 0.63661 to 0.63604, saving model to model\\model-ALL-168.hdf5\n",
      "Epoch 169/200\n",
      "12/12 [==============================] - 24s 2s/step - loss: 0.5939 - accuracy: 0.7723 - val_loss: 0.6306 - val_accuracy: 0.7271\n",
      "\n",
      "Epoch 00169: val_loss improved from 0.63604 to 0.63058, saving model to model\\model-ALL-169.hdf5\n",
      "Epoch 170/200\n",
      "12/12 [==============================] - 26s 2s/step - loss: 0.5897 - accuracy: 0.7784 - val_loss: 0.6294 - val_accuracy: 0.7244\n",
      "\n",
      "Epoch 00170: val_loss improved from 0.63058 to 0.62938, saving model to model\\model-ALL-170.hdf5\n",
      "Epoch 171/200\n",
      "12/12 [==============================] - 28s 2s/step - loss: 0.5882 - accuracy: 0.7770 - val_loss: 0.6269 - val_accuracy: 0.7266\n",
      "\n",
      "Epoch 00171: val_loss improved from 0.62938 to 0.62691, saving model to model\\model-ALL-171.hdf5\n",
      "Epoch 172/200\n",
      "12/12 [==============================] - 24s 2s/step - loss: 0.5835 - accuracy: 0.7807 - val_loss: 0.6263 - val_accuracy: 0.7208\n",
      "\n",
      "Epoch 00172: val_loss improved from 0.62691 to 0.62628, saving model to model\\model-ALL-172.hdf5\n",
      "Epoch 173/200\n",
      "12/12 [==============================] - 22s 2s/step - loss: 0.5785 - accuracy: 0.7844 - val_loss: 0.6241 - val_accuracy: 0.7216\n",
      "\n",
      "Epoch 00173: val_loss improved from 0.62628 to 0.62413, saving model to model\\model-ALL-173.hdf5\n",
      "Epoch 174/200\n",
      "12/12 [==============================] - 22s 2s/step - loss: 0.5756 - accuracy: 0.7860 - val_loss: 0.6223 - val_accuracy: 0.7224\n",
      "\n",
      "Epoch 00174: val_loss improved from 0.62413 to 0.62228, saving model to model\\model-ALL-174.hdf5\n",
      "Epoch 175/200\n",
      "12/12 [==============================] - 23s 2s/step - loss: 0.5727 - accuracy: 0.7825 - val_loss: 0.6168 - val_accuracy: 0.7305\n",
      "\n",
      "Epoch 00175: val_loss improved from 0.62228 to 0.61682, saving model to model\\model-ALL-175.hdf5\n",
      "Epoch 176/200\n",
      "12/12 [==============================] - 22s 2s/step - loss: 0.5656 - accuracy: 0.7948 - val_loss: 0.6221 - val_accuracy: 0.7083\n",
      "\n",
      "Epoch 00176: val_loss did not improve from 0.61682\n",
      "Epoch 177/200\n",
      "12/12 [==============================] - 23s 2s/step - loss: 0.5640 - accuracy: 0.7878 - val_loss: 0.6228 - val_accuracy: 0.6914\n",
      "\n",
      "Epoch 00177: val_loss did not improve from 0.61682\n",
      "Epoch 178/200\n",
      "12/12 [==============================] - 24s 2s/step - loss: 0.5601 - accuracy: 0.7870 - val_loss: 0.6125 - val_accuracy: 0.7256\n",
      "\n",
      "Epoch 00178: val_loss improved from 0.61682 to 0.61254, saving model to model\\model-ALL-178.hdf5\n",
      "Epoch 179/200\n",
      "12/12 [==============================] - 24s 2s/step - loss: 0.5515 - accuracy: 0.7968 - val_loss: 0.6132 - val_accuracy: 0.7219\n",
      "\n",
      "Epoch 00179: val_loss did not improve from 0.61254\n",
      "Epoch 180/200\n",
      "12/12 [==============================] - 23s 2s/step - loss: 0.5466 - accuracy: 0.7992 - val_loss: 0.6055 - val_accuracy: 0.7357\n",
      "\n",
      "Epoch 00180: val_loss improved from 0.61254 to 0.60546, saving model to model\\model-ALL-180.hdf5\n",
      "Epoch 181/200\n",
      "12/12 [==============================] - 23s 2s/step - loss: 0.5433 - accuracy: 0.8032 - val_loss: 0.6074 - val_accuracy: 0.7254\n",
      "\n",
      "Epoch 00181: val_loss did not improve from 0.60546\n",
      "Epoch 182/200\n",
      "12/12 [==============================] - 23s 2s/step - loss: 0.5397 - accuracy: 0.7987 - val_loss: 0.6136 - val_accuracy: 0.7057\n",
      "\n",
      "Epoch 00182: val_loss did not improve from 0.60546\n",
      "Epoch 183/200\n",
      "12/12 [==============================] - 23s 2s/step - loss: 0.5353 - accuracy: 0.8014 - val_loss: 0.5996 - val_accuracy: 0.7314\n",
      "\n",
      "Epoch 00183: val_loss improved from 0.60546 to 0.59965, saving model to model\\model-ALL-183.hdf5\n",
      "Epoch 184/200\n",
      "12/12 [==============================] - 23s 2s/step - loss: 0.5280 - accuracy: 0.8060 - val_loss: 0.5965 - val_accuracy: 0.7304\n",
      "\n",
      "Epoch 00184: val_loss improved from 0.59965 to 0.59654, saving model to model\\model-ALL-184.hdf5\n",
      "Epoch 185/200\n",
      "12/12 [==============================] - 23s 2s/step - loss: 0.5271 - accuracy: 0.8067 - val_loss: 0.5998 - val_accuracy: 0.7234\n",
      "\n",
      "Epoch 00185: val_loss did not improve from 0.59654\n",
      "Epoch 186/200\n",
      "12/12 [==============================] - 23s 2s/step - loss: 0.5194 - accuracy: 0.8106 - val_loss: 0.6024 - val_accuracy: 0.7173\n",
      "\n",
      "Epoch 00186: val_loss did not improve from 0.59654\n",
      "Epoch 187/200\n",
      "12/12 [==============================] - 23s 2s/step - loss: 0.5136 - accuracy: 0.8124 - val_loss: 0.5972 - val_accuracy: 0.7236\n",
      "\n",
      "Epoch 00187: val_loss did not improve from 0.59654\n",
      "Epoch 188/200\n",
      "12/12 [==============================] - 23s 2s/step - loss: 0.5088 - accuracy: 0.8143 - val_loss: 0.6009 - val_accuracy: 0.7134\n",
      "\n",
      "Epoch 00188: val_loss did not improve from 0.59654\n",
      "Epoch 189/200\n",
      "12/12 [==============================] - 23s 2s/step - loss: 0.5053 - accuracy: 0.8152 - val_loss: 0.5905 - val_accuracy: 0.7277\n",
      "\n",
      "Epoch 00189: val_loss improved from 0.59654 to 0.59049, saving model to model\\model-ALL-189.hdf5\n",
      "Epoch 190/200\n",
      "12/12 [==============================] - 23s 2s/step - loss: 0.4952 - accuracy: 0.8216 - val_loss: 0.5926 - val_accuracy: 0.7216\n",
      "\n",
      "Epoch 00190: val_loss did not improve from 0.59049\n",
      "Epoch 191/200\n",
      "12/12 [==============================] - 24s 2s/step - loss: 0.4907 - accuracy: 0.8244 - val_loss: 0.5935 - val_accuracy: 0.7184\n",
      "\n",
      "Epoch 00191: val_loss did not improve from 0.59049\n",
      "Epoch 192/200\n",
      "12/12 [==============================] - 23s 2s/step - loss: 0.4831 - accuracy: 0.8285 - val_loss: 0.5882 - val_accuracy: 0.7226\n",
      "\n",
      "Epoch 00192: val_loss improved from 0.59049 to 0.58822, saving model to model\\model-ALL-192.hdf5\n",
      "Epoch 193/200\n",
      "12/12 [==============================] - 24s 2s/step - loss: 0.4780 - accuracy: 0.8279 - val_loss: 0.5973 - val_accuracy: 0.7082\n",
      "\n",
      "Epoch 00193: val_loss did not improve from 0.58822\n",
      "Epoch 194/200\n",
      "12/12 [==============================] - 24s 2s/step - loss: 0.4693 - accuracy: 0.8359 - val_loss: 0.5804 - val_accuracy: 0.7239\n",
      "\n",
      "Epoch 00194: val_loss improved from 0.58822 to 0.58037, saving model to model\\model-ALL-194.hdf5\n",
      "Epoch 195/200\n",
      "12/12 [==============================] - 25s 2s/step - loss: 0.4610 - accuracy: 0.8422 - val_loss: 0.5859 - val_accuracy: 0.7189\n",
      "\n",
      "Epoch 00195: val_loss did not improve from 0.58037\n",
      "Epoch 196/200\n",
      "12/12 [==============================] - 26s 2s/step - loss: 0.4589 - accuracy: 0.8399 - val_loss: 0.5854 - val_accuracy: 0.7181\n",
      "\n",
      "Epoch 00196: val_loss did not improve from 0.58037\n",
      "Epoch 197/200\n",
      "12/12 [==============================] - 22s 2s/step - loss: 0.4480 - accuracy: 0.8462 - val_loss: 0.5916 - val_accuracy: 0.7137\n",
      "\n",
      "Epoch 00197: val_loss did not improve from 0.58037\n",
      "Epoch 198/200\n",
      "12/12 [==============================] - 23s 2s/step - loss: 0.4403 - accuracy: 0.8533 - val_loss: 0.6183 - val_accuracy: 0.6554\n",
      "\n",
      "Epoch 00198: val_loss did not improve from 0.58037\n",
      "Epoch 199/200\n",
      "12/12 [==============================] - 23s 2s/step - loss: 0.4488 - accuracy: 0.8385 - val_loss: 0.5982 - val_accuracy: 0.7005\n",
      "\n",
      "Epoch 00199: val_loss did not improve from 0.58037\n",
      "Epoch 200/200\n",
      "12/12 [==============================] - 23s 2s/step - loss: 0.4285 - accuracy: 0.8551 - val_loss: 0.5789 - val_accuracy: 0.7163\n",
      "\n",
      "Epoch 00200: val_loss improved from 0.58037 to 0.57889, saving model to model\\model-ALL-200.hdf5\n",
      "WARNING:tensorflow:AutoGraph could not transform <function canonicalize_signatures.<locals>.signature_wrapper at 0x000002B5616B0EE8> and will run it as-is.\n",
      "Please report this to the TensorFlow team. When filing the bug, set the verbosity to 10 (on Linux, `export AUTOGRAPH_VERBOSITY=10`) and attach the full output.\n",
      "Cause: 'arguments' object has no attribute 'posonlyargs'\n",
      "To silence this warning, decorate the function with @tf.autograph.experimental.do_not_convert\n",
      "WARNING: AutoGraph could not transform <function canonicalize_signatures.<locals>.signature_wrapper at 0x000002B5616B0EE8> and will run it as-is.\n",
      "Please report this to the TensorFlow team. When filing the bug, set the verbosity to 10 (on Linux, `export AUTOGRAPH_VERBOSITY=10`) and attach the full output.\n",
      "Cause: 'arguments' object has no attribute 'posonlyargs'\n",
      "To silence this warning, decorate the function with @tf.autograph.experimental.do_not_convert\n",
      "INFO:tensorflow:Assets written to: C:\\Users\\ADMINI~1\\AppData\\Local\\Temp\\tmpn7n1qjmx\\model\\data\\model\\assets\n"
     ]
    },
    {
     "name": "stderr",
     "output_type": "stream",
     "text": [
      "2022/08/24 12:11:38 WARNING mlflow.utils.autologging_utils: MLflow autologging encountered a warning: \"c:\\Users\\Administrator\\anaconda3\\envs\\svd\\lib\\site-packages\\_distutils_hack\\__init__.py:30: UserWarning: Setuptools is replacing distutils.\"\n"
     ]
    }
   ],
   "source": [
    "# class_weights = [{0: 1., 1: 11.},{0: 1., 1: 11.},{0: 1., 1: 11.},{0: 1., 1: 11.},{0: 1., 1: 11.},{0: 1., 1: 11.},{0: 1., 1: 11.},{0: 1., 1: 11.},{0: 1., 1: 11.},{0: 1., 1: 11.},{0: 1., 1: 11.}]\n",
    "# class_weights = {\n",
    "#     0: 0.0,\n",
    "#     1: 6.6666,\n",
    "#     2: 6.6666,\n",
    "#     3: 6.6666,\n",
    "#     4: 6.6666,\n",
    "#     5: 6.6666,\n",
    "#     6: 6.6666,\n",
    "#     7: 6.6666,\n",
    "#     8: 6.6666,\n",
    "#     9: 6.6666,\n",
    "#     10: 6.6666,\n",
    "#     11: 6.6666\n",
    "# }\n",
    "mlflow.tensorflow.autolog()\n",
    "history = model.fit(x = x_train,\n",
    "          y = y_train_array,\n",
    "           validation_data = (x_validate, y_val_array),\n",
    "          epochs = 200,\n",
    "          batch_size = 1070,\n",
    "          verbose = 1,\n",
    "          #class_weight= class_weight,\n",
    "          callbacks=[mcp])\n",
    "\n",
    "with open(f'History/History-ALL-{EPOCHS}EP-CNN', 'wb') as file_pi:\n",
    "    pickle.dump(history.history, file_pi)"
   ]
  },
  {
   "cell_type": "code",
   "execution_count": 96,
   "metadata": {},
   "outputs": [
    {
     "data": {
      "text/plain": [
       "array([[  231,     3,    41, ...,     0,     0,     0],\n",
       "       [  231,    17, 11813, ...,     0,     0,     0],\n",
       "       [   48,    20,     4, ...,     0,     0,     0],\n",
       "       ...,\n",
       "       [    9,    20, 11619, ...,     0,     0,     0],\n",
       "       [    9,    22,    20, ...,     0,     0,     0],\n",
       "       [    9,    22,   150, ...,     0,     0,     0]], dtype=int64)"
      ]
     },
     "execution_count": 96,
     "metadata": {},
     "output_type": "execute_result"
    }
   ],
   "source": [
    "x_train"
   ]
  },
  {
   "cell_type": "markdown",
   "metadata": {},
   "source": [
    "### Model Evaluation using Testing Set"
   ]
  },
  {
   "cell_type": "code",
   "execution_count": 97,
   "metadata": {},
   "outputs": [
    {
     "data": {
      "text/plain": [
       "array([[0],\n",
       "       [1],\n",
       "       [0],\n",
       "       ...,\n",
       "       [1],\n",
       "       [1],\n",
       "       [0]], dtype=int64)"
      ]
     },
     "execution_count": 97,
     "metadata": {},
     "output_type": "execute_result"
    }
   ],
   "source": [
    "y_train_array"
   ]
  },
  {
   "cell_type": "code",
   "execution_count": 98,
   "metadata": {},
   "outputs": [
    {
     "data": {
      "text/plain": [
       "'2.10.0'"
      ]
     },
     "execution_count": 98,
     "metadata": {},
     "output_type": "execute_result"
    }
   ],
   "source": [
    "tf.__version__\n",
    "h5py.__version__"
   ]
  },
  {
   "cell_type": "code",
   "execution_count": 99,
   "metadata": {},
   "outputs": [],
   "source": [
    "model = tf.keras.models.load_model(\"model\\model-ALL-194.hdf5\")\n"
   ]
  },
  {
   "cell_type": "code",
   "execution_count": 100,
   "metadata": {},
   "outputs": [
    {
     "name": "stdout",
     "output_type": "stream",
     "text": [
      "WARNING:tensorflow:AutoGraph could not transform <function Model.make_test_function.<locals>.test_function at 0x000002B561850708> and will run it as-is.\n",
      "Please report this to the TensorFlow team. When filing the bug, set the verbosity to 10 (on Linux, `export AUTOGRAPH_VERBOSITY=10`) and attach the full output.\n",
      "Cause: 'arguments' object has no attribute 'posonlyargs'\n",
      "To silence this warning, decorate the function with @tf.autograph.experimental.do_not_convert\n",
      "WARNING: AutoGraph could not transform <function Model.make_test_function.<locals>.test_function at 0x000002B561850708> and will run it as-is.\n",
      "Please report this to the TensorFlow team. When filing the bug, set the verbosity to 10 (on Linux, `export AUTOGRAPH_VERBOSITY=10`) and attach the full output.\n",
      "Cause: 'arguments' object has no attribute 'posonlyargs'\n",
      "To silence this warning, decorate the function with @tf.autograph.experimental.do_not_convert\n",
      "50/50 [==============================] - 3s 38ms/step - loss: 0.6049 - accuracy: 0.6638\n",
      "loss: 0.6049153804779053\n",
      "accuracy: 0.6637998223304749\n"
     ]
    }
   ],
   "source": [
    "results = model.evaluate(x_test, y_test_array, batch_size=128)\n",
    "for num in range(0,len(model.metrics_names)):\n",
    "    print(model.metrics_names[num]+': '+str(results[num]))"
   ]
  },
  {
   "cell_type": "markdown",
   "metadata": {},
   "source": [
    "### Check The Evaluation Metrics"
   ]
  },
  {
   "cell_type": "code",
   "execution_count": 118,
   "metadata": {},
   "outputs": [],
   "source": [
    "predicted = model.predict(x_test)"
   ]
  },
  {
   "cell_type": "code",
   "execution_count": 115,
   "metadata": {},
   "outputs": [],
   "source": [
    "predicted = model.predict(np.expand_dims(x_test[0], axis=0))\n"
   ]
  },
  {
   "cell_type": "code",
   "execution_count": 103,
   "metadata": {},
   "outputs": [
    {
     "data": {
      "text/plain": [
       "array([0.7603528], dtype=float32)"
      ]
     },
     "execution_count": 103,
     "metadata": {},
     "output_type": "execute_result"
    }
   ],
   "source": [
    "predicted[0]"
   ]
  },
  {
   "cell_type": "code",
   "execution_count": 116,
   "metadata": {},
   "outputs": [
    {
     "data": {
      "text/plain": [
       "(1, 500)"
      ]
     },
     "execution_count": 116,
     "metadata": {},
     "output_type": "execute_result"
    }
   ],
   "source": [
    "np.expand_dims(x_test[0], axis=0).shape"
   ]
  },
  {
   "cell_type": "code",
   "execution_count": 117,
   "metadata": {},
   "outputs": [
    {
     "data": {
      "text/plain": [
       "array([0.7603528], dtype=float32)"
      ]
     },
     "execution_count": 117,
     "metadata": {},
     "output_type": "execute_result"
    }
   ],
   "source": [
    "predicted[0]"
   ]
  },
  {
   "cell_type": "code",
   "execution_count": 106,
   "metadata": {},
   "outputs": [
    {
     "data": {
      "text/plain": [
       "0"
      ]
     },
     "execution_count": 106,
     "metadata": {},
     "output_type": "execute_result"
    }
   ],
   "source": [
    "np.argmax(predicted[0])"
   ]
  },
  {
   "cell_type": "code",
   "execution_count": 107,
   "metadata": {},
   "outputs": [
    {
     "data": {
      "text/plain": [
       "(array([], dtype=int64), array([], dtype=int64))"
      ]
     },
     "execution_count": 107,
     "metadata": {},
     "output_type": "execute_result"
    }
   ],
   "source": [
    "np.where(predicted< 0.5)"
   ]
  },
  {
   "cell_type": "code",
   "execution_count": 108,
   "metadata": {},
   "outputs": [],
   "source": [
    "#x_test[6]"
   ]
  },
  {
   "cell_type": "code",
   "execution_count": 109,
   "metadata": {},
   "outputs": [
    {
     "data": {
      "text/plain": [
       "1"
      ]
     },
     "execution_count": 109,
     "metadata": {},
     "output_type": "execute_result"
    }
   ],
   "source": [
    "y_test_array[0][0]"
   ]
  },
  {
   "cell_type": "code",
   "execution_count": 110,
   "metadata": {},
   "outputs": [],
   "source": [
    "predicted = np.squeeze(predicted)"
   ]
  },
  {
   "cell_type": "code",
   "execution_count": 111,
   "metadata": {},
   "outputs": [],
   "source": [
    "#len(predicted)"
   ]
  },
  {
   "cell_type": "code",
   "execution_count": 119,
   "metadata": {},
   "outputs": [
    {
     "name": "stdout",
     "output_type": "stream",
     "text": [
      "1    4171\n",
      "0    2224\n",
      "dtype: int64\n"
     ]
    }
   ],
   "source": [
    "# pred_test = []\n",
    "\n",
    "# for col_value in range(0,len(predicted)):\n",
    "#     if(value>=0.5):\n",
    "#             #pred_test[col].append([1,0])\n",
    "#         pred_test[value].append(1)\n",
    "#     else:\n",
    "#             #pred_test[col].append([0,1])\n",
    "#         pred_test[value].append(0)\n",
    "# #temp=[]\n",
    "#temp1 = np.array([])\n",
    "\n",
    "# for col in range(0,len(predicted)):\n",
    "#     print(pd.value_counts(pred_test[col]))\n",
    "    #if(pred_test[col]==0):\n",
    "        #temp1.append([1,0])\n",
    "    #else:\n",
    "        #temp1.append([0,1])\n",
    "#temp.transpose()\n",
    "\n",
    "pred_test = []\n",
    "\n",
    "\n",
    "for ele in predicted:\n",
    "    if ele >= 0.5:\n",
    "        #y_pred_test[col].append([1,0])\n",
    "        pred_test.append(1)\n",
    "    else:\n",
    "        pred_test.append(0)\n",
    "\n",
    "\n",
    "print(pd.value_counts(pred_test))\n",
    "\n",
    "\n",
    "# for col in range(0,len(predicted)):\n",
    "#     for row in predicted[col]:\n",
    "#         if row >= 0.5:\n",
    "#             #y_pred_test[col].append([1,0])\n",
    "#             pred_test.append(1)\n",
    "#         else:\n",
    "#             pred_test.append(0)\n",
    "#             #y_pred_test[col].append([0,1])\n",
    "# for col in range(0,len(pred_test)):\n",
    "#     print(pd.value_counts(pred_test))"
   ]
  },
  {
   "cell_type": "code",
   "execution_count": 120,
   "metadata": {},
   "outputs": [
    {
     "data": {
      "text/plain": [
       "array([[0.7603528 ],\n",
       "       [0.5337006 ],\n",
       "       [0.6434652 ],\n",
       "       ...,\n",
       "       [0.6641209 ],\n",
       "       [0.60760254],\n",
       "       [0.63790673]], dtype=float32)"
      ]
     },
     "execution_count": 120,
     "metadata": {},
     "output_type": "execute_result"
    }
   ],
   "source": [
    "predicted"
   ]
  },
  {
   "cell_type": "code",
   "execution_count": 121,
   "metadata": {},
   "outputs": [
    {
     "data": {
      "text/plain": [
       "[1,\n",
       " 1,\n",
       " 1,\n",
       " 1,\n",
       " 0,\n",
       " 1,\n",
       " 1,\n",
       " 1,\n",
       " 1,\n",
       " 1,\n",
       " 1,\n",
       " 0,\n",
       " 1,\n",
       " 0,\n",
       " 0,\n",
       " 1,\n",
       " 1,\n",
       " 0,\n",
       " 1,\n",
       " 0,\n",
       " 0,\n",
       " 1,\n",
       " 1,\n",
       " 1,\n",
       " 1,\n",
       " 1,\n",
       " 0,\n",
       " 1,\n",
       " 1,\n",
       " 0,\n",
       " 1,\n",
       " 1,\n",
       " 1,\n",
       " 1,\n",
       " 1,\n",
       " 0,\n",
       " 0,\n",
       " 1,\n",
       " 0,\n",
       " 0,\n",
       " 1,\n",
       " 0,\n",
       " 1,\n",
       " 0,\n",
       " 1,\n",
       " 0,\n",
       " 1,\n",
       " 1,\n",
       " 1,\n",
       " 1,\n",
       " 1,\n",
       " 1,\n",
       " 1,\n",
       " 0,\n",
       " 1,\n",
       " 0,\n",
       " 1,\n",
       " 1,\n",
       " 1,\n",
       " 1,\n",
       " 0,\n",
       " 0,\n",
       " 1,\n",
       " 1,\n",
       " 0,\n",
       " 0,\n",
       " 0,\n",
       " 1,\n",
       " 0,\n",
       " 0,\n",
       " 1,\n",
       " 1,\n",
       " 1,\n",
       " 1,\n",
       " 1,\n",
       " 0,\n",
       " 1,\n",
       " 0,\n",
       " 1,\n",
       " 1,\n",
       " 0,\n",
       " 1,\n",
       " 1,\n",
       " 1,\n",
       " 1,\n",
       " 0,\n",
       " 1,\n",
       " 1,\n",
       " 1,\n",
       " 0,\n",
       " 1,\n",
       " 1,\n",
       " 1,\n",
       " 1,\n",
       " 1,\n",
       " 1,\n",
       " 1,\n",
       " 0,\n",
       " 1,\n",
       " 1,\n",
       " 1,\n",
       " 1,\n",
       " 0,\n",
       " 0,\n",
       " 1,\n",
       " 1,\n",
       " 1,\n",
       " 0,\n",
       " 1,\n",
       " 1,\n",
       " 0,\n",
       " 1,\n",
       " 0,\n",
       " 1,\n",
       " 1,\n",
       " 1,\n",
       " 0,\n",
       " 1,\n",
       " 1,\n",
       " 1,\n",
       " 0,\n",
       " 0,\n",
       " 1,\n",
       " 1,\n",
       " 0,\n",
       " 1,\n",
       " 1,\n",
       " 1,\n",
       " 1,\n",
       " 1,\n",
       " 1,\n",
       " 1,\n",
       " 1,\n",
       " 1,\n",
       " 1,\n",
       " 1,\n",
       " 0,\n",
       " 0,\n",
       " 1,\n",
       " 1,\n",
       " 1,\n",
       " 1,\n",
       " 1,\n",
       " 0,\n",
       " 1,\n",
       " 0,\n",
       " 1,\n",
       " 1,\n",
       " 0,\n",
       " 0,\n",
       " 1,\n",
       " 1,\n",
       " 1,\n",
       " 1,\n",
       " 1,\n",
       " 1,\n",
       " 0,\n",
       " 1,\n",
       " 0,\n",
       " 0,\n",
       " 1,\n",
       " 1,\n",
       " 1,\n",
       " 0,\n",
       " 0,\n",
       " 1,\n",
       " 0,\n",
       " 1,\n",
       " 1,\n",
       " 1,\n",
       " 0,\n",
       " 1,\n",
       " 1,\n",
       " 1,\n",
       " 1,\n",
       " 0,\n",
       " 1,\n",
       " 1,\n",
       " 1,\n",
       " 1,\n",
       " 1,\n",
       " 1,\n",
       " 1,\n",
       " 1,\n",
       " 1,\n",
       " 0,\n",
       " 1,\n",
       " 0,\n",
       " 1,\n",
       " 1,\n",
       " 1,\n",
       " 0,\n",
       " 0,\n",
       " 1,\n",
       " 0,\n",
       " 1,\n",
       " 1,\n",
       " 1,\n",
       " 0,\n",
       " 0,\n",
       " 0,\n",
       " 1,\n",
       " 1,\n",
       " 0,\n",
       " 0,\n",
       " 1,\n",
       " 1,\n",
       " 1,\n",
       " 1,\n",
       " 0,\n",
       " 1,\n",
       " 1,\n",
       " 1,\n",
       " 1,\n",
       " 1,\n",
       " 1,\n",
       " 1,\n",
       " 0,\n",
       " 1,\n",
       " 1,\n",
       " 1,\n",
       " 1,\n",
       " 0,\n",
       " 0,\n",
       " 1,\n",
       " 1,\n",
       " 1,\n",
       " 1,\n",
       " 0,\n",
       " 1,\n",
       " 1,\n",
       " 1,\n",
       " 1,\n",
       " 1,\n",
       " 1,\n",
       " 1,\n",
       " 1,\n",
       " 1,\n",
       " 1,\n",
       " 1,\n",
       " 0,\n",
       " 1,\n",
       " 0,\n",
       " 1,\n",
       " 1,\n",
       " 0,\n",
       " 1,\n",
       " 1,\n",
       " 0,\n",
       " 1,\n",
       " 1,\n",
       " 1,\n",
       " 0,\n",
       " 0,\n",
       " 0,\n",
       " 1,\n",
       " 1,\n",
       " 1,\n",
       " 1,\n",
       " 1,\n",
       " 0,\n",
       " 1,\n",
       " 0,\n",
       " 0,\n",
       " 1,\n",
       " 1,\n",
       " 1,\n",
       " 1,\n",
       " 1,\n",
       " 0,\n",
       " 0,\n",
       " 1,\n",
       " 1,\n",
       " 0,\n",
       " 1,\n",
       " 1,\n",
       " 1,\n",
       " 0,\n",
       " 1,\n",
       " 1,\n",
       " 0,\n",
       " 0,\n",
       " 1,\n",
       " 0,\n",
       " 1,\n",
       " 0,\n",
       " 0,\n",
       " 1,\n",
       " 0,\n",
       " 1,\n",
       " 1,\n",
       " 0,\n",
       " 0,\n",
       " 1,\n",
       " 1,\n",
       " 1,\n",
       " 0,\n",
       " 1,\n",
       " 1,\n",
       " 1,\n",
       " 1,\n",
       " 1,\n",
       " 1,\n",
       " 1,\n",
       " 1,\n",
       " 0,\n",
       " 0,\n",
       " 1,\n",
       " 1,\n",
       " 1,\n",
       " 0,\n",
       " 0,\n",
       " 1,\n",
       " 0,\n",
       " 0,\n",
       " 1,\n",
       " 1,\n",
       " 1,\n",
       " 1,\n",
       " 0,\n",
       " 1,\n",
       " 1,\n",
       " 0,\n",
       " 1,\n",
       " 0,\n",
       " 1,\n",
       " 0,\n",
       " 1,\n",
       " 0,\n",
       " 1,\n",
       " 1,\n",
       " 1,\n",
       " 1,\n",
       " 1,\n",
       " 1,\n",
       " 1,\n",
       " 1,\n",
       " 0,\n",
       " 0,\n",
       " 1,\n",
       " 0,\n",
       " 1,\n",
       " 1,\n",
       " 0,\n",
       " 1,\n",
       " 1,\n",
       " 0,\n",
       " 1,\n",
       " 1,\n",
       " 0,\n",
       " 1,\n",
       " 0,\n",
       " 1,\n",
       " 1,\n",
       " 0,\n",
       " 1,\n",
       " 0,\n",
       " 0,\n",
       " 1,\n",
       " 0,\n",
       " 0,\n",
       " 1,\n",
       " 1,\n",
       " 1,\n",
       " 0,\n",
       " 1,\n",
       " 1,\n",
       " 1,\n",
       " 1,\n",
       " 1,\n",
       " 1,\n",
       " 0,\n",
       " 1,\n",
       " 0,\n",
       " 0,\n",
       " 1,\n",
       " 0,\n",
       " 1,\n",
       " 1,\n",
       " 0,\n",
       " 1,\n",
       " 1,\n",
       " 1,\n",
       " 1,\n",
       " 0,\n",
       " 0,\n",
       " 0,\n",
       " 1,\n",
       " 1,\n",
       " 0,\n",
       " 0,\n",
       " 0,\n",
       " 0,\n",
       " 0,\n",
       " 1,\n",
       " 1,\n",
       " 1,\n",
       " 1,\n",
       " 1,\n",
       " 0,\n",
       " 0,\n",
       " 1,\n",
       " 1,\n",
       " 1,\n",
       " 1,\n",
       " 0,\n",
       " 1,\n",
       " 0,\n",
       " 0,\n",
       " 1,\n",
       " 1,\n",
       " 0,\n",
       " 0,\n",
       " 1,\n",
       " 0,\n",
       " 1,\n",
       " 1,\n",
       " 1,\n",
       " 1,\n",
       " 0,\n",
       " 1,\n",
       " 0,\n",
       " 1,\n",
       " 1,\n",
       " 1,\n",
       " 1,\n",
       " 0,\n",
       " 1,\n",
       " 1,\n",
       " 0,\n",
       " 1,\n",
       " 1,\n",
       " 1,\n",
       " 1,\n",
       " 1,\n",
       " 0,\n",
       " 1,\n",
       " 1,\n",
       " 0,\n",
       " 1,\n",
       " 1,\n",
       " 1,\n",
       " 0,\n",
       " 0,\n",
       " 1,\n",
       " 1,\n",
       " 1,\n",
       " 0,\n",
       " 1,\n",
       " 1,\n",
       " 1,\n",
       " 1,\n",
       " 1,\n",
       " 0,\n",
       " 0,\n",
       " 1,\n",
       " 1,\n",
       " 1,\n",
       " 1,\n",
       " 1,\n",
       " 1,\n",
       " 0,\n",
       " 1,\n",
       " 0,\n",
       " 1,\n",
       " 1,\n",
       " 0,\n",
       " 1,\n",
       " 1,\n",
       " 1,\n",
       " 0,\n",
       " 1,\n",
       " 1,\n",
       " 1,\n",
       " 1,\n",
       " 0,\n",
       " 1,\n",
       " 1,\n",
       " 1,\n",
       " 1,\n",
       " 1,\n",
       " 1,\n",
       " 1,\n",
       " 0,\n",
       " 1,\n",
       " 0,\n",
       " 0,\n",
       " 1,\n",
       " 1,\n",
       " 0,\n",
       " 1,\n",
       " 1,\n",
       " 0,\n",
       " 0,\n",
       " 1,\n",
       " 0,\n",
       " 1,\n",
       " 1,\n",
       " 1,\n",
       " 1,\n",
       " 0,\n",
       " 0,\n",
       " 0,\n",
       " 1,\n",
       " 0,\n",
       " 1,\n",
       " 0,\n",
       " 0,\n",
       " 1,\n",
       " 1,\n",
       " 1,\n",
       " 0,\n",
       " 1,\n",
       " 1,\n",
       " 1,\n",
       " 1,\n",
       " 1,\n",
       " 0,\n",
       " 1,\n",
       " 1,\n",
       " 1,\n",
       " 1,\n",
       " 0,\n",
       " 0,\n",
       " 1,\n",
       " 1,\n",
       " 1,\n",
       " 1,\n",
       " 1,\n",
       " 1,\n",
       " 1,\n",
       " 0,\n",
       " 1,\n",
       " 0,\n",
       " 0,\n",
       " 1,\n",
       " 0,\n",
       " 1,\n",
       " 1,\n",
       " 1,\n",
       " 1,\n",
       " 1,\n",
       " 0,\n",
       " 1,\n",
       " 0,\n",
       " 0,\n",
       " 1,\n",
       " 1,\n",
       " 1,\n",
       " 1,\n",
       " 0,\n",
       " 1,\n",
       " 0,\n",
       " 1,\n",
       " 0,\n",
       " 0,\n",
       " 0,\n",
       " 0,\n",
       " 1,\n",
       " 1,\n",
       " 0,\n",
       " 1,\n",
       " 0,\n",
       " 0,\n",
       " 1,\n",
       " 1,\n",
       " 1,\n",
       " 1,\n",
       " 1,\n",
       " 1,\n",
       " 0,\n",
       " 1,\n",
       " 1,\n",
       " 1,\n",
       " 1,\n",
       " 1,\n",
       " 1,\n",
       " 1,\n",
       " 1,\n",
       " 1,\n",
       " 0,\n",
       " 1,\n",
       " 0,\n",
       " 1,\n",
       " 1,\n",
       " 0,\n",
       " 1,\n",
       " 1,\n",
       " 0,\n",
       " 0,\n",
       " 1,\n",
       " 1,\n",
       " 1,\n",
       " 1,\n",
       " 0,\n",
       " 1,\n",
       " 0,\n",
       " 1,\n",
       " 1,\n",
       " 0,\n",
       " 0,\n",
       " 1,\n",
       " 1,\n",
       " 0,\n",
       " 1,\n",
       " 1,\n",
       " 0,\n",
       " 1,\n",
       " 1,\n",
       " 1,\n",
       " 0,\n",
       " 0,\n",
       " 0,\n",
       " 0,\n",
       " 0,\n",
       " 1,\n",
       " 0,\n",
       " 0,\n",
       " 1,\n",
       " 1,\n",
       " 1,\n",
       " 0,\n",
       " 0,\n",
       " 1,\n",
       " 1,\n",
       " 0,\n",
       " 0,\n",
       " 1,\n",
       " 0,\n",
       " 1,\n",
       " 1,\n",
       " 1,\n",
       " 1,\n",
       " 1,\n",
       " 1,\n",
       " 1,\n",
       " 1,\n",
       " 0,\n",
       " 1,\n",
       " 1,\n",
       " 1,\n",
       " 1,\n",
       " 1,\n",
       " 0,\n",
       " 1,\n",
       " 0,\n",
       " 1,\n",
       " 1,\n",
       " 1,\n",
       " 0,\n",
       " 0,\n",
       " 1,\n",
       " 1,\n",
       " 0,\n",
       " 1,\n",
       " 0,\n",
       " 0,\n",
       " 1,\n",
       " 0,\n",
       " 1,\n",
       " 1,\n",
       " 0,\n",
       " 0,\n",
       " 0,\n",
       " 1,\n",
       " 1,\n",
       " 0,\n",
       " 1,\n",
       " 1,\n",
       " 1,\n",
       " 1,\n",
       " 1,\n",
       " 0,\n",
       " 1,\n",
       " 0,\n",
       " 0,\n",
       " 0,\n",
       " 0,\n",
       " 1,\n",
       " 1,\n",
       " 1,\n",
       " 1,\n",
       " 1,\n",
       " 1,\n",
       " 1,\n",
       " 0,\n",
       " 1,\n",
       " 0,\n",
       " 0,\n",
       " 0,\n",
       " 1,\n",
       " 1,\n",
       " 1,\n",
       " 0,\n",
       " 1,\n",
       " 0,\n",
       " 1,\n",
       " 1,\n",
       " 1,\n",
       " 0,\n",
       " 1,\n",
       " 0,\n",
       " 1,\n",
       " 1,\n",
       " 1,\n",
       " 1,\n",
       " 1,\n",
       " 1,\n",
       " 0,\n",
       " 0,\n",
       " 0,\n",
       " 0,\n",
       " 0,\n",
       " 0,\n",
       " 1,\n",
       " 0,\n",
       " 0,\n",
       " 1,\n",
       " 1,\n",
       " 0,\n",
       " 1,\n",
       " 0,\n",
       " 1,\n",
       " 1,\n",
       " 1,\n",
       " 1,\n",
       " 1,\n",
       " 1,\n",
       " 1,\n",
       " 0,\n",
       " 0,\n",
       " 1,\n",
       " 0,\n",
       " 0,\n",
       " 1,\n",
       " 1,\n",
       " 0,\n",
       " 1,\n",
       " 1,\n",
       " 1,\n",
       " 1,\n",
       " 1,\n",
       " 1,\n",
       " 1,\n",
       " 1,\n",
       " 1,\n",
       " 0,\n",
       " 0,\n",
       " 1,\n",
       " 1,\n",
       " 1,\n",
       " 1,\n",
       " 0,\n",
       " 0,\n",
       " 0,\n",
       " 1,\n",
       " 1,\n",
       " 1,\n",
       " 0,\n",
       " 1,\n",
       " 1,\n",
       " 1,\n",
       " 0,\n",
       " 1,\n",
       " 1,\n",
       " 1,\n",
       " 0,\n",
       " 1,\n",
       " 1,\n",
       " 1,\n",
       " 1,\n",
       " 0,\n",
       " 1,\n",
       " 1,\n",
       " 1,\n",
       " 0,\n",
       " 1,\n",
       " 1,\n",
       " 1,\n",
       " 1,\n",
       " 1,\n",
       " 0,\n",
       " 1,\n",
       " 0,\n",
       " 0,\n",
       " 1,\n",
       " 0,\n",
       " 0,\n",
       " 1,\n",
       " 1,\n",
       " 1,\n",
       " 0,\n",
       " 1,\n",
       " 1,\n",
       " 0,\n",
       " 0,\n",
       " 1,\n",
       " 1,\n",
       " 0,\n",
       " 1,\n",
       " 0,\n",
       " 1,\n",
       " 1,\n",
       " 1,\n",
       " 0,\n",
       " 1,\n",
       " 0,\n",
       " 1,\n",
       " 1,\n",
       " 1,\n",
       " 1,\n",
       " 1,\n",
       " 0,\n",
       " 1,\n",
       " 0,\n",
       " 0,\n",
       " 1,\n",
       " 1,\n",
       " 1,\n",
       " 1,\n",
       " 0,\n",
       " 1,\n",
       " 1,\n",
       " 1,\n",
       " 1,\n",
       " 0,\n",
       " 0,\n",
       " 1,\n",
       " 1,\n",
       " 1,\n",
       " 1,\n",
       " 1,\n",
       " 1,\n",
       " 1,\n",
       " 1,\n",
       " 1,\n",
       " 1,\n",
       " 0,\n",
       " 0,\n",
       " 1,\n",
       " 0,\n",
       " 1,\n",
       " 1,\n",
       " 1,\n",
       " 1,\n",
       " 0,\n",
       " 0,\n",
       " 1,\n",
       " 0,\n",
       " 1,\n",
       " 1,\n",
       " 1,\n",
       " 1,\n",
       " 1,\n",
       " 1,\n",
       " 0,\n",
       " 0,\n",
       " 0,\n",
       " 1,\n",
       " 1,\n",
       " 1,\n",
       " 0,\n",
       " 1,\n",
       " 0,\n",
       " 1,\n",
       " 0,\n",
       " 1,\n",
       " 1,\n",
       " 1,\n",
       " 0,\n",
       " 1,\n",
       " 1,\n",
       " 1,\n",
       " 1,\n",
       " 1,\n",
       " 0,\n",
       " 1,\n",
       " 0,\n",
       " 1,\n",
       " 0,\n",
       " 1,\n",
       " 1,\n",
       " 1,\n",
       " 1,\n",
       " 1,\n",
       " 0,\n",
       " 1,\n",
       " 0,\n",
       " 0,\n",
       " 1,\n",
       " 1,\n",
       " 0,\n",
       " 1,\n",
       " 1,\n",
       " 1,\n",
       " 1,\n",
       " 0,\n",
       " 1,\n",
       " 0,\n",
       " 1,\n",
       " 1,\n",
       " 1,\n",
       " 0,\n",
       " 0,\n",
       " 1,\n",
       " 0,\n",
       " 1,\n",
       " 1,\n",
       " 1,\n",
       " 1,\n",
       " 1,\n",
       " 0,\n",
       " 1,\n",
       " 1,\n",
       " 1,\n",
       " 1,\n",
       " 1,\n",
       " 0,\n",
       " 1,\n",
       " 1,\n",
       " 1,\n",
       " 1,\n",
       " 1,\n",
       " 1,\n",
       " 1,\n",
       " 1,\n",
       " 0,\n",
       " 1,\n",
       " 0,\n",
       " 0,\n",
       " 0,\n",
       " 0,\n",
       " 0,\n",
       " 1,\n",
       " 0,\n",
       " 1,\n",
       " 0,\n",
       " 1,\n",
       " 1,\n",
       " 1,\n",
       " 0,\n",
       " 1,\n",
       " 1,\n",
       " 0,\n",
       " 1,\n",
       " 0,\n",
       " 0,\n",
       " 1,\n",
       " 1,\n",
       " 0,\n",
       " 1,\n",
       " 1,\n",
       " 1,\n",
       " 0,\n",
       " 1,\n",
       " 1,\n",
       " 1,\n",
       " 0,\n",
       " 1,\n",
       " 1,\n",
       " 1,\n",
       " 1,\n",
       " 1,\n",
       " 1,\n",
       " 1,\n",
       " 0,\n",
       " 1,\n",
       " 1,\n",
       " 0,\n",
       " 1,\n",
       " 0,\n",
       " 0,\n",
       " 0,\n",
       " 0,\n",
       " 1,\n",
       " 0,\n",
       " 1,\n",
       " 1,\n",
       " 0,\n",
       " 0,\n",
       " 0,\n",
       " 1,\n",
       " 1,\n",
       " 1,\n",
       " 0,\n",
       " 1,\n",
       " 1,\n",
       " 1,\n",
       " 1,\n",
       " 0,\n",
       " 1,\n",
       " 1,\n",
       " 1,\n",
       " 1,\n",
       " 1,\n",
       " 0,\n",
       " 1,\n",
       " 1,\n",
       " 1,\n",
       " 1,\n",
       " ...]"
      ]
     },
     "execution_count": 121,
     "metadata": {},
     "output_type": "execute_result"
    }
   ],
   "source": [
    "pred_test"
   ]
  },
  {
   "cell_type": "code",
   "execution_count": 122,
   "metadata": {},
   "outputs": [],
   "source": [
    "#for\n",
    "# i = i"
   ]
  },
  {
   "cell_type": "code",
   "execution_count": 123,
   "metadata": {},
   "outputs": [],
   "source": [
    "#np.argmax(predicted)"
   ]
  },
  {
   "cell_type": "code",
   "execution_count": 124,
   "metadata": {},
   "outputs": [
    {
     "data": {
      "text/plain": [
       "(4171,)"
      ]
     },
     "execution_count": 124,
     "metadata": {},
     "output_type": "execute_result"
    }
   ],
   "source": [
    "predicted[predicted > 0.5].shape"
   ]
  },
  {
   "cell_type": "code",
   "execution_count": 125,
   "metadata": {},
   "outputs": [],
   "source": [
    "y_test_1 = y_test_array"
   ]
  },
  {
   "cell_type": "code",
   "execution_count": 126,
   "metadata": {},
   "outputs": [
    {
     "name": "stdout",
     "output_type": "stream",
     "text": [
      "1    4171\n",
      "0    2224\n",
      "dtype: int64\n"
     ]
    }
   ],
   "source": [
    "'''Y TEST LIST'''\n",
    "\n",
    "y_pred_test = []\n",
    "\n",
    "\n",
    "for ele in y_test_1:\n",
    "    if ele >= 0.5:\n",
    "        #y_pred_test[col].append([1,0])\n",
    "        y_pred_test.append(1)\n",
    "    else:\n",
    "        y_pred_test.append(0)\n",
    "\n",
    "\n",
    "print(pd.value_counts(pred_test))\n",
    "\n",
    "# y_pred_test = []\n",
    "\n",
    "# for col in range(0,len(y_test_1)):\n",
    "#     for row in y_test_1[col]:\n",
    "#         if row >= 0.5:\n",
    "#             #y_pred_test[col].append([1,0])\n",
    "#             y_pred_test.append(1)\n",
    "#         else:\n",
    "#             y_pred_test.append(0)\n",
    "#             #y_pred_test[col].append([0,1])\n",
    "# for col in range(0,len(y_test_1)):\n",
    "#     print(pd.value_counts(y_pred_test))\n",
    "\n",
    "\n",
    "#temp=[]\n",
    "#temp1 = np.array([])\n",
    "\n",
    "# for col in range(0,len(predicted)):\n",
    "#     print(pd.value_counts(pred_test[col]))\n",
    "    #if(pred_test[col]==0):\n",
    "        #temp1.append([1,0])\n",
    "    #else:\n",
    "        #temp1.append([0,1])\n",
    "#temp.transpose()"
   ]
  },
  {
   "cell_type": "code",
   "execution_count": 127,
   "metadata": {},
   "outputs": [],
   "source": [
    "# y_test_array_norm = []\n",
    "# for x in y_test_array:\n",
    "#     y_test_array_norm.append(np.argmax(x))\n",
    "\n",
    "\n",
    "# y_test_array_norm = np.array(y_test_array_norm)"
   ]
  },
  {
   "cell_type": "code",
   "execution_count": 128,
   "metadata": {},
   "outputs": [],
   "source": [
    "#y_test_array_norm"
   ]
  },
  {
   "cell_type": "code",
   "execution_count": 129,
   "metadata": {},
   "outputs": [],
   "source": [
    "# pred_test_array_norm = []\n",
    "\n",
    "# for x in predicted:\n",
    "#     pred_test_array_norm.append(np.argmax(x))\n",
    "\n",
    "\n",
    "# pred_test_array_norm = np.array(pred_test_array_norm)"
   ]
  },
  {
   "cell_type": "code",
   "execution_count": 130,
   "metadata": {},
   "outputs": [],
   "source": [
    "#y_test_array_norm.shape"
   ]
  },
  {
   "cell_type": "code",
   "execution_count": 131,
   "metadata": {},
   "outputs": [],
   "source": [
    "# np.argmax(x)"
   ]
  },
  {
   "cell_type": "markdown",
   "metadata": {},
   "source": [
    "### Evaluate on the testing set"
   ]
  },
  {
   "cell_type": "code",
   "execution_count": 132,
   "metadata": {},
   "outputs": [],
   "source": [
    "#pred_test[0][1]"
   ]
  },
  {
   "cell_type": "code",
   "execution_count": 133,
   "metadata": {},
   "outputs": [],
   "source": [
    "#from sklearn.preprocessing import MultiLabelBinarizer"
   ]
  },
  {
   "cell_type": "code",
   "execution_count": 134,
   "metadata": {},
   "outputs": [],
   "source": [
    "#y_test = MultiLabelBinarizer().fit_transform(test)\n",
    "#pred_test= MultiLabelBinarizer().fit_transform(pred_test)\n"
   ]
  },
  {
   "cell_type": "code",
   "execution_count": 135,
   "metadata": {},
   "outputs": [
    {
     "data": {
      "text/plain": [
       "6395"
      ]
     },
     "execution_count": 135,
     "metadata": {},
     "output_type": "execute_result"
    }
   ],
   "source": [
    "y_test_array.__len__()"
   ]
  },
  {
   "cell_type": "code",
   "execution_count": 136,
   "metadata": {},
   "outputs": [
    {
     "data": {
      "text/plain": [
       "[1,\n",
       " 1,\n",
       " 1,\n",
       " 1,\n",
       " 0,\n",
       " 1,\n",
       " 1,\n",
       " 1,\n",
       " 1,\n",
       " 1,\n",
       " 1,\n",
       " 0,\n",
       " 1,\n",
       " 0,\n",
       " 0,\n",
       " 1,\n",
       " 1,\n",
       " 0,\n",
       " 1,\n",
       " 0,\n",
       " 0,\n",
       " 1,\n",
       " 1,\n",
       " 1,\n",
       " 1,\n",
       " 1,\n",
       " 0,\n",
       " 1,\n",
       " 1,\n",
       " 0,\n",
       " 1,\n",
       " 1,\n",
       " 1,\n",
       " 1,\n",
       " 1,\n",
       " 0,\n",
       " 0,\n",
       " 1,\n",
       " 0,\n",
       " 0,\n",
       " 1,\n",
       " 0,\n",
       " 1,\n",
       " 0,\n",
       " 1,\n",
       " 0,\n",
       " 1,\n",
       " 1,\n",
       " 1,\n",
       " 1,\n",
       " 1,\n",
       " 1,\n",
       " 1,\n",
       " 0,\n",
       " 1,\n",
       " 0,\n",
       " 1,\n",
       " 1,\n",
       " 1,\n",
       " 1,\n",
       " 0,\n",
       " 0,\n",
       " 1,\n",
       " 1,\n",
       " 0,\n",
       " 0,\n",
       " 0,\n",
       " 1,\n",
       " 0,\n",
       " 0,\n",
       " 1,\n",
       " 1,\n",
       " 1,\n",
       " 1,\n",
       " 1,\n",
       " 0,\n",
       " 1,\n",
       " 0,\n",
       " 1,\n",
       " 1,\n",
       " 0,\n",
       " 1,\n",
       " 1,\n",
       " 1,\n",
       " 1,\n",
       " 0,\n",
       " 1,\n",
       " 1,\n",
       " 1,\n",
       " 0,\n",
       " 1,\n",
       " 1,\n",
       " 1,\n",
       " 1,\n",
       " 1,\n",
       " 1,\n",
       " 1,\n",
       " 0,\n",
       " 1,\n",
       " 1,\n",
       " 1,\n",
       " 1,\n",
       " 0,\n",
       " 0,\n",
       " 1,\n",
       " 1,\n",
       " 1,\n",
       " 0,\n",
       " 1,\n",
       " 1,\n",
       " 0,\n",
       " 1,\n",
       " 0,\n",
       " 1,\n",
       " 1,\n",
       " 1,\n",
       " 0,\n",
       " 1,\n",
       " 1,\n",
       " 1,\n",
       " 0,\n",
       " 0,\n",
       " 1,\n",
       " 1,\n",
       " 0,\n",
       " 1,\n",
       " 1,\n",
       " 1,\n",
       " 1,\n",
       " 1,\n",
       " 1,\n",
       " 1,\n",
       " 1,\n",
       " 1,\n",
       " 1,\n",
       " 1,\n",
       " 0,\n",
       " 0,\n",
       " 1,\n",
       " 1,\n",
       " 1,\n",
       " 1,\n",
       " 1,\n",
       " 0,\n",
       " 1,\n",
       " 0,\n",
       " 1,\n",
       " 1,\n",
       " 0,\n",
       " 0,\n",
       " 1,\n",
       " 1,\n",
       " 1,\n",
       " 1,\n",
       " 1,\n",
       " 1,\n",
       " 0,\n",
       " 1,\n",
       " 0,\n",
       " 0,\n",
       " 1,\n",
       " 1,\n",
       " 1,\n",
       " 0,\n",
       " 0,\n",
       " 1,\n",
       " 0,\n",
       " 1,\n",
       " 1,\n",
       " 1,\n",
       " 0,\n",
       " 1,\n",
       " 1,\n",
       " 1,\n",
       " 1,\n",
       " 0,\n",
       " 1,\n",
       " 1,\n",
       " 1,\n",
       " 1,\n",
       " 1,\n",
       " 1,\n",
       " 1,\n",
       " 1,\n",
       " 1,\n",
       " 0,\n",
       " 1,\n",
       " 0,\n",
       " 1,\n",
       " 1,\n",
       " 1,\n",
       " 0,\n",
       " 0,\n",
       " 1,\n",
       " 0,\n",
       " 1,\n",
       " 1,\n",
       " 1,\n",
       " 0,\n",
       " 0,\n",
       " 0,\n",
       " 1,\n",
       " 1,\n",
       " 0,\n",
       " 0,\n",
       " 1,\n",
       " 1,\n",
       " 1,\n",
       " 1,\n",
       " 0,\n",
       " 1,\n",
       " 1,\n",
       " 1,\n",
       " 1,\n",
       " 1,\n",
       " 1,\n",
       " 1,\n",
       " 0,\n",
       " 1,\n",
       " 1,\n",
       " 1,\n",
       " 1,\n",
       " 0,\n",
       " 0,\n",
       " 1,\n",
       " 1,\n",
       " 1,\n",
       " 1,\n",
       " 0,\n",
       " 1,\n",
       " 1,\n",
       " 1,\n",
       " 1,\n",
       " 1,\n",
       " 1,\n",
       " 1,\n",
       " 1,\n",
       " 1,\n",
       " 1,\n",
       " 1,\n",
       " 0,\n",
       " 1,\n",
       " 0,\n",
       " 1,\n",
       " 1,\n",
       " 0,\n",
       " 1,\n",
       " 1,\n",
       " 0,\n",
       " 1,\n",
       " 1,\n",
       " 1,\n",
       " 0,\n",
       " 0,\n",
       " 0,\n",
       " 1,\n",
       " 1,\n",
       " 1,\n",
       " 1,\n",
       " 1,\n",
       " 0,\n",
       " 1,\n",
       " 0,\n",
       " 0,\n",
       " 1,\n",
       " 1,\n",
       " 1,\n",
       " 1,\n",
       " 1,\n",
       " 0,\n",
       " 0,\n",
       " 1,\n",
       " 1,\n",
       " 0,\n",
       " 1,\n",
       " 1,\n",
       " 1,\n",
       " 0,\n",
       " 1,\n",
       " 1,\n",
       " 0,\n",
       " 0,\n",
       " 1,\n",
       " 0,\n",
       " 1,\n",
       " 0,\n",
       " 0,\n",
       " 1,\n",
       " 0,\n",
       " 1,\n",
       " 1,\n",
       " 0,\n",
       " 0,\n",
       " 1,\n",
       " 1,\n",
       " 1,\n",
       " 0,\n",
       " 1,\n",
       " 1,\n",
       " 1,\n",
       " 1,\n",
       " 1,\n",
       " 1,\n",
       " 1,\n",
       " 1,\n",
       " 0,\n",
       " 0,\n",
       " 1,\n",
       " 1,\n",
       " 1,\n",
       " 0,\n",
       " 0,\n",
       " 1,\n",
       " 0,\n",
       " 0,\n",
       " 1,\n",
       " 1,\n",
       " 1,\n",
       " 1,\n",
       " 0,\n",
       " 1,\n",
       " 1,\n",
       " 0,\n",
       " 1,\n",
       " 0,\n",
       " 1,\n",
       " 0,\n",
       " 1,\n",
       " 0,\n",
       " 1,\n",
       " 1,\n",
       " 1,\n",
       " 1,\n",
       " 1,\n",
       " 1,\n",
       " 1,\n",
       " 1,\n",
       " 0,\n",
       " 0,\n",
       " 1,\n",
       " 0,\n",
       " 1,\n",
       " 1,\n",
       " 0,\n",
       " 1,\n",
       " 1,\n",
       " 0,\n",
       " 1,\n",
       " 1,\n",
       " 0,\n",
       " 1,\n",
       " 0,\n",
       " 1,\n",
       " 1,\n",
       " 0,\n",
       " 1,\n",
       " 0,\n",
       " 0,\n",
       " 1,\n",
       " 0,\n",
       " 0,\n",
       " 1,\n",
       " 1,\n",
       " 1,\n",
       " 0,\n",
       " 1,\n",
       " 1,\n",
       " 1,\n",
       " 1,\n",
       " 1,\n",
       " 1,\n",
       " 0,\n",
       " 1,\n",
       " 0,\n",
       " 0,\n",
       " 1,\n",
       " 0,\n",
       " 1,\n",
       " 1,\n",
       " 0,\n",
       " 1,\n",
       " 1,\n",
       " 1,\n",
       " 1,\n",
       " 0,\n",
       " 0,\n",
       " 0,\n",
       " 1,\n",
       " 1,\n",
       " 0,\n",
       " 0,\n",
       " 0,\n",
       " 0,\n",
       " 0,\n",
       " 1,\n",
       " 1,\n",
       " 1,\n",
       " 1,\n",
       " 1,\n",
       " 0,\n",
       " 0,\n",
       " 1,\n",
       " 1,\n",
       " 1,\n",
       " 1,\n",
       " 0,\n",
       " 1,\n",
       " 0,\n",
       " 0,\n",
       " 1,\n",
       " 1,\n",
       " 0,\n",
       " 0,\n",
       " 1,\n",
       " 0,\n",
       " 1,\n",
       " 1,\n",
       " 1,\n",
       " 1,\n",
       " 0,\n",
       " 1,\n",
       " 0,\n",
       " 1,\n",
       " 1,\n",
       " 1,\n",
       " 1,\n",
       " 0,\n",
       " 1,\n",
       " 1,\n",
       " 0,\n",
       " 1,\n",
       " 1,\n",
       " 1,\n",
       " 1,\n",
       " 1,\n",
       " 0,\n",
       " 1,\n",
       " 1,\n",
       " 0,\n",
       " 1,\n",
       " 1,\n",
       " 1,\n",
       " 0,\n",
       " 0,\n",
       " 1,\n",
       " 1,\n",
       " 1,\n",
       " 0,\n",
       " 1,\n",
       " 1,\n",
       " 1,\n",
       " 1,\n",
       " 1,\n",
       " 0,\n",
       " 0,\n",
       " 1,\n",
       " 1,\n",
       " 1,\n",
       " 1,\n",
       " 1,\n",
       " 1,\n",
       " 0,\n",
       " 1,\n",
       " 0,\n",
       " 1,\n",
       " 1,\n",
       " 0,\n",
       " 1,\n",
       " 1,\n",
       " 1,\n",
       " 0,\n",
       " 1,\n",
       " 1,\n",
       " 1,\n",
       " 1,\n",
       " 0,\n",
       " 1,\n",
       " 1,\n",
       " 1,\n",
       " 1,\n",
       " 1,\n",
       " 1,\n",
       " 1,\n",
       " 0,\n",
       " 1,\n",
       " 0,\n",
       " 0,\n",
       " 1,\n",
       " 1,\n",
       " 0,\n",
       " 1,\n",
       " 1,\n",
       " 0,\n",
       " 0,\n",
       " 1,\n",
       " 0,\n",
       " 1,\n",
       " 1,\n",
       " 1,\n",
       " 1,\n",
       " 0,\n",
       " 0,\n",
       " 0,\n",
       " 1,\n",
       " 0,\n",
       " 1,\n",
       " 0,\n",
       " 0,\n",
       " 1,\n",
       " 1,\n",
       " 1,\n",
       " 0,\n",
       " 1,\n",
       " 1,\n",
       " 1,\n",
       " 1,\n",
       " 1,\n",
       " 0,\n",
       " 1,\n",
       " 1,\n",
       " 1,\n",
       " 1,\n",
       " 0,\n",
       " 0,\n",
       " 1,\n",
       " 1,\n",
       " 1,\n",
       " 1,\n",
       " 1,\n",
       " 1,\n",
       " 1,\n",
       " 0,\n",
       " 1,\n",
       " 0,\n",
       " 0,\n",
       " 1,\n",
       " 0,\n",
       " 1,\n",
       " 1,\n",
       " 1,\n",
       " 1,\n",
       " 1,\n",
       " 0,\n",
       " 1,\n",
       " 0,\n",
       " 0,\n",
       " 1,\n",
       " 1,\n",
       " 1,\n",
       " 1,\n",
       " 0,\n",
       " 1,\n",
       " 0,\n",
       " 1,\n",
       " 0,\n",
       " 0,\n",
       " 0,\n",
       " 0,\n",
       " 1,\n",
       " 1,\n",
       " 0,\n",
       " 1,\n",
       " 0,\n",
       " 0,\n",
       " 1,\n",
       " 1,\n",
       " 1,\n",
       " 1,\n",
       " 1,\n",
       " 1,\n",
       " 0,\n",
       " 1,\n",
       " 1,\n",
       " 1,\n",
       " 1,\n",
       " 1,\n",
       " 1,\n",
       " 1,\n",
       " 1,\n",
       " 1,\n",
       " 0,\n",
       " 1,\n",
       " 0,\n",
       " 1,\n",
       " 1,\n",
       " 0,\n",
       " 1,\n",
       " 1,\n",
       " 0,\n",
       " 0,\n",
       " 1,\n",
       " 1,\n",
       " 1,\n",
       " 1,\n",
       " 0,\n",
       " 1,\n",
       " 0,\n",
       " 1,\n",
       " 1,\n",
       " 0,\n",
       " 0,\n",
       " 1,\n",
       " 1,\n",
       " 0,\n",
       " 1,\n",
       " 1,\n",
       " 0,\n",
       " 1,\n",
       " 1,\n",
       " 1,\n",
       " 0,\n",
       " 0,\n",
       " 0,\n",
       " 0,\n",
       " 0,\n",
       " 1,\n",
       " 0,\n",
       " 0,\n",
       " 1,\n",
       " 1,\n",
       " 1,\n",
       " 0,\n",
       " 0,\n",
       " 1,\n",
       " 1,\n",
       " 0,\n",
       " 0,\n",
       " 1,\n",
       " 0,\n",
       " 1,\n",
       " 1,\n",
       " 1,\n",
       " 1,\n",
       " 1,\n",
       " 1,\n",
       " 1,\n",
       " 1,\n",
       " 0,\n",
       " 1,\n",
       " 1,\n",
       " 1,\n",
       " 1,\n",
       " 1,\n",
       " 0,\n",
       " 1,\n",
       " 0,\n",
       " 1,\n",
       " 1,\n",
       " 1,\n",
       " 0,\n",
       " 0,\n",
       " 1,\n",
       " 1,\n",
       " 0,\n",
       " 1,\n",
       " 0,\n",
       " 0,\n",
       " 1,\n",
       " 0,\n",
       " 1,\n",
       " 1,\n",
       " 0,\n",
       " 0,\n",
       " 0,\n",
       " 1,\n",
       " 1,\n",
       " 0,\n",
       " 1,\n",
       " 1,\n",
       " 1,\n",
       " 1,\n",
       " 1,\n",
       " 0,\n",
       " 1,\n",
       " 0,\n",
       " 0,\n",
       " 0,\n",
       " 0,\n",
       " 1,\n",
       " 1,\n",
       " 1,\n",
       " 1,\n",
       " 1,\n",
       " 1,\n",
       " 1,\n",
       " 0,\n",
       " 1,\n",
       " 0,\n",
       " 0,\n",
       " 0,\n",
       " 1,\n",
       " 1,\n",
       " 1,\n",
       " 0,\n",
       " 1,\n",
       " 0,\n",
       " 1,\n",
       " 1,\n",
       " 1,\n",
       " 0,\n",
       " 1,\n",
       " 0,\n",
       " 1,\n",
       " 1,\n",
       " 1,\n",
       " 1,\n",
       " 1,\n",
       " 1,\n",
       " 0,\n",
       " 0,\n",
       " 0,\n",
       " 0,\n",
       " 0,\n",
       " 0,\n",
       " 1,\n",
       " 0,\n",
       " 0,\n",
       " 1,\n",
       " 1,\n",
       " 0,\n",
       " 1,\n",
       " 0,\n",
       " 1,\n",
       " 1,\n",
       " 1,\n",
       " 1,\n",
       " 1,\n",
       " 1,\n",
       " 1,\n",
       " 0,\n",
       " 0,\n",
       " 1,\n",
       " 0,\n",
       " 0,\n",
       " 1,\n",
       " 1,\n",
       " 0,\n",
       " 1,\n",
       " 1,\n",
       " 1,\n",
       " 1,\n",
       " 1,\n",
       " 1,\n",
       " 1,\n",
       " 1,\n",
       " 1,\n",
       " 0,\n",
       " 0,\n",
       " 1,\n",
       " 1,\n",
       " 1,\n",
       " 1,\n",
       " 0,\n",
       " 0,\n",
       " 0,\n",
       " 1,\n",
       " 1,\n",
       " 1,\n",
       " 0,\n",
       " 1,\n",
       " 1,\n",
       " 1,\n",
       " 0,\n",
       " 1,\n",
       " 1,\n",
       " 1,\n",
       " 0,\n",
       " 1,\n",
       " 1,\n",
       " 1,\n",
       " 1,\n",
       " 0,\n",
       " 1,\n",
       " 1,\n",
       " 1,\n",
       " 0,\n",
       " 1,\n",
       " 1,\n",
       " 1,\n",
       " 1,\n",
       " 1,\n",
       " 0,\n",
       " 1,\n",
       " 0,\n",
       " 0,\n",
       " 1,\n",
       " 0,\n",
       " 0,\n",
       " 1,\n",
       " 1,\n",
       " 1,\n",
       " 0,\n",
       " 1,\n",
       " 1,\n",
       " 0,\n",
       " 0,\n",
       " 1,\n",
       " 1,\n",
       " 0,\n",
       " 1,\n",
       " 0,\n",
       " 1,\n",
       " 1,\n",
       " 1,\n",
       " 0,\n",
       " 1,\n",
       " 0,\n",
       " 1,\n",
       " 1,\n",
       " 1,\n",
       " 1,\n",
       " 1,\n",
       " 0,\n",
       " 1,\n",
       " 0,\n",
       " 0,\n",
       " 1,\n",
       " 1,\n",
       " 1,\n",
       " 1,\n",
       " 0,\n",
       " 1,\n",
       " 1,\n",
       " 1,\n",
       " 1,\n",
       " 0,\n",
       " 0,\n",
       " 1,\n",
       " 1,\n",
       " 1,\n",
       " 1,\n",
       " 1,\n",
       " 1,\n",
       " 1,\n",
       " 1,\n",
       " 1,\n",
       " 1,\n",
       " 0,\n",
       " 0,\n",
       " 1,\n",
       " 0,\n",
       " 1,\n",
       " 1,\n",
       " 1,\n",
       " 1,\n",
       " 0,\n",
       " 0,\n",
       " 1,\n",
       " 0,\n",
       " 1,\n",
       " 1,\n",
       " 1,\n",
       " 1,\n",
       " 1,\n",
       " 1,\n",
       " 0,\n",
       " 0,\n",
       " 0,\n",
       " 1,\n",
       " 1,\n",
       " 1,\n",
       " 0,\n",
       " 1,\n",
       " 0,\n",
       " 1,\n",
       " 0,\n",
       " 1,\n",
       " 1,\n",
       " 1,\n",
       " 0,\n",
       " 1,\n",
       " 1,\n",
       " 1,\n",
       " 1,\n",
       " 1,\n",
       " 0,\n",
       " 1,\n",
       " 0,\n",
       " 1,\n",
       " 0,\n",
       " 1,\n",
       " 1,\n",
       " 1,\n",
       " 1,\n",
       " 1,\n",
       " 0,\n",
       " 1,\n",
       " 0,\n",
       " 0,\n",
       " 1,\n",
       " 1,\n",
       " 0,\n",
       " 1,\n",
       " 1,\n",
       " 1,\n",
       " 1,\n",
       " 0,\n",
       " 1,\n",
       " 0,\n",
       " 1,\n",
       " 1,\n",
       " 1,\n",
       " 0,\n",
       " 0,\n",
       " 1,\n",
       " 0,\n",
       " 1,\n",
       " 1,\n",
       " 1,\n",
       " 1,\n",
       " 1,\n",
       " 0,\n",
       " 1,\n",
       " 1,\n",
       " 1,\n",
       " 1,\n",
       " 1,\n",
       " 0,\n",
       " 1,\n",
       " 1,\n",
       " 1,\n",
       " 1,\n",
       " 1,\n",
       " 1,\n",
       " 1,\n",
       " 1,\n",
       " 0,\n",
       " 1,\n",
       " 0,\n",
       " 0,\n",
       " 0,\n",
       " 0,\n",
       " 0,\n",
       " 1,\n",
       " 0,\n",
       " 1,\n",
       " 0,\n",
       " 1,\n",
       " 1,\n",
       " 1,\n",
       " 0,\n",
       " 1,\n",
       " 1,\n",
       " 0,\n",
       " 1,\n",
       " 0,\n",
       " 0,\n",
       " 1,\n",
       " 1,\n",
       " 0,\n",
       " 1,\n",
       " 1,\n",
       " 1,\n",
       " 0,\n",
       " 1,\n",
       " 1,\n",
       " 1,\n",
       " 0,\n",
       " 1,\n",
       " 1,\n",
       " 1,\n",
       " 1,\n",
       " 1,\n",
       " 1,\n",
       " 1,\n",
       " 0,\n",
       " 1,\n",
       " 1,\n",
       " 0,\n",
       " 1,\n",
       " 0,\n",
       " 0,\n",
       " 0,\n",
       " 0,\n",
       " 1,\n",
       " 0,\n",
       " 1,\n",
       " 1,\n",
       " 0,\n",
       " 0,\n",
       " 0,\n",
       " 1,\n",
       " 1,\n",
       " 1,\n",
       " 0,\n",
       " 1,\n",
       " 1,\n",
       " 1,\n",
       " 1,\n",
       " 0,\n",
       " 1,\n",
       " 1,\n",
       " 1,\n",
       " 1,\n",
       " 1,\n",
       " 0,\n",
       " 1,\n",
       " 1,\n",
       " 1,\n",
       " 1,\n",
       " ...]"
      ]
     },
     "execution_count": 136,
     "metadata": {},
     "output_type": "execute_result"
    }
   ],
   "source": [
    "pred_test"
   ]
  },
  {
   "cell_type": "code",
   "execution_count": 137,
   "metadata": {},
   "outputs": [
    {
     "data": {
      "text/plain": [
       "6395"
      ]
     },
     "execution_count": 137,
     "metadata": {},
     "output_type": "execute_result"
    }
   ],
   "source": [
    "y_pred_test.__len__()"
   ]
  },
  {
   "cell_type": "code",
   "execution_count": 138,
   "metadata": {},
   "outputs": [],
   "source": [
    "#confusion = sklearn.metrics.confusion_matrix(y_true=transformed_test, y_pred=transformed_test)\\\n",
    "# sklearn.metrics.accuracy_score(test[:,1],pred_test[0])"
   ]
  },
  {
   "cell_type": "code",
   "execution_count": 139,
   "metadata": {},
   "outputs": [
    {
     "data": {
      "text/plain": [
       "0"
      ]
     },
     "execution_count": 139,
     "metadata": {},
     "output_type": "execute_result"
    }
   ],
   "source": [
    "y_pred_test[1]\n"
   ]
  },
  {
   "cell_type": "code",
   "execution_count": 140,
   "metadata": {},
   "outputs": [],
   "source": [
    "#pred_test[1][0]"
   ]
  },
  {
   "cell_type": "code",
   "execution_count": 141,
   "metadata": {},
   "outputs": [
    {
     "data": {
      "text/plain": [
       "array([1], dtype=int64)"
      ]
     },
     "execution_count": 141,
     "metadata": {},
     "output_type": "execute_result"
    }
   ],
   "source": [
    "y_test_array[0]"
   ]
  },
  {
   "cell_type": "code",
   "execution_count": 142,
   "metadata": {},
   "outputs": [
    {
     "data": {
      "text/plain": [
       "(6395, 1)"
      ]
     },
     "execution_count": 142,
     "metadata": {},
     "output_type": "execute_result"
    }
   ],
   "source": [
    "y_test_array.shape  "
   ]
  },
  {
   "cell_type": "code",
   "execution_count": 143,
   "metadata": {},
   "outputs": [
    {
     "data": {
      "text/plain": [
       "(6395, 1)"
      ]
     },
     "execution_count": 143,
     "metadata": {},
     "output_type": "execute_result"
    }
   ],
   "source": [
    "predicted.shape"
   ]
  },
  {
   "cell_type": "code",
   "execution_count": 144,
   "metadata": {
    "scrolled": true
   },
   "outputs": [
    {
     "name": "stdout",
     "output_type": "stream",
     "text": [
      "\n",
      "This is evaluation for column 0\n",
      "[[1640 1566]\n",
      " [ 584 2605]]\n",
      "\n",
      "TP: 2605\n",
      "FP: 1566\n",
      "TN: 1640\n",
      "FN: 584\n",
      "\n",
      "Accuracy: 0.6637998436278343\n",
      "Precision: 0.6245504675137856\n",
      "Recall: 0.8168704923173409\n",
      "F-measure: 0.7078804347826088\n"
     ]
    }
   ],
   "source": [
    "#from sklearn.metrics import confusion_matrix\n",
    "from sklearn.metrics  import multilabel_confusion_matrix\n",
    "\n",
    "for col in range(0,1):\n",
    "    print('\\nThis is evaluation for column',col)\n",
    "    #confusion=confusion_matrix(y_true=y_test[:,col], y_pred=pred_test[col-1])\n",
    "    # confusion=multilabel_confusion_matrix(y_true=y_test_array, y_pred=predicted)\n",
    "    confusion = sklearn.metrics.confusion_matrix(y_true=y_pred_test, y_pred=pred_test)\n",
    "    #confusion = sklearn.metrics.confusion_matrix(y_true=y_test[col], y_pred=pred_test[col-1])\n",
    "    print(confusion)\n",
    "    # print( sklearn.metrics.classification_report(y_true=y_pred_test[col], y_pred=pred_test[col]))\n",
    "    tn, fp, fn, tp = confusion.ravel()\n",
    "    print('\\nTP:',tp)\n",
    "    print('FP:',fp)\n",
    "    print('TN:',tn)\n",
    "    print('FN:',fn)\n",
    "      ## Performance measure\n",
    "    print('\\nAccuracy: '+ str(sklearn.metrics.accuracy_score(y_true=y_pred_test, y_pred=pred_test)))\n",
    "    print('Precision: '+ str(sklearn.metrics.precision_score(y_true=y_pred_test, y_pred=pred_test)))\n",
    "    print('Recall: '+ str(sklearn.metrics.recall_score(y_true=y_test_array, y_pred=pred_test)))\n",
    "    print('F-measure: '+ str(sklearn.metrics.f1_score(y_true=y_pred_test, y_pred=pred_test)))\n",
    "    #print('Precision-Recall AUC: '+ str(sklearn.metrics.average_precision_score(y_true=y_test[col], y_score=predicted[col][:,1])))\n",
    "    #print('AUC: '+ str(sklearn.metrics.roc_auc_score(y_true=y_test[col], y_score=predicted[col][:,1])))\n",
    "    #print('MCC: '+ str(sklearn.metrics.matthews_corrcoef(y_true=y_test[col], y_pred=pred_test[col])))\n",
    "\n"
   ]
  },
  {
   "cell_type": "code",
   "execution_count": 145,
   "metadata": {},
   "outputs": [],
   "source": [
    "#pred_test.shape"
   ]
  },
  {
   "cell_type": "code",
   "execution_count": 146,
   "metadata": {},
   "outputs": [],
   "source": [
    "#y_pred_test.shape"
   ]
  },
  {
   "cell_type": "code",
   "execution_count": 147,
   "metadata": {},
   "outputs": [],
   "source": [
    "import seaborn as sns"
   ]
  },
  {
   "cell_type": "code",
   "execution_count": 148,
   "metadata": {},
   "outputs": [
    {
     "data": {
      "text/html": [
       "<div>\n",
       "<style scoped>\n",
       "    .dataframe tbody tr th:only-of-type {\n",
       "        vertical-align: middle;\n",
       "    }\n",
       "\n",
       "    .dataframe tbody tr th {\n",
       "        vertical-align: top;\n",
       "    }\n",
       "\n",
       "    .dataframe thead th {\n",
       "        text-align: right;\n",
       "    }\n",
       "</style>\n",
       "<table border=\"1\" class=\"dataframe\">\n",
       "  <thead>\n",
       "    <tr style=\"text-align: right;\">\n",
       "      <th></th>\n",
       "      <th>Name</th>\n",
       "      <th>Impact</th>\n",
       "    </tr>\n",
       "  </thead>\n",
       "  <tbody>\n",
       "    <tr>\n",
       "      <th>0</th>\n",
       "      <td>public void addJavascriptObject(Object obj, St...</td>\n",
       "      <td>0</td>\n",
       "    </tr>\n",
       "    <tr>\n",
       "      <th>1</th>\n",
       "      <td>public void initialize() \\n        setPlacemen...</td>\n",
       "      <td>0</td>\n",
       "    </tr>\n",
       "    <tr>\n",
       "      <th>2</th>\n",
       "      <td>public void initialize() \\n        setPlacemen...</td>\n",
       "      <td>0</td>\n",
       "    </tr>\n",
       "    <tr>\n",
       "      <th>3</th>\n",
       "      <td>public void displayRichMedia(final JSONObject ...</td>\n",
       "      <td>0</td>\n",
       "    </tr>\n",
       "    <tr>\n",
       "      <th>4</th>\n",
       "      <td>this.webView.addJavascriptInterface(this.jsBri...</td>\n",
       "      <td>0</td>\n",
       "    </tr>\n",
       "    <tr>\n",
       "      <th>...</th>\n",
       "      <td>...</td>\n",
       "      <td>...</td>\n",
       "    </tr>\n",
       "    <tr>\n",
       "      <th>31967</th>\n",
       "      <td>public native String getNativeCode(String str,...</td>\n",
       "      <td>1</td>\n",
       "    </tr>\n",
       "    <tr>\n",
       "      <th>31968</th>\n",
       "      <td>private static String byteToHex(byte[] hash) \\...</td>\n",
       "      <td>1</td>\n",
       "    </tr>\n",
       "    <tr>\n",
       "      <th>31969</th>\n",
       "      <td>public synchronized void generate(StringBuilde...</td>\n",
       "      <td>1</td>\n",
       "    </tr>\n",
       "    <tr>\n",
       "      <th>31970</th>\n",
       "      <td>public String generate() \\n        StringBuild...</td>\n",
       "      <td>1</td>\n",
       "    </tr>\n",
       "    <tr>\n",
       "      <th>31971</th>\n",
       "      <td>public void checkClientTrusted(X509Certificate...</td>\n",
       "      <td>1</td>\n",
       "    </tr>\n",
       "  </tbody>\n",
       "</table>\n",
       "<p>31972 rows × 2 columns</p>\n",
       "</div>"
      ],
      "text/plain": [
       "                                                    Name  Impact\n",
       "0      public void addJavascriptObject(Object obj, St...       0\n",
       "1      public void initialize() \\n        setPlacemen...       0\n",
       "2      public void initialize() \\n        setPlacemen...       0\n",
       "3      public void displayRichMedia(final JSONObject ...       0\n",
       "4      this.webView.addJavascriptInterface(this.jsBri...       0\n",
       "...                                                  ...     ...\n",
       "31967  public native String getNativeCode(String str,...       1\n",
       "31968  private static String byteToHex(byte[] hash) \\...       1\n",
       "31969  public synchronized void generate(StringBuilde...       1\n",
       "31970  public String generate() \\n        StringBuild...       1\n",
       "31971  public void checkClientTrusted(X509Certificate...       1\n",
       "\n",
       "[31972 rows x 2 columns]"
      ]
     },
     "execution_count": 148,
     "metadata": {},
     "output_type": "execute_result"
    }
   ],
   "source": [
    "data"
   ]
  },
  {
   "cell_type": "code",
   "execution_count": 149,
   "metadata": {},
   "outputs": [
    {
     "data": {
      "text/plain": [
       "['Impact']"
      ]
     },
     "execution_count": 149,
     "metadata": {},
     "output_type": "execute_result"
    }
   ],
   "source": [
    "list(data.columns[1:])"
   ]
  },
  {
   "cell_type": "code",
   "execution_count": 150,
   "metadata": {},
   "outputs": [
    {
     "data": {
      "text/plain": [
       "(6395, 6395)"
      ]
     },
     "execution_count": 150,
     "metadata": {},
     "output_type": "execute_result"
    }
   ],
   "source": [
    "len(pred_test), len(y_pred_test)\n"
   ]
  },
  {
   "cell_type": "code",
   "execution_count": 151,
   "metadata": {},
   "outputs": [
    {
     "data": {
      "text/plain": [
       "int"
      ]
     },
     "execution_count": 151,
     "metadata": {},
     "output_type": "execute_result"
    }
   ],
   "source": [
    "type(pred_test[0])"
   ]
  },
  {
   "cell_type": "code",
   "execution_count": 152,
   "metadata": {},
   "outputs": [
    {
     "data": {
      "text/plain": [
       "(6395, 6395)"
      ]
     },
     "execution_count": 152,
     "metadata": {},
     "output_type": "execute_result"
    }
   ],
   "source": [
    "len(pred_test), len(y_pred_test)"
   ]
  },
  {
   "cell_type": "code",
   "execution_count": 153,
   "metadata": {},
   "outputs": [],
   "source": [
    "pred_test = np.array(pred_test)\n",
    "y_pred_test = np.array(y_pred_test)"
   ]
  },
  {
   "cell_type": "code",
   "execution_count": null,
   "metadata": {},
   "outputs": [],
   "source": []
  },
  {
   "cell_type": "code",
   "execution_count": 154,
   "metadata": {},
   "outputs": [],
   "source": [
    "# con_mat = tf.math.confusion_matrix(\n",
    "#     #y_test_array_norm,\n",
    "#     #pred_test_array_norm,\n",
    "#     pred_test,\n",
    "#     y_pred_test,\n",
    "#     num_classes=2,\n",
    "#     dtype=tf.int16\n",
    "# ).numpy()\n",
    "\n",
    "# con_mat_norm = np.around(con_mat.astype('int') / con_mat.sum(axis=1)[:, np.newaxis], decimals=1)\n",
    "\n",
    "# index = ['NON-VUL, VUL']\n",
    "\n",
    "# con_mat_df = pd.DataFrame(con_mat,\n",
    "#                      index = None, \n",
    "#                      columns = index)\n",
    "\n",
    "\n",
    "# figure = plt.figure(figsize=(8, 8))\n",
    "# sns.heatmap(con_mat_df, annot=True,cmap=plt.cm.Blues)\n",
    "# plt.tight_layout()\n",
    "# plt.ylabel('True label')\n",
    "# plt.xlabel('Predicted label')\n",
    "# plt.show()"
   ]
  },
  {
   "cell_type": "code",
   "execution_count": 155,
   "metadata": {},
   "outputs": [],
   "source": [
    "#con_mat_norm"
   ]
  },
  {
   "cell_type": "code",
   "execution_count": 156,
   "metadata": {},
   "outputs": [],
   "source": [
    "#con_mat"
   ]
  },
  {
   "cell_type": "code",
   "execution_count": 157,
   "metadata": {},
   "outputs": [
    {
     "data": {
      "text/plain": [
       "(1,)"
      ]
     },
     "execution_count": 157,
     "metadata": {},
     "output_type": "execute_result"
    }
   ],
   "source": [
    "np.where(y_pred_test[3] == pred_test[3])[0].shape"
   ]
  },
  {
   "cell_type": "code",
   "execution_count": 158,
   "metadata": {},
   "outputs": [
    {
     "data": {
      "text/plain": [
       "(0,)"
      ]
     },
     "execution_count": 158,
     "metadata": {},
     "output_type": "execute_result"
    }
   ],
   "source": [
    "np.where(y_pred_test[3] != pred_test[3])[0].shape"
   ]
  },
  {
   "cell_type": "code",
   "execution_count": 159,
   "metadata": {},
   "outputs": [
    {
     "data": {
      "text/plain": [
       "1"
      ]
     },
     "execution_count": 159,
     "metadata": {},
     "output_type": "execute_result"
    }
   ],
   "source": [
    "y_pred_test[3][y_pred_test[3] == 1].__len__()"
   ]
  },
  {
   "cell_type": "code",
   "execution_count": 160,
   "metadata": {},
   "outputs": [
    {
     "data": {
      "text/plain": [
       "0"
      ]
     },
     "execution_count": 160,
     "metadata": {},
     "output_type": "execute_result"
    }
   ],
   "source": [
    "pred_test[3][pred_test[3] == 0].__len__()"
   ]
  },
  {
   "cell_type": "code",
   "execution_count": 161,
   "metadata": {},
   "outputs": [
    {
     "data": {
      "text/plain": [
       "1"
      ]
     },
     "execution_count": 161,
     "metadata": {},
     "output_type": "execute_result"
    }
   ],
   "source": [
    "pred_test[3][pred_test[3] == 1].__len__()"
   ]
  },
  {
   "cell_type": "code",
   "execution_count": 162,
   "metadata": {},
   "outputs": [],
   "source": [
    "#len(pred_test[3])"
   ]
  },
  {
   "cell_type": "code",
   "execution_count": 163,
   "metadata": {},
   "outputs": [
    {
     "data": {
      "text/plain": [
       "()"
      ]
     },
     "execution_count": 163,
     "metadata": {},
     "output_type": "execute_result"
    }
   ],
   "source": [
    "y_pred_test[1].shape"
   ]
  },
  {
   "cell_type": "code",
   "execution_count": 164,
   "metadata": {},
   "outputs": [
    {
     "data": {
      "text/plain": [
       "(1,)"
      ]
     },
     "execution_count": 164,
     "metadata": {},
     "output_type": "execute_result"
    }
   ],
   "source": [
    "y_pred_test[1][y_pred_test[1] == 0].shape"
   ]
  },
  {
   "cell_type": "code",
   "execution_count": 165,
   "metadata": {},
   "outputs": [
    {
     "data": {
      "text/plain": [
       "(1,)"
      ]
     },
     "execution_count": 165,
     "metadata": {},
     "output_type": "execute_result"
    }
   ],
   "source": [
    "pred_test[1][pred_test[1] == 1].shape"
   ]
  },
  {
   "cell_type": "code",
   "execution_count": 166,
   "metadata": {},
   "outputs": [],
   "source": [
    "#pred_test[1][np.where(y_pred_test[1] != pred_test[1])].shape"
   ]
  },
  {
   "cell_type": "code",
   "execution_count": 167,
   "metadata": {},
   "outputs": [
    {
     "data": {
      "text/plain": [
       "(6395,)"
      ]
     },
     "execution_count": 167,
     "metadata": {},
     "output_type": "execute_result"
    }
   ],
   "source": [
    "y_pred_test.shape"
   ]
  },
  {
   "cell_type": "code",
   "execution_count": 168,
   "metadata": {},
   "outputs": [],
   "source": [
    "# tf.math.confusion_matrix(\n",
    "#     y_pred_test[1],\n",
    "#     y_pred_test[1],\n",
    "#     num_classes=1,\n",
    "#     weights=None,\n",
    "#     dtype=tf.dtypes.int64,\n",
    "#     name=None   \n",
    "# )"
   ]
  },
  {
   "cell_type": "code",
   "execution_count": 169,
   "metadata": {},
   "outputs": [],
   "source": [
    "y_pred_test = np.array(y_pred_test)\n",
    "pred_test = np.array(pred_test)"
   ]
  },
  {
   "cell_type": "code",
   "execution_count": 170,
   "metadata": {},
   "outputs": [
    {
     "data": {
      "text/plain": [
       "((), ())"
      ]
     },
     "execution_count": 170,
     "metadata": {},
     "output_type": "execute_result"
    }
   ],
   "source": [
    "y_pred_test[0].shape, pred_test[0].shape"
   ]
  },
  {
   "cell_type": "code",
   "execution_count": 171,
   "metadata": {},
   "outputs": [],
   "source": [
    "#pred_test[0][2]"
   ]
  },
  {
   "cell_type": "code",
   "execution_count": 172,
   "metadata": {},
   "outputs": [],
   "source": [
    "#y_pred_test[0][2]"
   ]
  },
  {
   "cell_type": "code",
   "execution_count": 173,
   "metadata": {},
   "outputs": [],
   "source": [
    "# confusion = sklearn.metrics.confusion_matrix(y_true=y_pred_test[2], y_pred=pred_test[2])\n",
    "# print(confusion)"
   ]
  },
  {
   "cell_type": "code",
   "execution_count": 174,
   "metadata": {},
   "outputs": [
    {
     "data": {
      "text/plain": [
       "6395"
      ]
     },
     "execution_count": 174,
     "metadata": {},
     "output_type": "execute_result"
    }
   ],
   "source": [
    "len(pred_test)"
   ]
  },
  {
   "cell_type": "code",
   "execution_count": 175,
   "metadata": {},
   "outputs": [],
   "source": [
    "# zero_count = 0\n",
    "# one_count = 0\n",
    "# for i in pred_test[2]:\n",
    "#     if i == 0:\n",
    "#         zero_count += 1\n",
    "#     else:\n",
    "#         one_count += 1\n"
   ]
  },
  {
   "cell_type": "code",
   "execution_count": 176,
   "metadata": {},
   "outputs": [],
   "source": [
    "# zero_count"
   ]
  },
  {
   "cell_type": "code",
   "execution_count": 177,
   "metadata": {},
   "outputs": [],
   "source": [
    "# one_count"
   ]
  },
  {
   "cell_type": "code",
   "execution_count": 178,
   "metadata": {},
   "outputs": [
    {
     "data": {
      "text/plain": [
       "['loss', 'accuracy']"
      ]
     },
     "execution_count": 178,
     "metadata": {},
     "output_type": "execute_result"
    }
   ],
   "source": [
    "model.metrics_names"
   ]
  },
  {
   "cell_type": "code",
   "execution_count": 179,
   "metadata": {},
   "outputs": [
    {
     "data": {
      "text/plain": [
       "'accuracy'"
      ]
     },
     "execution_count": 179,
     "metadata": {},
     "output_type": "execute_result"
    }
   ],
   "source": [
    "model.metrics_names[1]"
   ]
  },
  {
   "cell_type": "markdown",
   "metadata": {},
   "source": [
    "### Plot The Model's Training History"
   ]
  },
  {
   "cell_type": "code",
   "execution_count": 180,
   "metadata": {},
   "outputs": [
    {
     "data": {
      "text/plain": [
       "<matplotlib.legend.Legend at 0x2b6b1b0db08>"
      ]
     },
     "execution_count": 180,
     "metadata": {},
     "output_type": "execute_result"
    },
    {
     "data": {
      "image/png": "[encoded data removed]",
      "text/plain": [
       "<Figure size 1440x1080 with 4 Axes>"
      ]
     },
     "metadata": {
      "needs_background": "light"
     },
     "output_type": "display_data"
    }
   ],
   "source": [
    "epochs_range = range(len(history.history[model.metrics_names[1]]))\n",
    "\n",
    "fig, axs = plt.subplots(2, 2, figsize=(20,15))\n",
    "fig.suptitle('CNN with 10 Epochs')\n",
    "\n",
    "\n",
    "axs[0,0].plot(epochs_range, history.history['val_%s'%(model.metrics_names[1])], 'b', label='Impact', color='green')\n",
    "# axs[0,0].plot(epochs_range, history.history['val_%s'%(model.metrics_names[13])], 'b', label='CWE-312', color='blue')\n",
    "# axs[0,0].plot(epochs_range, history.history['val_%s'%(model.metrics_names[14])], 'b', label='CWE-295', color='red')\n",
    "# axs[0,0].plot(epochs_range, history.history['val_%s'%(model.metrics_names[15])], 'b', label='CWE-276', color='purple')\n",
    "# axs[0,0].plot(epochs_range, history.history['val_%s'%(model.metrics_names[16])], 'b', label='CWE-327', color='black')\n",
    "# axs[0,0].plot(epochs_range, history.history['val_%s'%(model.metrics_names[17])], 'b', label='CWE-330', color='yellow')\n",
    "# axs[0,0].plot(epochs_range, history.history['val_%s'%(model.metrics_names[18])], 'b', label='CWE-200', color='brown')\n",
    "# axs[0,0].plot(epochs_range, history.history['val_%s'%(model.metrics_names[19])], 'b', label='CWE-89', color='cyan')\n",
    "# axs[0,0].plot(epochs_range, history.history['val_%s'%(model.metrics_names[20])], 'b', label='CWE-919', color='orange')\n",
    "# axs[0,0].plot(epochs_range, history.history['val_%s'%(model.metrics_names[21])], 'b', label='CWE-649', color='red')\n",
    "# axs[0,0].plot(epochs_range, history.history['val_%s'%(model.metrics_names[22])], 'b', label='CWE-250', color='pink')\n",
    "\n",
    "axs[0,0].set_title('Training accuracy')\n",
    "axs[0,0].legend()\n",
    "\n",
    "\n",
    "axs[0,1].plot(epochs_range, history.history['val_%s'%(model.metrics_names[0])], 'b', label='Impact', color='green')\n",
    "# axs[0,1].plot(epochs_range, history.history['val_%s'%(model.metrics_names[2])], 'b', label='CWE-312', color='blue')\n",
    "# axs[0,1].plot(epochs_range, history.history['val_%s'%(model.metrics_names[3])], 'b', label='CWE-295', color='red')\n",
    "# axs[0,1].plot(epochs_range, history.history['val_%s'%(model.metrics_names[4])], 'b', label='CWE-276', color='purple')\n",
    "# axs[0,1].plot(epochs_range, history.history['val_%s'%(model.metrics_names[5])], 'b', label='CWE-327', color='black')\n",
    "# axs[0,1].plot(epochs_range, history.history['val_%s'%(model.metrics_names[6])], 'b', label='CWE-330', color='yellow')\n",
    "# axs[0,1].plot(epochs_range, history.history['val_%s'%(model.metrics_names[7])], 'b', label='CWE-200', color='brown')\n",
    "# axs[0,1].plot(epochs_range, history.history['val_%s'%(model.metrics_names[8])], 'b', label='CWE-89', color='cyan')\n",
    "# axs[0,1].plot(epochs_range, history.history['val_%s'%(model.metrics_names[9])], 'b', label='CWE-919', color='orange')\n",
    "# axs[0,1].plot(epochs_range, history.history['val_%s'%(model.metrics_names[10])], 'b', label='CWE-649', color='red')\n",
    "# axs[0,1].plot(epochs_range, history.history['val_%s'%(model.metrics_names[11])], 'b', label='CWE-250', color='pink')\n",
    "\n",
    "axs[0,1].set_title('Training Loss')\n",
    "axs[0,1].legend()\n",
    "\n",
    "axs[1,0].plot(epochs_range, history.history['val_%s'%(model.metrics_names[1])], 'b', label='Impact', color='green')\n",
    "# axs[1,0].plot(epochs_range, history.history['val_%s'%(model.metrics_names[13])], 'b', label='CWE-312', color='blue')\n",
    "# axs[1,0].plot(epochs_range, history.history['val_%s'%(model.metrics_names[14])], 'b', label='CWE-295', color='red')\n",
    "# axs[1,0].plot(epochs_range, history.history['val_%s'%(model.metrics_names[15])], 'b', label='CWE-276', color='purple')\n",
    "# axs[1,0].plot(epochs_range, history.history['val_%s'%(model.metrics_names[16])], 'b', label='CWE-327', color='black')\n",
    "# axs[1,0].plot(epochs_range, history.history['val_%s'%(model.metrics_names[17])], 'b', label='CWE-330', color='yellow')\n",
    "# axs[1,0].plot(epochs_range, history.history['val_%s'%(model.metrics_names[18])], 'b', label='CWE-200', color='brown')\n",
    "# axs[1,0].plot(epochs_range, history.history['val_%s'%(model.metrics_names[19])], 'b', label='CWE-89', color='cyan')\n",
    "# axs[1,0].plot(epochs_range, history.history['val_%s'%(model.metrics_names[20])], 'b', label='CWE-919', color='orange')\n",
    "# axs[1,0].plot(epochs_range, history.history['val_%s'%(model.metrics_names[21])], 'b', label='CWE-649', color='red')\n",
    "# axs[1,0].plot(epochs_range, history.history['val_%s'%(model.metrics_names[22])], 'b', label='CWE-250', color='pink')\n",
    "\n",
    "axs[1,0].legend()\n",
    "\n",
    "\n",
    "axs[1,1].plot(epochs_range, history.history['val_%s'%(model.metrics_names[0])], 'b', label='Impact', color='green')\n",
    "# axs[1,1].plot(epochs_range, history.history['val_%s'%(model.metrics_names[2])], 'b', label='CWE-312', color='blue')\n",
    "# axs[1,1].plot(epochs_range, history.history['val_%s'%(model.metrics_names[3])], 'b', label='CWE-295', color='red')\n",
    "# axs[1,1].plot(epochs_range, history.history['val_%s'%(model.metrics_names[4])], 'b', label='CWE-276', color='purple')\n",
    "# axs[1,1].plot(epochs_range, history.history['val_%s'%(model.metrics_names[5])], 'b', label='CWE-327', color='black')\n",
    "# axs[1,1].plot(epochs_range, history.history['val_%s'%(model.metrics_names[6])], 'b', label='CWE-330', color='yellow')\n",
    "# axs[1,1].plot(epochs_range, history.history['val_%s'%(model.metrics_names[7])], 'b', label='CWE-200', color='brown')\n",
    "# axs[1,1].plot(epochs_range, history.history['val_%s'%(model.metrics_names[8])], 'b', label='CWE-89', color='cyan')\n",
    "# axs[1,1].plot(epochs_range, history.history['val_%s'%(model.metrics_names[9])], 'b', label='CWE-919', color='orange')\n",
    "# axs[1,1].plot(epochs_range, history.history['val_%s'%(model.metrics_names[10])], 'b', label='CWE-649', color='red')\n",
    "# axs[1,1].plot(epochs_range, history.history['val_%s'%(model.metrics_names[11])], 'b', label='CWE-250', color='pink')\n",
    "\n",
    "axs[1,1].set_title('Validation Loss')\n",
    "axs[1,1].legend()\n"
   ]
  },
  {
   "cell_type": "code",
   "execution_count": 181,
   "metadata": {},
   "outputs": [
    {
     "data": {
      "text/plain": [
       "0.7357103824615479"
      ]
     },
     "execution_count": 181,
     "metadata": {},
     "output_type": "execute_result"
    }
   ],
   "source": [
    "max(history.history['val_accuracy'])"
   ]
  },
  {
   "cell_type": "code",
   "execution_count": 182,
   "metadata": {},
   "outputs": [
    {
     "data": {
      "text/plain": [
       "dict_keys(['loss', 'accuracy', 'val_loss', 'val_accuracy'])"
      ]
     },
     "execution_count": 182,
     "metadata": {},
     "output_type": "execute_result"
    }
   ],
   "source": [
    "history.history.keys()"
   ]
  },
  {
   "cell_type": "code",
   "execution_count": null,
   "metadata": {},
   "outputs": [
    {
     "data": {
      "text/plain": [
       "'val_accuracy'"
      ]
     },
     "execution_count": 184,
     "metadata": {},
     "output_type": "execute_result"
    }
   ],
   "source": [
    "'val_%s'%(model.metrics_names[1])"
   ]
  }
 ],
 "metadata": {
  "kernelspec": {
   "display_name": "Python 3.7.13 ('svd')",
   "language": "python",
   "name": "python3"
  },
  "language_info": {
   "codemirror_mode": {
    "name": "ipython",
    "version": 3
   },
   "file_extension": ".py",
   "mimetype": "text/x-python",
   "name": "python",
   "nbconvert_exporter": "python",
   "pygments_lexer": "ipython3",
   "version": "3.7.13"
  },
  "vscode": {
   "interpreter": {
    "hash": "5795685b7591ad6ee47dc902cf58908934b9bc83adc9dbccaa69c4155e2ad91d"
   }
  }
 },
 "nbformat": 4,
 "nbformat_minor": 4
}
